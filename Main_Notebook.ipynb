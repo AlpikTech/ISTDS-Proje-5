{
 "cells": [
  {
   "cell_type": "code",
   "id": "initial_id",
   "metadata": {
    "collapsed": true,
    "ExecuteTime": {
     "end_time": "2025-07-15T12:15:01.455909Z",
     "start_time": "2025-07-15T12:15:01.452719Z"
    }
   },
   "source": [
    "import pandas as pd\n",
    "import numpy as np\n",
    "import matplotlib.pyplot as plt\n",
    "import seaborn as sns"
   ],
   "outputs": [],
   "execution_count": 1
  },
  {
   "metadata": {
    "ExecuteTime": {
     "end_time": "2025-07-12T14:09:05.964553Z",
     "start_time": "2025-07-12T14:09:05.727983Z"
    }
   },
   "cell_type": "code",
   "source": [
    "import os\n",
    "import pandas\n",
    "print(pandas.__file__)\n"
   ],
   "id": "12db045724879ce4",
   "outputs": [
    {
     "ename": "AttributeError",
     "evalue": "partially initialized module 'pandas' has no attribute '_pandas_parser_CAPI' (most likely due to a circular import)",
     "output_type": "error",
     "traceback": [
      "\u001B[1;31m---------------------------------------------------------------------------\u001B[0m",
      "\u001B[1;31mAttributeError\u001B[0m                            Traceback (most recent call last)",
      "Cell \u001B[1;32mIn[22], line 2\u001B[0m\n\u001B[0;32m      1\u001B[0m \u001B[38;5;28;01mimport\u001B[39;00m\u001B[38;5;250m \u001B[39m\u001B[38;5;21;01mos\u001B[39;00m\n\u001B[1;32m----> 2\u001B[0m \u001B[38;5;28;01mimport\u001B[39;00m\u001B[38;5;250m \u001B[39m\u001B[38;5;21;01mpandas\u001B[39;00m\n\u001B[0;32m      3\u001B[0m \u001B[38;5;28mprint\u001B[39m(pandas\u001B[38;5;241m.\u001B[39m\u001B[38;5;18m__file__\u001B[39m)\n",
      "File \u001B[1;32m~\\AppData\\Local\\Packages\\PythonSoftwareFoundation.Python.3.12_qbz5n2kfra8p0\\LocalCache\\local-packages\\Python312\\site-packages\\pandas\\__init__.py:151\u001B[0m\n\u001B[0;32m    132\u001B[0m \u001B[38;5;28;01mfrom\u001B[39;00m\u001B[38;5;250m \u001B[39m\u001B[38;5;21;01mpandas\u001B[39;00m\u001B[38;5;21;01m.\u001B[39;00m\u001B[38;5;21;01mcore\u001B[39;00m\u001B[38;5;21;01m.\u001B[39;00m\u001B[38;5;21;01mcomputation\u001B[39;00m\u001B[38;5;21;01m.\u001B[39;00m\u001B[38;5;21;01mapi\u001B[39;00m\u001B[38;5;250m \u001B[39m\u001B[38;5;28;01mimport\u001B[39;00m \u001B[38;5;28meval\u001B[39m\n\u001B[0;32m    134\u001B[0m \u001B[38;5;28;01mfrom\u001B[39;00m\u001B[38;5;250m \u001B[39m\u001B[38;5;21;01mpandas\u001B[39;00m\u001B[38;5;21;01m.\u001B[39;00m\u001B[38;5;21;01mcore\u001B[39;00m\u001B[38;5;21;01m.\u001B[39;00m\u001B[38;5;21;01mreshape\u001B[39;00m\u001B[38;5;21;01m.\u001B[39;00m\u001B[38;5;21;01mapi\u001B[39;00m\u001B[38;5;250m \u001B[39m\u001B[38;5;28;01mimport\u001B[39;00m (\n\u001B[0;32m    135\u001B[0m     concat,\n\u001B[0;32m    136\u001B[0m     lreshape,\n\u001B[1;32m   (...)\u001B[0m\n\u001B[0;32m    148\u001B[0m     qcut,\n\u001B[0;32m    149\u001B[0m )\n\u001B[1;32m--> 151\u001B[0m \u001B[38;5;28;01mfrom\u001B[39;00m\u001B[38;5;250m \u001B[39m\u001B[38;5;21;01mpandas\u001B[39;00m\u001B[38;5;250m \u001B[39m\u001B[38;5;28;01mimport\u001B[39;00m api, arrays, errors, io, plotting, tseries\n\u001B[0;32m    152\u001B[0m \u001B[38;5;28;01mfrom\u001B[39;00m\u001B[38;5;250m \u001B[39m\u001B[38;5;21;01mpandas\u001B[39;00m\u001B[38;5;250m \u001B[39m\u001B[38;5;28;01mimport\u001B[39;00m testing\n\u001B[0;32m    153\u001B[0m \u001B[38;5;28;01mfrom\u001B[39;00m\u001B[38;5;250m \u001B[39m\u001B[38;5;21;01mpandas\u001B[39;00m\u001B[38;5;21;01m.\u001B[39;00m\u001B[38;5;21;01mutil\u001B[39;00m\u001B[38;5;21;01m.\u001B[39;00m\u001B[38;5;21;01m_print_versions\u001B[39;00m\u001B[38;5;250m \u001B[39m\u001B[38;5;28;01mimport\u001B[39;00m show_versions\n",
      "File \u001B[1;32m~\\AppData\\Local\\Packages\\PythonSoftwareFoundation.Python.3.12_qbz5n2kfra8p0\\LocalCache\\local-packages\\Python312\\site-packages\\pandas\\api\\__init__.py:2\u001B[0m\n\u001B[0;32m      1\u001B[0m \u001B[38;5;124;03m\"\"\" public toolkit API \"\"\"\u001B[39;00m\n\u001B[1;32m----> 2\u001B[0m \u001B[38;5;28;01mfrom\u001B[39;00m\u001B[38;5;250m \u001B[39m\u001B[38;5;21;01mpandas\u001B[39;00m\u001B[38;5;21;01m.\u001B[39;00m\u001B[38;5;21;01mapi\u001B[39;00m\u001B[38;5;250m \u001B[39m\u001B[38;5;28;01mimport\u001B[39;00m (\n\u001B[0;32m      3\u001B[0m     extensions,\n\u001B[0;32m      4\u001B[0m     indexers,\n\u001B[0;32m      5\u001B[0m     interchange,\n\u001B[0;32m      6\u001B[0m     types,\n\u001B[0;32m      7\u001B[0m     typing,\n\u001B[0;32m      8\u001B[0m )\n\u001B[0;32m     10\u001B[0m __all__ \u001B[38;5;241m=\u001B[39m [\n\u001B[0;32m     11\u001B[0m     \u001B[38;5;124m\"\u001B[39m\u001B[38;5;124minterchange\u001B[39m\u001B[38;5;124m\"\u001B[39m,\n\u001B[0;32m     12\u001B[0m     \u001B[38;5;124m\"\u001B[39m\u001B[38;5;124mextensions\u001B[39m\u001B[38;5;124m\"\u001B[39m,\n\u001B[1;32m   (...)\u001B[0m\n\u001B[0;32m     15\u001B[0m     \u001B[38;5;124m\"\u001B[39m\u001B[38;5;124mtyping\u001B[39m\u001B[38;5;124m\"\u001B[39m,\n\u001B[0;32m     16\u001B[0m ]\n",
      "File \u001B[1;32m~\\AppData\\Local\\Packages\\PythonSoftwareFoundation.Python.3.12_qbz5n2kfra8p0\\LocalCache\\local-packages\\Python312\\site-packages\\pandas\\api\\typing\\__init__.py:31\u001B[0m\n\u001B[0;32m     19\u001B[0m \u001B[38;5;28;01mfrom\u001B[39;00m\u001B[38;5;250m \u001B[39m\u001B[38;5;21;01mpandas\u001B[39;00m\u001B[38;5;21;01m.\u001B[39;00m\u001B[38;5;21;01mcore\u001B[39;00m\u001B[38;5;21;01m.\u001B[39;00m\u001B[38;5;21;01mwindow\u001B[39;00m\u001B[38;5;250m \u001B[39m\u001B[38;5;28;01mimport\u001B[39;00m (\n\u001B[0;32m     20\u001B[0m     Expanding,\n\u001B[0;32m     21\u001B[0m     ExpandingGroupby,\n\u001B[1;32m   (...)\u001B[0m\n\u001B[0;32m     26\u001B[0m     Window,\n\u001B[0;32m     27\u001B[0m )\n\u001B[0;32m     29\u001B[0m \u001B[38;5;66;03m# TODO: Can't import Styler without importing jinja2\u001B[39;00m\n\u001B[0;32m     30\u001B[0m \u001B[38;5;66;03m# from pandas.io.formats.style import Styler\u001B[39;00m\n\u001B[1;32m---> 31\u001B[0m \u001B[38;5;28;01mfrom\u001B[39;00m\u001B[38;5;250m \u001B[39m\u001B[38;5;21;01mpandas\u001B[39;00m\u001B[38;5;21;01m.\u001B[39;00m\u001B[38;5;21;01mio\u001B[39;00m\u001B[38;5;21;01m.\u001B[39;00m\u001B[38;5;21;01mjson\u001B[39;00m\u001B[38;5;21;01m.\u001B[39;00m\u001B[38;5;21;01m_json\u001B[39;00m\u001B[38;5;250m \u001B[39m\u001B[38;5;28;01mimport\u001B[39;00m JsonReader\n\u001B[0;32m     32\u001B[0m \u001B[38;5;28;01mfrom\u001B[39;00m\u001B[38;5;250m \u001B[39m\u001B[38;5;21;01mpandas\u001B[39;00m\u001B[38;5;21;01m.\u001B[39;00m\u001B[38;5;21;01mio\u001B[39;00m\u001B[38;5;21;01m.\u001B[39;00m\u001B[38;5;21;01mstata\u001B[39;00m\u001B[38;5;250m \u001B[39m\u001B[38;5;28;01mimport\u001B[39;00m StataReader\n\u001B[0;32m     34\u001B[0m __all__ \u001B[38;5;241m=\u001B[39m [\n\u001B[0;32m     35\u001B[0m     \u001B[38;5;124m\"\u001B[39m\u001B[38;5;124mDataFrameGroupBy\u001B[39m\u001B[38;5;124m\"\u001B[39m,\n\u001B[0;32m     36\u001B[0m     \u001B[38;5;124m\"\u001B[39m\u001B[38;5;124mDatetimeIndexResamplerGroupby\u001B[39m\u001B[38;5;124m\"\u001B[39m,\n\u001B[1;32m   (...)\u001B[0m\n\u001B[0;32m     54\u001B[0m     \u001B[38;5;124m\"\u001B[39m\u001B[38;5;124mWindow\u001B[39m\u001B[38;5;124m\"\u001B[39m,\n\u001B[0;32m     55\u001B[0m ]\n",
      "File \u001B[1;32m~\\AppData\\Local\\Packages\\PythonSoftwareFoundation.Python.3.12_qbz5n2kfra8p0\\LocalCache\\local-packages\\Python312\\site-packages\\pandas\\io\\json\\__init__.py:1\u001B[0m\n\u001B[1;32m----> 1\u001B[0m \u001B[38;5;28;01mfrom\u001B[39;00m\u001B[38;5;250m \u001B[39m\u001B[38;5;21;01mpandas\u001B[39;00m\u001B[38;5;21;01m.\u001B[39;00m\u001B[38;5;21;01mio\u001B[39;00m\u001B[38;5;21;01m.\u001B[39;00m\u001B[38;5;21;01mjson\u001B[39;00m\u001B[38;5;21;01m.\u001B[39;00m\u001B[38;5;21;01m_json\u001B[39;00m\u001B[38;5;250m \u001B[39m\u001B[38;5;28;01mimport\u001B[39;00m (\n\u001B[0;32m      2\u001B[0m     read_json,\n\u001B[0;32m      3\u001B[0m     to_json,\n\u001B[0;32m      4\u001B[0m     ujson_dumps,\n\u001B[0;32m      5\u001B[0m     ujson_loads,\n\u001B[0;32m      6\u001B[0m )\n\u001B[0;32m      7\u001B[0m \u001B[38;5;28;01mfrom\u001B[39;00m\u001B[38;5;250m \u001B[39m\u001B[38;5;21;01mpandas\u001B[39;00m\u001B[38;5;21;01m.\u001B[39;00m\u001B[38;5;21;01mio\u001B[39;00m\u001B[38;5;21;01m.\u001B[39;00m\u001B[38;5;21;01mjson\u001B[39;00m\u001B[38;5;21;01m.\u001B[39;00m\u001B[38;5;21;01m_table_schema\u001B[39;00m\u001B[38;5;250m \u001B[39m\u001B[38;5;28;01mimport\u001B[39;00m build_table_schema\n\u001B[0;32m      9\u001B[0m __all__ \u001B[38;5;241m=\u001B[39m [\n\u001B[0;32m     10\u001B[0m     \u001B[38;5;124m\"\u001B[39m\u001B[38;5;124mujson_dumps\u001B[39m\u001B[38;5;124m\"\u001B[39m,\n\u001B[0;32m     11\u001B[0m     \u001B[38;5;124m\"\u001B[39m\u001B[38;5;124mujson_loads\u001B[39m\u001B[38;5;124m\"\u001B[39m,\n\u001B[1;32m   (...)\u001B[0m\n\u001B[0;32m     14\u001B[0m     \u001B[38;5;124m\"\u001B[39m\u001B[38;5;124mbuild_table_schema\u001B[39m\u001B[38;5;124m\"\u001B[39m,\n\u001B[0;32m     15\u001B[0m ]\n",
      "File \u001B[1;32m~\\AppData\\Local\\Packages\\PythonSoftwareFoundation.Python.3.12_qbz5n2kfra8p0\\LocalCache\\local-packages\\Python312\\site-packages\\pandas\\io\\json\\_json.py:71\u001B[0m\n\u001B[0;32m     66\u001B[0m \u001B[38;5;28;01mfrom\u001B[39;00m\u001B[38;5;250m \u001B[39m\u001B[38;5;21;01mpandas\u001B[39;00m\u001B[38;5;21;01m.\u001B[39;00m\u001B[38;5;21;01mio\u001B[39;00m\u001B[38;5;21;01m.\u001B[39;00m\u001B[38;5;21;01mjson\u001B[39;00m\u001B[38;5;21;01m.\u001B[39;00m\u001B[38;5;21;01m_normalize\u001B[39;00m\u001B[38;5;250m \u001B[39m\u001B[38;5;28;01mimport\u001B[39;00m convert_to_line_delimits\n\u001B[0;32m     67\u001B[0m \u001B[38;5;28;01mfrom\u001B[39;00m\u001B[38;5;250m \u001B[39m\u001B[38;5;21;01mpandas\u001B[39;00m\u001B[38;5;21;01m.\u001B[39;00m\u001B[38;5;21;01mio\u001B[39;00m\u001B[38;5;21;01m.\u001B[39;00m\u001B[38;5;21;01mjson\u001B[39;00m\u001B[38;5;21;01m.\u001B[39;00m\u001B[38;5;21;01m_table_schema\u001B[39;00m\u001B[38;5;250m \u001B[39m\u001B[38;5;28;01mimport\u001B[39;00m (\n\u001B[0;32m     68\u001B[0m     build_table_schema,\n\u001B[0;32m     69\u001B[0m     parse_table_schema,\n\u001B[0;32m     70\u001B[0m )\n\u001B[1;32m---> 71\u001B[0m \u001B[38;5;28;01mfrom\u001B[39;00m\u001B[38;5;250m \u001B[39m\u001B[38;5;21;01mpandas\u001B[39;00m\u001B[38;5;21;01m.\u001B[39;00m\u001B[38;5;21;01mio\u001B[39;00m\u001B[38;5;21;01m.\u001B[39;00m\u001B[38;5;21;01mparsers\u001B[39;00m\u001B[38;5;21;01m.\u001B[39;00m\u001B[38;5;21;01mreaders\u001B[39;00m\u001B[38;5;250m \u001B[39m\u001B[38;5;28;01mimport\u001B[39;00m validate_integer\n\u001B[0;32m     73\u001B[0m \u001B[38;5;28;01mif\u001B[39;00m TYPE_CHECKING:\n\u001B[0;32m     74\u001B[0m     \u001B[38;5;28;01mfrom\u001B[39;00m\u001B[38;5;250m \u001B[39m\u001B[38;5;21;01mcollections\u001B[39;00m\u001B[38;5;21;01m.\u001B[39;00m\u001B[38;5;21;01mabc\u001B[39;00m\u001B[38;5;250m \u001B[39m\u001B[38;5;28;01mimport\u001B[39;00m (\n\u001B[0;32m     75\u001B[0m         Hashable,\n\u001B[0;32m     76\u001B[0m         Mapping,\n\u001B[0;32m     77\u001B[0m     )\n",
      "File \u001B[1;32m~\\AppData\\Local\\Packages\\PythonSoftwareFoundation.Python.3.12_qbz5n2kfra8p0\\LocalCache\\local-packages\\Python312\\site-packages\\pandas\\io\\parsers\\__init__.py:1\u001B[0m\n\u001B[1;32m----> 1\u001B[0m \u001B[38;5;28;01mfrom\u001B[39;00m\u001B[38;5;250m \u001B[39m\u001B[38;5;21;01mpandas\u001B[39;00m\u001B[38;5;21;01m.\u001B[39;00m\u001B[38;5;21;01mio\u001B[39;00m\u001B[38;5;21;01m.\u001B[39;00m\u001B[38;5;21;01mparsers\u001B[39;00m\u001B[38;5;21;01m.\u001B[39;00m\u001B[38;5;21;01mreaders\u001B[39;00m\u001B[38;5;250m \u001B[39m\u001B[38;5;28;01mimport\u001B[39;00m (\n\u001B[0;32m      2\u001B[0m     TextFileReader,\n\u001B[0;32m      3\u001B[0m     TextParser,\n\u001B[0;32m      4\u001B[0m     read_csv,\n\u001B[0;32m      5\u001B[0m     read_fwf,\n\u001B[0;32m      6\u001B[0m     read_table,\n\u001B[0;32m      7\u001B[0m )\n\u001B[0;32m      9\u001B[0m __all__ \u001B[38;5;241m=\u001B[39m [\u001B[38;5;124m\"\u001B[39m\u001B[38;5;124mTextFileReader\u001B[39m\u001B[38;5;124m\"\u001B[39m, \u001B[38;5;124m\"\u001B[39m\u001B[38;5;124mTextParser\u001B[39m\u001B[38;5;124m\"\u001B[39m, \u001B[38;5;124m\"\u001B[39m\u001B[38;5;124mread_csv\u001B[39m\u001B[38;5;124m\"\u001B[39m, \u001B[38;5;124m\"\u001B[39m\u001B[38;5;124mread_fwf\u001B[39m\u001B[38;5;124m\"\u001B[39m, \u001B[38;5;124m\"\u001B[39m\u001B[38;5;124mread_table\u001B[39m\u001B[38;5;124m\"\u001B[39m]\n",
      "File \u001B[1;32m~\\AppData\\Local\\Packages\\PythonSoftwareFoundation.Python.3.12_qbz5n2kfra8p0\\LocalCache\\local-packages\\Python312\\site-packages\\pandas\\io\\parsers\\readers.py:32\u001B[0m\n\u001B[0;32m     29\u001B[0m \u001B[38;5;28;01mfrom\u001B[39;00m\u001B[38;5;250m \u001B[39m\u001B[38;5;21;01mpandas\u001B[39;00m\u001B[38;5;21;01m.\u001B[39;00m\u001B[38;5;21;01m_config\u001B[39;00m\u001B[38;5;250m \u001B[39m\u001B[38;5;28;01mimport\u001B[39;00m using_copy_on_write\n\u001B[0;32m     31\u001B[0m \u001B[38;5;28;01mfrom\u001B[39;00m\u001B[38;5;250m \u001B[39m\u001B[38;5;21;01mpandas\u001B[39;00m\u001B[38;5;21;01m.\u001B[39;00m\u001B[38;5;21;01m_libs\u001B[39;00m\u001B[38;5;250m \u001B[39m\u001B[38;5;28;01mimport\u001B[39;00m lib\n\u001B[1;32m---> 32\u001B[0m \u001B[38;5;28;01mfrom\u001B[39;00m\u001B[38;5;250m \u001B[39m\u001B[38;5;21;01mpandas\u001B[39;00m\u001B[38;5;21;01m.\u001B[39;00m\u001B[38;5;21;01m_libs\u001B[39;00m\u001B[38;5;21;01m.\u001B[39;00m\u001B[38;5;21;01mparsers\u001B[39;00m\u001B[38;5;250m \u001B[39m\u001B[38;5;28;01mimport\u001B[39;00m STR_NA_VALUES\n\u001B[0;32m     33\u001B[0m \u001B[38;5;28;01mfrom\u001B[39;00m\u001B[38;5;250m \u001B[39m\u001B[38;5;21;01mpandas\u001B[39;00m\u001B[38;5;21;01m.\u001B[39;00m\u001B[38;5;21;01merrors\u001B[39;00m\u001B[38;5;250m \u001B[39m\u001B[38;5;28;01mimport\u001B[39;00m (\n\u001B[0;32m     34\u001B[0m     AbstractMethodError,\n\u001B[0;32m     35\u001B[0m     ParserWarning,\n\u001B[0;32m     36\u001B[0m )\n\u001B[0;32m     37\u001B[0m \u001B[38;5;28;01mfrom\u001B[39;00m\u001B[38;5;250m \u001B[39m\u001B[38;5;21;01mpandas\u001B[39;00m\u001B[38;5;21;01m.\u001B[39;00m\u001B[38;5;21;01mutil\u001B[39;00m\u001B[38;5;21;01m.\u001B[39;00m\u001B[38;5;21;01m_decorators\u001B[39;00m\u001B[38;5;250m \u001B[39m\u001B[38;5;28;01mimport\u001B[39;00m Appender\n",
      "File \u001B[1;32mparsers.pyx:1418\u001B[0m, in \u001B[0;36minit pandas._libs.parsers\u001B[1;34m()\u001B[0m\n",
      "\u001B[1;31mAttributeError\u001B[0m: partially initialized module 'pandas' has no attribute '_pandas_parser_CAPI' (most likely due to a circular import)"
     ]
    }
   ],
   "execution_count": 22
  },
  {
   "metadata": {
    "ExecuteTime": {
     "end_time": "2025-07-12T12:09:36.535846Z",
     "start_time": "2025-07-12T12:09:16.959230Z"
    }
   },
   "cell_type": "code",
   "source": [
    "!pip uninstall pandas -y\n",
    "!pip install pandas --no-cache-dir\n"
   ],
   "id": "cafd92c78acf2f71",
   "outputs": [
    {
     "name": "stdout",
     "output_type": "stream",
     "text": [
      "Found existing installation: pandas 2.2.2\n",
      "Uninstalling pandas-2.2.2:\n",
      "  Successfully uninstalled pandas-2.2.2\n",
      "Defaulting to user installation because normal site-packages is not writeable\n",
      "Collecting pandas\n",
      "  Downloading pandas-2.3.1-cp312-cp312-win_amd64.whl.metadata (19 kB)\n",
      "Requirement already satisfied: numpy>=1.26.0 in c:\\users\\alpar\\appdata\\local\\packages\\pythonsoftwarefoundation.python.3.12_qbz5n2kfra8p0\\localcache\\local-packages\\python312\\site-packages (from pandas) (1.26.4)\n",
      "Requirement already satisfied: python-dateutil>=2.8.2 in c:\\users\\alpar\\appdata\\local\\packages\\pythonsoftwarefoundation.python.3.12_qbz5n2kfra8p0\\localcache\\local-packages\\python312\\site-packages (from pandas) (2.9.0.post0)\n",
      "Requirement already satisfied: pytz>=2020.1 in c:\\users\\alpar\\appdata\\local\\packages\\pythonsoftwarefoundation.python.3.12_qbz5n2kfra8p0\\localcache\\local-packages\\python312\\site-packages (from pandas) (2025.2)\n",
      "Requirement already satisfied: tzdata>=2022.7 in c:\\users\\alpar\\appdata\\local\\packages\\pythonsoftwarefoundation.python.3.12_qbz5n2kfra8p0\\localcache\\local-packages\\python312\\site-packages (from pandas) (2025.2)\n",
      "Requirement already satisfied: six>=1.5 in c:\\users\\alpar\\appdata\\local\\packages\\pythonsoftwarefoundation.python.3.12_qbz5n2kfra8p0\\localcache\\local-packages\\python312\\site-packages (from python-dateutil>=2.8.2->pandas) (1.17.0)\n",
      "Downloading pandas-2.3.1-cp312-cp312-win_amd64.whl (11.0 MB)\n",
      "   ---------------------------------------- 0.0/11.0 MB ? eta -:--:--\n",
      "   --- ------------------------------------ 1.0/11.0 MB 6.3 MB/s eta 0:00:02\n",
      "   -------- ------------------------------- 2.4/11.0 MB 6.1 MB/s eta 0:00:02\n",
      "   ------------ --------------------------- 3.4/11.0 MB 5.9 MB/s eta 0:00:02\n",
      "   ----------------- ---------------------- 4.7/11.0 MB 6.2 MB/s eta 0:00:02\n",
      "   ---------------------- ----------------- 6.3/11.0 MB 6.3 MB/s eta 0:00:01\n",
      "   --------------------------- ------------ 7.6/11.0 MB 6.3 MB/s eta 0:00:01\n",
      "   -------------------------------- ------- 8.9/11.0 MB 6.4 MB/s eta 0:00:01\n",
      "   -------------------------------------- - 10.5/11.0 MB 6.5 MB/s eta 0:00:01\n",
      "   ---------------------------------------- 11.0/11.0 MB 6.5 MB/s eta 0:00:00\n",
      "Installing collected packages: pandas\n",
      "Successfully installed pandas-2.3.1\n"
     ]
    },
    {
     "name": "stderr",
     "output_type": "stream",
     "text": [
      "\n",
      "[notice] A new release of pip is available: 25.0 -> 25.1.1\n",
      "[notice] To update, run: C:\\Users\\alpar\\AppData\\Local\\Microsoft\\WindowsApps\\PythonSoftwareFoundation.Python.3.12_qbz5n2kfra8p0\\python.exe -m pip install --upgrade pip\n"
     ]
    }
   ],
   "execution_count": 20
  },
  {
   "metadata": {
    "ExecuteTime": {
     "end_time": "2025-07-12T12:06:48.645387Z",
     "start_time": "2025-07-12T12:06:47.541742Z"
    }
   },
   "cell_type": "code",
   "source": [
    "import pandas as pd\n",
    "print(pd.__version__)\n"
   ],
   "id": "d086d87c92af7e0a",
   "outputs": [
    {
     "ename": "AttributeError",
     "evalue": "partially initialized module 'pandas' has no attribute '_pandas_parser_CAPI' (most likely due to a circular import)",
     "output_type": "error",
     "traceback": [
      "\u001B[1;31m---------------------------------------------------------------------------\u001B[0m",
      "\u001B[1;31mAttributeError\u001B[0m                            Traceback (most recent call last)",
      "Cell \u001B[1;32mIn[17], line 1\u001B[0m\n\u001B[1;32m----> 1\u001B[0m \u001B[38;5;28;01mimport\u001B[39;00m\u001B[38;5;250m \u001B[39m\u001B[38;5;21;01mpandas\u001B[39;00m\u001B[38;5;250m \u001B[39m\u001B[38;5;28;01mas\u001B[39;00m\u001B[38;5;250m \u001B[39m\u001B[38;5;21;01mpd\u001B[39;00m\n\u001B[0;32m      2\u001B[0m \u001B[38;5;28mprint\u001B[39m(pd\u001B[38;5;241m.\u001B[39m__version__)\n",
      "File \u001B[1;32m~\\AppData\\Local\\Packages\\PythonSoftwareFoundation.Python.3.12_qbz5n2kfra8p0\\LocalCache\\local-packages\\Python312\\site-packages\\pandas\\__init__.py:151\u001B[0m\n\u001B[0;32m    132\u001B[0m \u001B[38;5;28;01mfrom\u001B[39;00m\u001B[38;5;250m \u001B[39m\u001B[38;5;21;01mpandas\u001B[39;00m\u001B[38;5;21;01m.\u001B[39;00m\u001B[38;5;21;01mcore\u001B[39;00m\u001B[38;5;21;01m.\u001B[39;00m\u001B[38;5;21;01mcomputation\u001B[39;00m\u001B[38;5;21;01m.\u001B[39;00m\u001B[38;5;21;01mapi\u001B[39;00m\u001B[38;5;250m \u001B[39m\u001B[38;5;28;01mimport\u001B[39;00m \u001B[38;5;28meval\u001B[39m\n\u001B[0;32m    134\u001B[0m \u001B[38;5;28;01mfrom\u001B[39;00m\u001B[38;5;250m \u001B[39m\u001B[38;5;21;01mpandas\u001B[39;00m\u001B[38;5;21;01m.\u001B[39;00m\u001B[38;5;21;01mcore\u001B[39;00m\u001B[38;5;21;01m.\u001B[39;00m\u001B[38;5;21;01mreshape\u001B[39;00m\u001B[38;5;21;01m.\u001B[39;00m\u001B[38;5;21;01mapi\u001B[39;00m\u001B[38;5;250m \u001B[39m\u001B[38;5;28;01mimport\u001B[39;00m (\n\u001B[0;32m    135\u001B[0m     concat,\n\u001B[0;32m    136\u001B[0m     lreshape,\n\u001B[1;32m   (...)\u001B[0m\n\u001B[0;32m    148\u001B[0m     qcut,\n\u001B[0;32m    149\u001B[0m )\n\u001B[1;32m--> 151\u001B[0m \u001B[38;5;28;01mfrom\u001B[39;00m\u001B[38;5;250m \u001B[39m\u001B[38;5;21;01mpandas\u001B[39;00m\u001B[38;5;250m \u001B[39m\u001B[38;5;28;01mimport\u001B[39;00m api, arrays, errors, io, plotting, tseries\n\u001B[0;32m    152\u001B[0m \u001B[38;5;28;01mfrom\u001B[39;00m\u001B[38;5;250m \u001B[39m\u001B[38;5;21;01mpandas\u001B[39;00m\u001B[38;5;250m \u001B[39m\u001B[38;5;28;01mimport\u001B[39;00m testing\n\u001B[0;32m    153\u001B[0m \u001B[38;5;28;01mfrom\u001B[39;00m\u001B[38;5;250m \u001B[39m\u001B[38;5;21;01mpandas\u001B[39;00m\u001B[38;5;21;01m.\u001B[39;00m\u001B[38;5;21;01mutil\u001B[39;00m\u001B[38;5;21;01m.\u001B[39;00m\u001B[38;5;21;01m_print_versions\u001B[39;00m\u001B[38;5;250m \u001B[39m\u001B[38;5;28;01mimport\u001B[39;00m show_versions\n",
      "File \u001B[1;32m~\\AppData\\Local\\Packages\\PythonSoftwareFoundation.Python.3.12_qbz5n2kfra8p0\\LocalCache\\local-packages\\Python312\\site-packages\\pandas\\api\\__init__.py:2\u001B[0m\n\u001B[0;32m      1\u001B[0m \u001B[38;5;124;03m\"\"\" public toolkit API \"\"\"\u001B[39;00m\n\u001B[1;32m----> 2\u001B[0m \u001B[38;5;28;01mfrom\u001B[39;00m\u001B[38;5;250m \u001B[39m\u001B[38;5;21;01mpandas\u001B[39;00m\u001B[38;5;21;01m.\u001B[39;00m\u001B[38;5;21;01mapi\u001B[39;00m\u001B[38;5;250m \u001B[39m\u001B[38;5;28;01mimport\u001B[39;00m (\n\u001B[0;32m      3\u001B[0m     extensions,\n\u001B[0;32m      4\u001B[0m     indexers,\n\u001B[0;32m      5\u001B[0m     interchange,\n\u001B[0;32m      6\u001B[0m     types,\n\u001B[0;32m      7\u001B[0m     typing,\n\u001B[0;32m      8\u001B[0m )\n\u001B[0;32m     10\u001B[0m __all__ \u001B[38;5;241m=\u001B[39m [\n\u001B[0;32m     11\u001B[0m     \u001B[38;5;124m\"\u001B[39m\u001B[38;5;124minterchange\u001B[39m\u001B[38;5;124m\"\u001B[39m,\n\u001B[0;32m     12\u001B[0m     \u001B[38;5;124m\"\u001B[39m\u001B[38;5;124mextensions\u001B[39m\u001B[38;5;124m\"\u001B[39m,\n\u001B[1;32m   (...)\u001B[0m\n\u001B[0;32m     15\u001B[0m     \u001B[38;5;124m\"\u001B[39m\u001B[38;5;124mtyping\u001B[39m\u001B[38;5;124m\"\u001B[39m,\n\u001B[0;32m     16\u001B[0m ]\n",
      "File \u001B[1;32m~\\AppData\\Local\\Packages\\PythonSoftwareFoundation.Python.3.12_qbz5n2kfra8p0\\LocalCache\\local-packages\\Python312\\site-packages\\pandas\\api\\typing\\__init__.py:31\u001B[0m\n\u001B[0;32m     19\u001B[0m \u001B[38;5;28;01mfrom\u001B[39;00m\u001B[38;5;250m \u001B[39m\u001B[38;5;21;01mpandas\u001B[39;00m\u001B[38;5;21;01m.\u001B[39;00m\u001B[38;5;21;01mcore\u001B[39;00m\u001B[38;5;21;01m.\u001B[39;00m\u001B[38;5;21;01mwindow\u001B[39;00m\u001B[38;5;250m \u001B[39m\u001B[38;5;28;01mimport\u001B[39;00m (\n\u001B[0;32m     20\u001B[0m     Expanding,\n\u001B[0;32m     21\u001B[0m     ExpandingGroupby,\n\u001B[1;32m   (...)\u001B[0m\n\u001B[0;32m     26\u001B[0m     Window,\n\u001B[0;32m     27\u001B[0m )\n\u001B[0;32m     29\u001B[0m \u001B[38;5;66;03m# TODO: Can't import Styler without importing jinja2\u001B[39;00m\n\u001B[0;32m     30\u001B[0m \u001B[38;5;66;03m# from pandas.io.formats.style import Styler\u001B[39;00m\n\u001B[1;32m---> 31\u001B[0m \u001B[38;5;28;01mfrom\u001B[39;00m\u001B[38;5;250m \u001B[39m\u001B[38;5;21;01mpandas\u001B[39;00m\u001B[38;5;21;01m.\u001B[39;00m\u001B[38;5;21;01mio\u001B[39;00m\u001B[38;5;21;01m.\u001B[39;00m\u001B[38;5;21;01mjson\u001B[39;00m\u001B[38;5;21;01m.\u001B[39;00m\u001B[38;5;21;01m_json\u001B[39;00m\u001B[38;5;250m \u001B[39m\u001B[38;5;28;01mimport\u001B[39;00m JsonReader\n\u001B[0;32m     32\u001B[0m \u001B[38;5;28;01mfrom\u001B[39;00m\u001B[38;5;250m \u001B[39m\u001B[38;5;21;01mpandas\u001B[39;00m\u001B[38;5;21;01m.\u001B[39;00m\u001B[38;5;21;01mio\u001B[39;00m\u001B[38;5;21;01m.\u001B[39;00m\u001B[38;5;21;01mstata\u001B[39;00m\u001B[38;5;250m \u001B[39m\u001B[38;5;28;01mimport\u001B[39;00m StataReader\n\u001B[0;32m     34\u001B[0m __all__ \u001B[38;5;241m=\u001B[39m [\n\u001B[0;32m     35\u001B[0m     \u001B[38;5;124m\"\u001B[39m\u001B[38;5;124mDataFrameGroupBy\u001B[39m\u001B[38;5;124m\"\u001B[39m,\n\u001B[0;32m     36\u001B[0m     \u001B[38;5;124m\"\u001B[39m\u001B[38;5;124mDatetimeIndexResamplerGroupby\u001B[39m\u001B[38;5;124m\"\u001B[39m,\n\u001B[1;32m   (...)\u001B[0m\n\u001B[0;32m     54\u001B[0m     \u001B[38;5;124m\"\u001B[39m\u001B[38;5;124mWindow\u001B[39m\u001B[38;5;124m\"\u001B[39m,\n\u001B[0;32m     55\u001B[0m ]\n",
      "File \u001B[1;32m~\\AppData\\Local\\Packages\\PythonSoftwareFoundation.Python.3.12_qbz5n2kfra8p0\\LocalCache\\local-packages\\Python312\\site-packages\\pandas\\io\\json\\__init__.py:1\u001B[0m\n\u001B[1;32m----> 1\u001B[0m \u001B[38;5;28;01mfrom\u001B[39;00m\u001B[38;5;250m \u001B[39m\u001B[38;5;21;01mpandas\u001B[39;00m\u001B[38;5;21;01m.\u001B[39;00m\u001B[38;5;21;01mio\u001B[39;00m\u001B[38;5;21;01m.\u001B[39;00m\u001B[38;5;21;01mjson\u001B[39;00m\u001B[38;5;21;01m.\u001B[39;00m\u001B[38;5;21;01m_json\u001B[39;00m\u001B[38;5;250m \u001B[39m\u001B[38;5;28;01mimport\u001B[39;00m (\n\u001B[0;32m      2\u001B[0m     read_json,\n\u001B[0;32m      3\u001B[0m     to_json,\n\u001B[0;32m      4\u001B[0m     ujson_dumps,\n\u001B[0;32m      5\u001B[0m     ujson_loads,\n\u001B[0;32m      6\u001B[0m )\n\u001B[0;32m      7\u001B[0m \u001B[38;5;28;01mfrom\u001B[39;00m\u001B[38;5;250m \u001B[39m\u001B[38;5;21;01mpandas\u001B[39;00m\u001B[38;5;21;01m.\u001B[39;00m\u001B[38;5;21;01mio\u001B[39;00m\u001B[38;5;21;01m.\u001B[39;00m\u001B[38;5;21;01mjson\u001B[39;00m\u001B[38;5;21;01m.\u001B[39;00m\u001B[38;5;21;01m_table_schema\u001B[39;00m\u001B[38;5;250m \u001B[39m\u001B[38;5;28;01mimport\u001B[39;00m build_table_schema\n\u001B[0;32m      9\u001B[0m __all__ \u001B[38;5;241m=\u001B[39m [\n\u001B[0;32m     10\u001B[0m     \u001B[38;5;124m\"\u001B[39m\u001B[38;5;124mujson_dumps\u001B[39m\u001B[38;5;124m\"\u001B[39m,\n\u001B[0;32m     11\u001B[0m     \u001B[38;5;124m\"\u001B[39m\u001B[38;5;124mujson_loads\u001B[39m\u001B[38;5;124m\"\u001B[39m,\n\u001B[1;32m   (...)\u001B[0m\n\u001B[0;32m     14\u001B[0m     \u001B[38;5;124m\"\u001B[39m\u001B[38;5;124mbuild_table_schema\u001B[39m\u001B[38;5;124m\"\u001B[39m,\n\u001B[0;32m     15\u001B[0m ]\n",
      "File \u001B[1;32m~\\AppData\\Local\\Packages\\PythonSoftwareFoundation.Python.3.12_qbz5n2kfra8p0\\LocalCache\\local-packages\\Python312\\site-packages\\pandas\\io\\json\\_json.py:71\u001B[0m\n\u001B[0;32m     66\u001B[0m \u001B[38;5;28;01mfrom\u001B[39;00m\u001B[38;5;250m \u001B[39m\u001B[38;5;21;01mpandas\u001B[39;00m\u001B[38;5;21;01m.\u001B[39;00m\u001B[38;5;21;01mio\u001B[39;00m\u001B[38;5;21;01m.\u001B[39;00m\u001B[38;5;21;01mjson\u001B[39;00m\u001B[38;5;21;01m.\u001B[39;00m\u001B[38;5;21;01m_normalize\u001B[39;00m\u001B[38;5;250m \u001B[39m\u001B[38;5;28;01mimport\u001B[39;00m convert_to_line_delimits\n\u001B[0;32m     67\u001B[0m \u001B[38;5;28;01mfrom\u001B[39;00m\u001B[38;5;250m \u001B[39m\u001B[38;5;21;01mpandas\u001B[39;00m\u001B[38;5;21;01m.\u001B[39;00m\u001B[38;5;21;01mio\u001B[39;00m\u001B[38;5;21;01m.\u001B[39;00m\u001B[38;5;21;01mjson\u001B[39;00m\u001B[38;5;21;01m.\u001B[39;00m\u001B[38;5;21;01m_table_schema\u001B[39;00m\u001B[38;5;250m \u001B[39m\u001B[38;5;28;01mimport\u001B[39;00m (\n\u001B[0;32m     68\u001B[0m     build_table_schema,\n\u001B[0;32m     69\u001B[0m     parse_table_schema,\n\u001B[0;32m     70\u001B[0m )\n\u001B[1;32m---> 71\u001B[0m \u001B[38;5;28;01mfrom\u001B[39;00m\u001B[38;5;250m \u001B[39m\u001B[38;5;21;01mpandas\u001B[39;00m\u001B[38;5;21;01m.\u001B[39;00m\u001B[38;5;21;01mio\u001B[39;00m\u001B[38;5;21;01m.\u001B[39;00m\u001B[38;5;21;01mparsers\u001B[39;00m\u001B[38;5;21;01m.\u001B[39;00m\u001B[38;5;21;01mreaders\u001B[39;00m\u001B[38;5;250m \u001B[39m\u001B[38;5;28;01mimport\u001B[39;00m validate_integer\n\u001B[0;32m     73\u001B[0m \u001B[38;5;28;01mif\u001B[39;00m TYPE_CHECKING:\n\u001B[0;32m     74\u001B[0m     \u001B[38;5;28;01mfrom\u001B[39;00m\u001B[38;5;250m \u001B[39m\u001B[38;5;21;01mcollections\u001B[39;00m\u001B[38;5;21;01m.\u001B[39;00m\u001B[38;5;21;01mabc\u001B[39;00m\u001B[38;5;250m \u001B[39m\u001B[38;5;28;01mimport\u001B[39;00m (\n\u001B[0;32m     75\u001B[0m         Hashable,\n\u001B[0;32m     76\u001B[0m         Mapping,\n\u001B[0;32m     77\u001B[0m     )\n",
      "File \u001B[1;32m~\\AppData\\Local\\Packages\\PythonSoftwareFoundation.Python.3.12_qbz5n2kfra8p0\\LocalCache\\local-packages\\Python312\\site-packages\\pandas\\io\\parsers\\__init__.py:1\u001B[0m\n\u001B[1;32m----> 1\u001B[0m \u001B[38;5;28;01mfrom\u001B[39;00m\u001B[38;5;250m \u001B[39m\u001B[38;5;21;01mpandas\u001B[39;00m\u001B[38;5;21;01m.\u001B[39;00m\u001B[38;5;21;01mio\u001B[39;00m\u001B[38;5;21;01m.\u001B[39;00m\u001B[38;5;21;01mparsers\u001B[39;00m\u001B[38;5;21;01m.\u001B[39;00m\u001B[38;5;21;01mreaders\u001B[39;00m\u001B[38;5;250m \u001B[39m\u001B[38;5;28;01mimport\u001B[39;00m (\n\u001B[0;32m      2\u001B[0m     TextFileReader,\n\u001B[0;32m      3\u001B[0m     TextParser,\n\u001B[0;32m      4\u001B[0m     read_csv,\n\u001B[0;32m      5\u001B[0m     read_fwf,\n\u001B[0;32m      6\u001B[0m     read_table,\n\u001B[0;32m      7\u001B[0m )\n\u001B[0;32m      9\u001B[0m __all__ \u001B[38;5;241m=\u001B[39m [\u001B[38;5;124m\"\u001B[39m\u001B[38;5;124mTextFileReader\u001B[39m\u001B[38;5;124m\"\u001B[39m, \u001B[38;5;124m\"\u001B[39m\u001B[38;5;124mTextParser\u001B[39m\u001B[38;5;124m\"\u001B[39m, \u001B[38;5;124m\"\u001B[39m\u001B[38;5;124mread_csv\u001B[39m\u001B[38;5;124m\"\u001B[39m, \u001B[38;5;124m\"\u001B[39m\u001B[38;5;124mread_fwf\u001B[39m\u001B[38;5;124m\"\u001B[39m, \u001B[38;5;124m\"\u001B[39m\u001B[38;5;124mread_table\u001B[39m\u001B[38;5;124m\"\u001B[39m]\n",
      "File \u001B[1;32m~\\AppData\\Local\\Packages\\PythonSoftwareFoundation.Python.3.12_qbz5n2kfra8p0\\LocalCache\\local-packages\\Python312\\site-packages\\pandas\\io\\parsers\\readers.py:32\u001B[0m\n\u001B[0;32m     29\u001B[0m \u001B[38;5;28;01mfrom\u001B[39;00m\u001B[38;5;250m \u001B[39m\u001B[38;5;21;01mpandas\u001B[39;00m\u001B[38;5;21;01m.\u001B[39;00m\u001B[38;5;21;01m_config\u001B[39;00m\u001B[38;5;250m \u001B[39m\u001B[38;5;28;01mimport\u001B[39;00m using_copy_on_write\n\u001B[0;32m     31\u001B[0m \u001B[38;5;28;01mfrom\u001B[39;00m\u001B[38;5;250m \u001B[39m\u001B[38;5;21;01mpandas\u001B[39;00m\u001B[38;5;21;01m.\u001B[39;00m\u001B[38;5;21;01m_libs\u001B[39;00m\u001B[38;5;250m \u001B[39m\u001B[38;5;28;01mimport\u001B[39;00m lib\n\u001B[1;32m---> 32\u001B[0m \u001B[38;5;28;01mfrom\u001B[39;00m\u001B[38;5;250m \u001B[39m\u001B[38;5;21;01mpandas\u001B[39;00m\u001B[38;5;21;01m.\u001B[39;00m\u001B[38;5;21;01m_libs\u001B[39;00m\u001B[38;5;21;01m.\u001B[39;00m\u001B[38;5;21;01mparsers\u001B[39;00m\u001B[38;5;250m \u001B[39m\u001B[38;5;28;01mimport\u001B[39;00m STR_NA_VALUES\n\u001B[0;32m     33\u001B[0m \u001B[38;5;28;01mfrom\u001B[39;00m\u001B[38;5;250m \u001B[39m\u001B[38;5;21;01mpandas\u001B[39;00m\u001B[38;5;21;01m.\u001B[39;00m\u001B[38;5;21;01merrors\u001B[39;00m\u001B[38;5;250m \u001B[39m\u001B[38;5;28;01mimport\u001B[39;00m (\n\u001B[0;32m     34\u001B[0m     AbstractMethodError,\n\u001B[0;32m     35\u001B[0m     ParserWarning,\n\u001B[0;32m     36\u001B[0m )\n\u001B[0;32m     37\u001B[0m \u001B[38;5;28;01mfrom\u001B[39;00m\u001B[38;5;250m \u001B[39m\u001B[38;5;21;01mpandas\u001B[39;00m\u001B[38;5;21;01m.\u001B[39;00m\u001B[38;5;21;01mutil\u001B[39;00m\u001B[38;5;21;01m.\u001B[39;00m\u001B[38;5;21;01m_decorators\u001B[39;00m\u001B[38;5;250m \u001B[39m\u001B[38;5;28;01mimport\u001B[39;00m Appender\n",
      "File \u001B[1;32mparsers.pyx:1418\u001B[0m, in \u001B[0;36minit pandas._libs.parsers\u001B[1;34m()\u001B[0m\n",
      "\u001B[1;31mAttributeError\u001B[0m: partially initialized module 'pandas' has no attribute '_pandas_parser_CAPI' (most likely due to a circular import)"
     ]
    }
   ],
   "execution_count": 17
  },
  {
   "metadata": {
    "ExecuteTime": {
     "end_time": "2025-07-12T07:34:55.148899Z",
     "start_time": "2025-07-12T07:21:04.355317Z"
    }
   },
   "cell_type": "code",
   "source": [
    "# Pandas'ı kaldırın ve yeniden yükleyin\n",
    "!pip uninstall pandas\n",
    "!pip install pandas==2.2.3"
   ],
   "id": "e861154aa06e1b63",
   "outputs": [
    {
     "name": "stdout",
     "output_type": "stream",
     "text": [
      "^C\n",
      "Defaulting to user installation because normal site-packages is not writeable\n",
      "Requirement already satisfied: pandas==2.2.3 in c:\\users\\alpar\\appdata\\local\\packages\\pythonsoftwarefoundation.python.3.12_qbz5n2kfra8p0\\localcache\\local-packages\\python312\\site-packages (2.2.3)\n",
      "Requirement already satisfied: numpy>=1.26.0 in c:\\users\\alpar\\appdata\\local\\packages\\pythonsoftwarefoundation.python.3.12_qbz5n2kfra8p0\\localcache\\local-packages\\python312\\site-packages (from pandas==2.2.3) (2.1.3)\n",
      "Requirement already satisfied: python-dateutil>=2.8.2 in c:\\users\\alpar\\appdata\\local\\packages\\pythonsoftwarefoundation.python.3.12_qbz5n2kfra8p0\\localcache\\local-packages\\python312\\site-packages (from pandas==2.2.3) (2.9.0.post0)\n",
      "Requirement already satisfied: pytz>=2020.1 in c:\\users\\alpar\\appdata\\local\\packages\\pythonsoftwarefoundation.python.3.12_qbz5n2kfra8p0\\localcache\\local-packages\\python312\\site-packages (from pandas==2.2.3) (2025.1)\n",
      "Requirement already satisfied: tzdata>=2022.7 in c:\\users\\alpar\\appdata\\local\\packages\\pythonsoftwarefoundation.python.3.12_qbz5n2kfra8p0\\localcache\\local-packages\\python312\\site-packages (from pandas==2.2.3) (2025.1)\n",
      "Requirement already satisfied: six>=1.5 in c:\\users\\alpar\\appdata\\local\\packages\\pythonsoftwarefoundation.python.3.12_qbz5n2kfra8p0\\localcache\\local-packages\\python312\\site-packages (from python-dateutil>=2.8.2->pandas==2.2.3) (1.17.0)\n"
     ]
    },
    {
     "name": "stderr",
     "output_type": "stream",
     "text": [
      "\n",
      "[notice] A new release of pip is available: 25.0 -> 25.1.1\n",
      "[notice] To update, run: C:\\Users\\alpar\\AppData\\Local\\Microsoft\\WindowsApps\\PythonSoftwareFoundation.Python.3.12_qbz5n2kfra8p0\\python.exe -m pip install --upgrade pip\n"
     ]
    }
   ],
   "execution_count": 6
  },
  {
   "metadata": {
    "ExecuteTime": {
     "end_time": "2025-07-12T12:04:07.546989Z",
     "start_time": "2025-07-12T12:04:03.598164Z"
    }
   },
   "cell_type": "code",
   "source": "!pip uninstall pandas numpy -y\n",
   "id": "c9aafd42739b57cb",
   "outputs": [
    {
     "name": "stdout",
     "output_type": "stream",
     "text": [
      "Found existing installation: pandas 2.2.3\n",
      "Uninstalling pandas-2.2.3:\n",
      "  Successfully uninstalled pandas-2.2.3\n",
      "Found existing installation: numpy 2.1.3\n",
      "Uninstalling numpy-2.1.3:\n",
      "  Successfully uninstalled numpy-2.1.3\n"
     ]
    }
   ],
   "execution_count": 14
  },
  {
   "metadata": {
    "ExecuteTime": {
     "end_time": "2025-07-12T12:04:28.629490Z",
     "start_time": "2025-07-12T12:04:23.781034Z"
    }
   },
   "cell_type": "code",
   "source": "!pip cache purge\n",
   "id": "cb654a6a3cced4c7",
   "outputs": [
    {
     "name": "stdout",
     "output_type": "stream",
     "text": [
      "Files removed: 3383 (10683.1 MB)\n"
     ]
    }
   ],
   "execution_count": 15
  },
  {
   "metadata": {
    "ExecuteTime": {
     "end_time": "2025-07-12T12:05:12.420654Z",
     "start_time": "2025-07-12T12:04:48.508917Z"
    }
   },
   "cell_type": "code",
   "source": "!pip install numpy==1.26.4 pandas==2.2.2\n",
   "id": "52d127931c54971a",
   "outputs": [
    {
     "name": "stdout",
     "output_type": "stream",
     "text": [
      "Defaulting to user installation because normal site-packages is not writeable\n",
      "Collecting numpy==1.26.4\n",
      "  Downloading numpy-1.26.4-cp312-cp312-win_amd64.whl.metadata (61 kB)\n",
      "Collecting pandas==2.2.2\n",
      "  Downloading pandas-2.2.2-cp312-cp312-win_amd64.whl.metadata (19 kB)\n",
      "Requirement already satisfied: python-dateutil>=2.8.2 in c:\\users\\alpar\\appdata\\local\\packages\\pythonsoftwarefoundation.python.3.12_qbz5n2kfra8p0\\localcache\\local-packages\\python312\\site-packages (from pandas==2.2.2) (2.9.0.post0)\n",
      "Requirement already satisfied: pytz>=2020.1 in c:\\users\\alpar\\appdata\\local\\packages\\pythonsoftwarefoundation.python.3.12_qbz5n2kfra8p0\\localcache\\local-packages\\python312\\site-packages (from pandas==2.2.2) (2025.2)\n",
      "Requirement already satisfied: tzdata>=2022.7 in c:\\users\\alpar\\appdata\\local\\packages\\pythonsoftwarefoundation.python.3.12_qbz5n2kfra8p0\\localcache\\local-packages\\python312\\site-packages (from pandas==2.2.2) (2025.2)\n",
      "Requirement already satisfied: six>=1.5 in c:\\users\\alpar\\appdata\\local\\packages\\pythonsoftwarefoundation.python.3.12_qbz5n2kfra8p0\\localcache\\local-packages\\python312\\site-packages (from python-dateutil>=2.8.2->pandas==2.2.2) (1.17.0)\n",
      "Downloading numpy-1.26.4-cp312-cp312-win_amd64.whl (15.5 MB)\n",
      "   ---------------------------------------- 0.0/15.5 MB ? eta -:--:--\n",
      "   -- ------------------------------------- 0.8/15.5 MB 5.6 MB/s eta 0:00:03\n",
      "   ----- ---------------------------------- 2.1/15.5 MB 5.3 MB/s eta 0:00:03\n",
      "   -------- ------------------------------- 3.1/15.5 MB 5.3 MB/s eta 0:00:03\n",
      "   ----------- ---------------------------- 4.5/15.5 MB 5.5 MB/s eta 0:00:03\n",
      "   -------------- ------------------------- 5.5/15.5 MB 5.6 MB/s eta 0:00:02\n",
      "   ----------------- ---------------------- 6.8/15.5 MB 5.6 MB/s eta 0:00:02\n",
      "   -------------------- ------------------- 7.9/15.5 MB 5.7 MB/s eta 0:00:02\n",
      "   ----------------------- ---------------- 9.2/15.5 MB 5.7 MB/s eta 0:00:02\n",
      "   --------------------------- ------------ 10.5/15.5 MB 5.8 MB/s eta 0:00:01\n",
      "   ------------------------------- -------- 12.1/15.5 MB 5.9 MB/s eta 0:00:01\n",
      "   ---------------------------------- ----- 13.4/15.5 MB 6.0 MB/s eta 0:00:01\n",
      "   ------------------------------------- -- 14.7/15.5 MB 6.2 MB/s eta 0:00:01\n",
      "   ---------------------------------------- 15.5/15.5 MB 6.1 MB/s eta 0:00:00\n",
      "Downloading pandas-2.2.2-cp312-cp312-win_amd64.whl (11.5 MB)\n",
      "   ---------------------------------------- 0.0/11.5 MB ? eta -:--:--\n",
      "   ---- ----------------------------------- 1.3/11.5 MB 6.7 MB/s eta 0:00:02\n",
      "   ---------- ----------------------------- 2.9/11.5 MB 7.0 MB/s eta 0:00:02\n",
      "   -------------- ------------------------- 4.2/11.5 MB 7.2 MB/s eta 0:00:02\n",
      "   -------------------- ------------------- 5.8/11.5 MB 7.2 MB/s eta 0:00:01\n",
      "   ------------------------- -------------- 7.3/11.5 MB 7.2 MB/s eta 0:00:01\n",
      "   ------------------------------- -------- 8.9/11.5 MB 7.3 MB/s eta 0:00:01\n",
      "   ----------------------------------- ---- 10.2/11.5 MB 7.3 MB/s eta 0:00:01\n",
      "   ---------------------------------------- 11.5/11.5 MB 7.3 MB/s eta 0:00:00\n",
      "Installing collected packages: numpy, pandas\n",
      "Successfully installed numpy-1.26.4 pandas-2.2.2\n"
     ]
    },
    {
     "name": "stderr",
     "output_type": "stream",
     "text": [
      "ERROR: pip's dependency resolver does not currently take into account all the packages that are installed. This behaviour is the source of the following dependency conflicts.\n",
      "pandas-stubs 2.2.3.250527 requires types-pytz>=2022.1.1, which is not installed.\n",
      "thinc 8.3.6 requires numpy<3.0.0,>=2.0.0, but you have numpy 1.26.4 which is incompatible.\n",
      "\n",
      "[notice] A new release of pip is available: 25.0 -> 25.1.1\n",
      "[notice] To update, run: C:\\Users\\alpar\\AppData\\Local\\Microsoft\\WindowsApps\\PythonSoftwareFoundation.Python.3.12_qbz5n2kfra8p0\\python.exe -m pip install --upgrade pip\n"
     ]
    }
   ],
   "execution_count": 16
  },
  {
   "metadata": {
    "ExecuteTime": {
     "end_time": "2025-07-12T07:54:09.932728Z",
     "start_time": "2025-07-12T07:53:21.969262Z"
    }
   },
   "cell_type": "code",
   "source": "!pip install --upgrade --force-reinstall pandas\n",
   "id": "6437f7b39533579e",
   "outputs": [
    {
     "name": "stdout",
     "output_type": "stream",
     "text": [
      "Defaulting to user installation because normal site-packages is not writeable\n",
      "Collecting pandas\n",
      "  Downloading pandas-2.3.1-cp312-cp312-win_amd64.whl.metadata (19 kB)\n",
      "Collecting numpy>=1.26.0 (from pandas)\n",
      "  Downloading numpy-2.3.1-cp312-cp312-win_amd64.whl.metadata (60 kB)\n",
      "Collecting python-dateutil>=2.8.2 (from pandas)\n",
      "  Using cached python_dateutil-2.9.0.post0-py2.py3-none-any.whl.metadata (8.4 kB)\n",
      "Collecting pytz>=2020.1 (from pandas)\n",
      "  Using cached pytz-2025.2-py2.py3-none-any.whl.metadata (22 kB)\n",
      "Collecting tzdata>=2022.7 (from pandas)\n",
      "  Using cached tzdata-2025.2-py2.py3-none-any.whl.metadata (1.4 kB)\n",
      "Collecting six>=1.5 (from python-dateutil>=2.8.2->pandas)\n",
      "  Using cached six-1.17.0-py2.py3-none-any.whl.metadata (1.7 kB)\n",
      "Downloading pandas-2.3.1-cp312-cp312-win_amd64.whl (11.0 MB)\n",
      "   ---------------------------------------- 0.0/11.0 MB ? eta -:--:--\n",
      "   ----- ---------------------------------- 1.6/11.0 MB 8.4 MB/s eta 0:00:02\n",
      "   ---------- ----------------------------- 2.9/11.0 MB 8.0 MB/s eta 0:00:02\n",
      "   ---------------- ----------------------- 4.5/11.0 MB 7.9 MB/s eta 0:00:01\n",
      "   ---------------------- ----------------- 6.3/11.0 MB 7.9 MB/s eta 0:00:01\n",
      "   ---------------------------- ----------- 7.9/11.0 MB 8.0 MB/s eta 0:00:01\n",
      "   ----------------------------------- ---- 9.7/11.0 MB 8.1 MB/s eta 0:00:01\n",
      "   ---------------------------------------- 11.0/11.0 MB 8.0 MB/s eta 0:00:00\n",
      "Downloading numpy-2.3.1-cp312-cp312-win_amd64.whl (12.7 MB)\n",
      "   ---------------------------------------- 0.0/12.7 MB ? eta -:--:--\n",
      "   ---- ----------------------------------- 1.6/12.7 MB 9.3 MB/s eta 0:00:02\n",
      "   --------- ------------------------------ 3.1/12.7 MB 8.4 MB/s eta 0:00:02\n",
      "   --------------- ------------------------ 5.0/12.7 MB 8.4 MB/s eta 0:00:01\n",
      "   --------------------- ------------------ 6.8/12.7 MB 8.4 MB/s eta 0:00:01\n",
      "   -------------------------- ------------- 8.4/12.7 MB 8.3 MB/s eta 0:00:01\n",
      "   ------------------------------- -------- 10.0/12.7 MB 8.3 MB/s eta 0:00:01\n",
      "   ------------------------------------- -- 11.8/12.7 MB 8.2 MB/s eta 0:00:01\n",
      "   ---------------------------------------- 12.7/12.7 MB 8.1 MB/s eta 0:00:00\n",
      "Using cached python_dateutil-2.9.0.post0-py2.py3-none-any.whl (229 kB)\n",
      "Using cached pytz-2025.2-py2.py3-none-any.whl (509 kB)\n",
      "Using cached tzdata-2025.2-py2.py3-none-any.whl (347 kB)\n",
      "Using cached six-1.17.0-py2.py3-none-any.whl (11 kB)\n",
      "Installing collected packages: pytz, tzdata, six, numpy, python-dateutil, pandas\n",
      "  Attempting uninstall: pytz\n",
      "    Found existing installation: pytz 2025.1\n",
      "    Uninstalling pytz-2025.1:\n",
      "      Successfully uninstalled pytz-2025.1\n",
      "  Attempting uninstall: tzdata\n",
      "    Found existing installation: tzdata 2025.1\n",
      "    Uninstalling tzdata-2025.1:\n",
      "      Successfully uninstalled tzdata-2025.1\n",
      "  Attempting uninstall: six\n",
      "    Found existing installation: six 1.17.0\n",
      "    Uninstalling six-1.17.0:\n",
      "      Successfully uninstalled six-1.17.0\n",
      "  Attempting uninstall: numpy\n",
      "    Found existing installation: numpy 2.1.3\n",
      "    Uninstalling numpy-2.1.3:\n",
      "      Successfully uninstalled numpy-2.1.3\n",
      "  Attempting uninstall: python-dateutil\n",
      "    Found existing installation: python-dateutil 2.9.0.post0\n",
      "    Uninstalling python-dateutil-2.9.0.post0:\n",
      "      Successfully uninstalled python-dateutil-2.9.0.post0\n",
      "  Attempting uninstall: pandas\n",
      "    Found existing installation: pandas 2.2.3\n",
      "    Uninstalling pandas-2.2.3:\n",
      "      Successfully uninstalled pandas-2.2.3\n",
      "Successfully installed numpy-2.3.1 pandas-2.3.1 python-dateutil-2.9.0.post0 pytz-2025.2 six-1.17.0 tzdata-2025.2\n"
     ]
    },
    {
     "name": "stderr",
     "output_type": "stream",
     "text": [
      "  WARNING: Failed to remove contents in a temporary directory 'C:\\Users\\alpar\\AppData\\Local\\Packages\\PythonSoftwareFoundation.Python.3.12_qbz5n2kfra8p0\\LocalCache\\local-packages\\Python312\\site-packages\\~-mpy.libs'.\n",
      "  You can safely remove it manually.\n",
      "  WARNING: Failed to remove contents in a temporary directory 'C:\\Users\\alpar\\AppData\\Local\\Packages\\PythonSoftwareFoundation.Python.3.12_qbz5n2kfra8p0\\LocalCache\\local-packages\\Python312\\site-packages\\~-mpy'.\n",
      "  You can safely remove it manually.\n",
      "  WARNING: Failed to remove contents in a temporary directory 'C:\\Users\\alpar\\AppData\\Local\\Packages\\PythonSoftwareFoundation.Python.3.12_qbz5n2kfra8p0\\LocalCache\\local-packages\\Python312\\site-packages\\~andas.libs'.\n",
      "  You can safely remove it manually.\n",
      "  WARNING: Failed to remove contents in a temporary directory 'C:\\Users\\alpar\\AppData\\Local\\Packages\\PythonSoftwareFoundation.Python.3.12_qbz5n2kfra8p0\\LocalCache\\local-packages\\Python312\\site-packages\\~andas'.\n",
      "  You can safely remove it manually.\n",
      "ERROR: pip's dependency resolver does not currently take into account all the packages that are installed. This behaviour is the source of the following dependency conflicts.\n",
      "pandas-stubs 2.2.3.250527 requires types-pytz>=2022.1.1, which is not installed.\n",
      "tensorflow 2.19.0 requires numpy<2.2.0,>=1.26.0, but you have numpy 2.3.1 which is incompatible.\n",
      "\n",
      "[notice] A new release of pip is available: 25.0 -> 25.1.1\n",
      "[notice] To update, run: C:\\Users\\alpar\\AppData\\Local\\Microsoft\\WindowsApps\\PythonSoftwareFoundation.Python.3.12_qbz5n2kfra8p0\\python.exe -m pip install --upgrade pip\n"
     ]
    }
   ],
   "execution_count": 11
  },
  {
   "metadata": {
    "ExecuteTime": {
     "end_time": "2025-07-12T07:47:38.749044Z",
     "start_time": "2025-07-12T07:47:37.832684Z"
    }
   },
   "cell_type": "code",
   "source": "!pip show pandas\n",
   "id": "2a6c7149a8b3919c",
   "outputs": [
    {
     "name": "stdout",
     "output_type": "stream",
     "text": [
      "Name: pandas\n",
      "Version: 2.2.3\n",
      "Summary: Powerful data structures for data analysis, time series, and statistics\n",
      "Home-page: https://pandas.pydata.org\n",
      "Author: \n",
      "Author-email: The Pandas Development Team <pandas-dev@python.org>\n",
      "License: BSD 3-Clause License\n",
      "\n",
      "Copyright (c) 2008-2011, AQR Capital Management, LLC, Lambda Foundry, Inc. and PyData Development Team\n",
      "All rights reserved.\n",
      "\n",
      "Copyright (c) 2011-2023, Open source contributors.\n",
      "\n",
      "Redistribution and use in source and binary forms, with or without\n",
      "modification, are permitted provided that the following conditions are met:\n",
      "\n",
      "* Redistributions of source code must retain the above copyright notice, this\n",
      "  list of conditions and the following disclaimer.\n",
      "\n",
      "* Redistributions in binary form must reproduce the above copyright notice,\n",
      "  this list of conditions and the following disclaimer in the documentation\n",
      "  and/or other materials provided with the distribution.\n",
      "\n",
      "* Neither the name of the copyright holder nor the names of its\n",
      "  contributors may be used to endorse or promote products derived from\n",
      "  this software without specific prior written permission.\n",
      "\n",
      "THIS SOFTWARE IS PROVIDED BY THE COPYRIGHT HOLDERS AND CONTRIBUTORS \"AS IS\"\n",
      "AND ANY EXPRESS OR IMPLIED WARRANTIES, INCLUDING, BUT NOT LIMITED TO, THE\n",
      "IMPLIED WARRANTIES OF MERCHANTABILITY AND FITNESS FOR A PARTICULAR PURPOSE ARE\n",
      "DISCLAIMED. IN NO EVENT SHALL THE COPYRIGHT HOLDER OR CONTRIBUTORS BE LIABLE\n",
      "FOR ANY DIRECT, INDIRECT, INCIDENTAL, SPECIAL, EXEMPLARY, OR CONSEQUENTIAL\n",
      "DAMAGES (INCLUDING, BUT NOT LIMITED TO, PROCUREMENT OF SUBSTITUTE GOODS OR\n",
      "SERVICES; LOSS OF USE, DATA, OR PROFITS; OR BUSINESS INTERRUPTION) HOWEVER\n",
      "CAUSED AND ON ANY THEORY OF LIABILITY, WHETHER IN CONTRACT, STRICT LIABILITY,\n",
      "OR TORT (INCLUDING NEGLIGENCE OR OTHERWISE) ARISING IN ANY WAY OUT OF THE USE\n",
      "OF THIS SOFTWARE, EVEN IF ADVISED OF THE POSSIBILITY OF SUCH DAMAGE.\n",
      "Location: C:\\Users\\alpar\\AppData\\Local\\Packages\\PythonSoftwareFoundation.Python.3.12_qbz5n2kfra8p0\\LocalCache\\local-packages\\Python312\\site-packages\n",
      "Requires: numpy, python-dateutil, pytz, tzdata\n",
      "Required-by: seaborn, statsmodels, streamlit, xarray\n"
     ]
    }
   ],
   "execution_count": 10
  },
  {
   "metadata": {
    "ExecuteTime": {
     "end_time": "2025-07-15T12:15:43.792601Z",
     "start_time": "2025-07-15T12:15:43.607330Z"
    }
   },
   "cell_type": "code",
   "source": "fake_df = pd.read_csv('data/FakeReviews.csv')",
   "id": "c6cf1b68a7861daa",
   "outputs": [],
   "execution_count": 2
  },
  {
   "metadata": {
    "ExecuteTime": {
     "end_time": "2025-07-06T13:37:05.253264Z",
     "start_time": "2025-07-06T13:37:05.243294Z"
    }
   },
   "cell_type": "code",
   "source": "fake_df",
   "id": "1ac901ae16efb6e7",
   "outputs": [
    {
     "data": {
      "text/plain": [
       "                           category  rating label  \\\n",
       "0                Home_and_Kitchen_5     5.0    CG   \n",
       "1                Home_and_Kitchen_5     5.0    CG   \n",
       "2                Home_and_Kitchen_5     5.0    CG   \n",
       "3                Home_and_Kitchen_5     1.0    CG   \n",
       "4                Home_and_Kitchen_5     5.0    CG   \n",
       "...                             ...     ...   ...   \n",
       "40427  Clothing_Shoes_and_Jewelry_5     4.0    OR   \n",
       "40428  Clothing_Shoes_and_Jewelry_5     5.0    CG   \n",
       "40429  Clothing_Shoes_and_Jewelry_5     2.0    OR   \n",
       "40430  Clothing_Shoes_and_Jewelry_5     1.0    CG   \n",
       "40431  Clothing_Shoes_and_Jewelry_5     5.0    OR   \n",
       "\n",
       "                                                   text_  \n",
       "0      Love this!  Well made, sturdy, and very comfor...  \n",
       "1      love it, a great upgrade from the original.  I...  \n",
       "2      This pillow saved my back. I love the look and...  \n",
       "3      Missing information on how to use it, but it i...  \n",
       "4      Very nice set. Good quality. We have had the s...  \n",
       "...                                                  ...  \n",
       "40427  I had read some reviews saying that this bra r...  \n",
       "40428  I wasn't sure exactly what it would be. It is ...  \n",
       "40429  You can wear the hood by itself, wear it with ...  \n",
       "40430  I liked nothing about this dress. The only rea...  \n",
       "40431  I work in the wedding industry and have to wor...  \n",
       "\n",
       "[40432 rows x 4 columns]"
      ],
      "text/html": [
       "<div>\n",
       "<style scoped>\n",
       "    .dataframe tbody tr th:only-of-type {\n",
       "        vertical-align: middle;\n",
       "    }\n",
       "\n",
       "    .dataframe tbody tr th {\n",
       "        vertical-align: top;\n",
       "    }\n",
       "\n",
       "    .dataframe thead th {\n",
       "        text-align: right;\n",
       "    }\n",
       "</style>\n",
       "<table border=\"1\" class=\"dataframe\">\n",
       "  <thead>\n",
       "    <tr style=\"text-align: right;\">\n",
       "      <th></th>\n",
       "      <th>category</th>\n",
       "      <th>rating</th>\n",
       "      <th>label</th>\n",
       "      <th>text_</th>\n",
       "    </tr>\n",
       "  </thead>\n",
       "  <tbody>\n",
       "    <tr>\n",
       "      <th>0</th>\n",
       "      <td>Home_and_Kitchen_5</td>\n",
       "      <td>5.0</td>\n",
       "      <td>CG</td>\n",
       "      <td>Love this!  Well made, sturdy, and very comfor...</td>\n",
       "    </tr>\n",
       "    <tr>\n",
       "      <th>1</th>\n",
       "      <td>Home_and_Kitchen_5</td>\n",
       "      <td>5.0</td>\n",
       "      <td>CG</td>\n",
       "      <td>love it, a great upgrade from the original.  I...</td>\n",
       "    </tr>\n",
       "    <tr>\n",
       "      <th>2</th>\n",
       "      <td>Home_and_Kitchen_5</td>\n",
       "      <td>5.0</td>\n",
       "      <td>CG</td>\n",
       "      <td>This pillow saved my back. I love the look and...</td>\n",
       "    </tr>\n",
       "    <tr>\n",
       "      <th>3</th>\n",
       "      <td>Home_and_Kitchen_5</td>\n",
       "      <td>1.0</td>\n",
       "      <td>CG</td>\n",
       "      <td>Missing information on how to use it, but it i...</td>\n",
       "    </tr>\n",
       "    <tr>\n",
       "      <th>4</th>\n",
       "      <td>Home_and_Kitchen_5</td>\n",
       "      <td>5.0</td>\n",
       "      <td>CG</td>\n",
       "      <td>Very nice set. Good quality. We have had the s...</td>\n",
       "    </tr>\n",
       "    <tr>\n",
       "      <th>...</th>\n",
       "      <td>...</td>\n",
       "      <td>...</td>\n",
       "      <td>...</td>\n",
       "      <td>...</td>\n",
       "    </tr>\n",
       "    <tr>\n",
       "      <th>40427</th>\n",
       "      <td>Clothing_Shoes_and_Jewelry_5</td>\n",
       "      <td>4.0</td>\n",
       "      <td>OR</td>\n",
       "      <td>I had read some reviews saying that this bra r...</td>\n",
       "    </tr>\n",
       "    <tr>\n",
       "      <th>40428</th>\n",
       "      <td>Clothing_Shoes_and_Jewelry_5</td>\n",
       "      <td>5.0</td>\n",
       "      <td>CG</td>\n",
       "      <td>I wasn't sure exactly what it would be. It is ...</td>\n",
       "    </tr>\n",
       "    <tr>\n",
       "      <th>40429</th>\n",
       "      <td>Clothing_Shoes_and_Jewelry_5</td>\n",
       "      <td>2.0</td>\n",
       "      <td>OR</td>\n",
       "      <td>You can wear the hood by itself, wear it with ...</td>\n",
       "    </tr>\n",
       "    <tr>\n",
       "      <th>40430</th>\n",
       "      <td>Clothing_Shoes_and_Jewelry_5</td>\n",
       "      <td>1.0</td>\n",
       "      <td>CG</td>\n",
       "      <td>I liked nothing about this dress. The only rea...</td>\n",
       "    </tr>\n",
       "    <tr>\n",
       "      <th>40431</th>\n",
       "      <td>Clothing_Shoes_and_Jewelry_5</td>\n",
       "      <td>5.0</td>\n",
       "      <td>OR</td>\n",
       "      <td>I work in the wedding industry and have to wor...</td>\n",
       "    </tr>\n",
       "  </tbody>\n",
       "</table>\n",
       "<p>40432 rows × 4 columns</p>\n",
       "</div>"
      ]
     },
     "execution_count": 14,
     "metadata": {},
     "output_type": "execute_result"
    }
   ],
   "execution_count": 14
  },
  {
   "metadata": {
    "ExecuteTime": {
     "end_time": "2025-07-06T13:29:14.323972Z",
     "start_time": "2025-07-06T13:29:14.300076Z"
    }
   },
   "cell_type": "code",
   "source": "fake_df.head()",
   "id": "7c22304272053f4e",
   "outputs": [
    {
     "data": {
      "text/plain": [
       "             category  rating label  \\\n",
       "0  Home_and_Kitchen_5     5.0    CG   \n",
       "1  Home_and_Kitchen_5     5.0    CG   \n",
       "2  Home_and_Kitchen_5     5.0    CG   \n",
       "3  Home_and_Kitchen_5     1.0    CG   \n",
       "4  Home_and_Kitchen_5     5.0    CG   \n",
       "\n",
       "                                               text_  \n",
       "0  Love this!  Well made, sturdy, and very comfor...  \n",
       "1  love it, a great upgrade from the original.  I...  \n",
       "2  This pillow saved my back. I love the look and...  \n",
       "3  Missing information on how to use it, but it i...  \n",
       "4  Very nice set. Good quality. We have had the s...  "
      ],
      "text/html": [
       "<div>\n",
       "<style scoped>\n",
       "    .dataframe tbody tr th:only-of-type {\n",
       "        vertical-align: middle;\n",
       "    }\n",
       "\n",
       "    .dataframe tbody tr th {\n",
       "        vertical-align: top;\n",
       "    }\n",
       "\n",
       "    .dataframe thead th {\n",
       "        text-align: right;\n",
       "    }\n",
       "</style>\n",
       "<table border=\"1\" class=\"dataframe\">\n",
       "  <thead>\n",
       "    <tr style=\"text-align: right;\">\n",
       "      <th></th>\n",
       "      <th>category</th>\n",
       "      <th>rating</th>\n",
       "      <th>label</th>\n",
       "      <th>text_</th>\n",
       "    </tr>\n",
       "  </thead>\n",
       "  <tbody>\n",
       "    <tr>\n",
       "      <th>0</th>\n",
       "      <td>Home_and_Kitchen_5</td>\n",
       "      <td>5.0</td>\n",
       "      <td>CG</td>\n",
       "      <td>Love this!  Well made, sturdy, and very comfor...</td>\n",
       "    </tr>\n",
       "    <tr>\n",
       "      <th>1</th>\n",
       "      <td>Home_and_Kitchen_5</td>\n",
       "      <td>5.0</td>\n",
       "      <td>CG</td>\n",
       "      <td>love it, a great upgrade from the original.  I...</td>\n",
       "    </tr>\n",
       "    <tr>\n",
       "      <th>2</th>\n",
       "      <td>Home_and_Kitchen_5</td>\n",
       "      <td>5.0</td>\n",
       "      <td>CG</td>\n",
       "      <td>This pillow saved my back. I love the look and...</td>\n",
       "    </tr>\n",
       "    <tr>\n",
       "      <th>3</th>\n",
       "      <td>Home_and_Kitchen_5</td>\n",
       "      <td>1.0</td>\n",
       "      <td>CG</td>\n",
       "      <td>Missing information on how to use it, but it i...</td>\n",
       "    </tr>\n",
       "    <tr>\n",
       "      <th>4</th>\n",
       "      <td>Home_and_Kitchen_5</td>\n",
       "      <td>5.0</td>\n",
       "      <td>CG</td>\n",
       "      <td>Very nice set. Good quality. We have had the s...</td>\n",
       "    </tr>\n",
       "  </tbody>\n",
       "</table>\n",
       "</div>"
      ]
     },
     "execution_count": 6,
     "metadata": {},
     "output_type": "execute_result"
    }
   ],
   "execution_count": 6
  },
  {
   "metadata": {
    "ExecuteTime": {
     "end_time": "2025-07-06T13:29:58.196523Z",
     "start_time": "2025-07-06T13:29:58.182530Z"
    }
   },
   "cell_type": "code",
   "source": "fake_df.describe()",
   "id": "1fe7b9d25625661",
   "outputs": [
    {
     "data": {
      "text/plain": [
       "             rating\n",
       "count  40432.000000\n",
       "mean       4.256579\n",
       "std        1.144354\n",
       "min        1.000000\n",
       "25%        4.000000\n",
       "50%        5.000000\n",
       "75%        5.000000\n",
       "max        5.000000"
      ],
      "text/html": [
       "<div>\n",
       "<style scoped>\n",
       "    .dataframe tbody tr th:only-of-type {\n",
       "        vertical-align: middle;\n",
       "    }\n",
       "\n",
       "    .dataframe tbody tr th {\n",
       "        vertical-align: top;\n",
       "    }\n",
       "\n",
       "    .dataframe thead th {\n",
       "        text-align: right;\n",
       "    }\n",
       "</style>\n",
       "<table border=\"1\" class=\"dataframe\">\n",
       "  <thead>\n",
       "    <tr style=\"text-align: right;\">\n",
       "      <th></th>\n",
       "      <th>rating</th>\n",
       "    </tr>\n",
       "  </thead>\n",
       "  <tbody>\n",
       "    <tr>\n",
       "      <th>count</th>\n",
       "      <td>40432.000000</td>\n",
       "    </tr>\n",
       "    <tr>\n",
       "      <th>mean</th>\n",
       "      <td>4.256579</td>\n",
       "    </tr>\n",
       "    <tr>\n",
       "      <th>std</th>\n",
       "      <td>1.144354</td>\n",
       "    </tr>\n",
       "    <tr>\n",
       "      <th>min</th>\n",
       "      <td>1.000000</td>\n",
       "    </tr>\n",
       "    <tr>\n",
       "      <th>25%</th>\n",
       "      <td>4.000000</td>\n",
       "    </tr>\n",
       "    <tr>\n",
       "      <th>50%</th>\n",
       "      <td>5.000000</td>\n",
       "    </tr>\n",
       "    <tr>\n",
       "      <th>75%</th>\n",
       "      <td>5.000000</td>\n",
       "    </tr>\n",
       "    <tr>\n",
       "      <th>max</th>\n",
       "      <td>5.000000</td>\n",
       "    </tr>\n",
       "  </tbody>\n",
       "</table>\n",
       "</div>"
      ]
     },
     "execution_count": 7,
     "metadata": {},
     "output_type": "execute_result"
    }
   ],
   "execution_count": 7
  },
  {
   "metadata": {
    "ExecuteTime": {
     "end_time": "2025-07-06T13:30:39.698934Z",
     "start_time": "2025-07-06T13:30:39.687925Z"
    }
   },
   "cell_type": "code",
   "source": "fake_df.info()",
   "id": "ebb4294af02912ec",
   "outputs": [
    {
     "name": "stdout",
     "output_type": "stream",
     "text": [
      "<class 'pandas.core.frame.DataFrame'>\n",
      "RangeIndex: 40432 entries, 0 to 40431\n",
      "Data columns (total 4 columns):\n",
      " #   Column    Non-Null Count  Dtype  \n",
      "---  ------    --------------  -----  \n",
      " 0   category  40432 non-null  object \n",
      " 1   rating    40432 non-null  float64\n",
      " 2   label     40432 non-null  object \n",
      " 3   text_     40432 non-null  object \n",
      "dtypes: float64(1), object(3)\n",
      "memory usage: 1.2+ MB\n"
     ]
    }
   ],
   "execution_count": 9
  },
  {
   "metadata": {
    "ExecuteTime": {
     "end_time": "2025-07-06T13:31:00.708481Z",
     "start_time": "2025-07-06T13:31:00.702107Z"
    }
   },
   "cell_type": "code",
   "source": "fake_df.columns",
   "id": "1b4a4702b6953d8b",
   "outputs": [
    {
     "data": {
      "text/plain": [
       "Index(['category', 'rating', 'label', 'text_'], dtype='object')"
      ]
     },
     "execution_count": 10,
     "metadata": {},
     "output_type": "execute_result"
    }
   ],
   "execution_count": 10
  },
  {
   "metadata": {
    "ExecuteTime": {
     "end_time": "2025-07-06T13:32:23.832233Z",
     "start_time": "2025-07-06T13:32:23.823396Z"
    }
   },
   "cell_type": "code",
   "source": "fake_df.isnull().sum()",
   "id": "97cc634a8900bcda",
   "outputs": [
    {
     "data": {
      "text/plain": [
       "category    0\n",
       "rating      0\n",
       "label       0\n",
       "text_       0\n",
       "dtype: int64"
      ]
     },
     "execution_count": 12,
     "metadata": {},
     "output_type": "execute_result"
    }
   ],
   "execution_count": 12
  },
  {
   "metadata": {
    "ExecuteTime": {
     "end_time": "2025-07-06T13:36:24.563314Z",
     "start_time": "2025-07-06T13:36:24.556989Z"
    }
   },
   "cell_type": "code",
   "source": "fake_df.category.value_counts()",
   "id": "59c2ee7dbdb46e6d",
   "outputs": [
    {
     "data": {
      "text/plain": [
       "category\n",
       "Kindle_Store_5                  4730\n",
       "Books_5                         4370\n",
       "Pet_Supplies_5                  4254\n",
       "Home_and_Kitchen_5              4056\n",
       "Electronics_5                   3988\n",
       "Sports_and_Outdoors_5           3946\n",
       "Tools_and_Home_Improvement_5    3858\n",
       "Clothing_Shoes_and_Jewelry_5    3848\n",
       "Toys_and_Games_5                3794\n",
       "Movies_and_TV_5                 3588\n",
       "Name: count, dtype: int64"
      ]
     },
     "execution_count": 13,
     "metadata": {},
     "output_type": "execute_result"
    }
   ],
   "execution_count": 13
  },
  {
   "metadata": {
    "ExecuteTime": {
     "end_time": "2025-07-07T08:08:17.631652Z",
     "start_time": "2025-07-07T08:08:17.582633Z"
    }
   },
   "cell_type": "code",
   "source": "fake_df.drop_duplicates(inplace=True)",
   "id": "cbd223fb12240133",
   "outputs": [],
   "execution_count": 16
  },
  {
   "metadata": {
    "ExecuteTime": {
     "end_time": "2025-07-07T08:32:27.228094Z",
     "start_time": "2025-07-07T08:32:27.031697Z"
    }
   },
   "cell_type": "code",
   "source": "fake_df.to_csv(\"data/FakeReviews.csv\", index=False)",
   "id": "808235fc2a72bd38",
   "outputs": [],
   "execution_count": 17
  },
  {
   "metadata": {
    "ExecuteTime": {
     "end_time": "2025-07-13T07:45:07.338396Z",
     "start_time": "2025-07-13T07:45:04.867697Z"
    }
   },
   "cell_type": "code",
   "source": "real_df = pd.read_csv('data/RealReviews.csv')",
   "id": "fdaac85cadeebf7",
   "outputs": [],
   "execution_count": 3
  },
  {
   "metadata": {
    "ExecuteTime": {
     "end_time": "2025-07-07T15:06:20.972110Z",
     "start_time": "2025-07-07T15:06:19.855794Z"
    }
   },
   "cell_type": "code",
   "source": "real_df.to_parquet(\"data/RealReviews.parquet\", engine=\"pyarrow\", compression=\"brotli\")  # süper sıkıştırma 🚀",
   "id": "d1bb84476ac090ee",
   "outputs": [],
   "execution_count": 19
  },
  {
   "metadata": {},
   "cell_type": "code",
   "outputs": [],
   "execution_count": null,
   "source": "real_df = pd.read_parquet('data/RealReviews.parquet', engine=\"pyarrow\")",
   "id": "6aa7a6bbf4d6b4ea"
  },
  {
   "metadata": {},
   "cell_type": "code",
   "outputs": [],
   "execution_count": null,
   "source": "real_df = real_df.head(40420)",
   "id": "46c7d647ff614876"
  },
  {
   "metadata": {},
   "cell_type": "code",
   "outputs": [],
   "execution_count": null,
   "source": "real_df",
   "id": "796e8b420d1e6e36"
  },
  {
   "metadata": {},
   "cell_type": "code",
   "outputs": [],
   "execution_count": null,
   "source": "real_df.drop_duplicates(inplace=True)",
   "id": "40abed4b078acd7c"
  },
  {
   "metadata": {},
   "cell_type": "code",
   "outputs": [],
   "execution_count": null,
   "source": "real_df.isnull().sum()",
   "id": "90e0acbdd6f728a5"
  },
  {
   "metadata": {},
   "cell_type": "code",
   "outputs": [],
   "execution_count": null,
   "source": "real_df.shape",
   "id": "8639ed1dc759276a"
  },
  {
   "metadata": {},
   "cell_type": "code",
   "outputs": [],
   "execution_count": null,
   "source": "fake_df.shape\n",
   "id": "6134ac797f1100c7"
  },
  {
   "metadata": {},
   "cell_type": "code",
   "outputs": [],
   "execution_count": null,
   "source": "",
   "id": "750b0cf4db26220f"
  },
  {
   "metadata": {},
   "cell_type": "code",
   "outputs": [],
   "execution_count": null,
   "source": [
    "# Veri setlerini birleştirme ve etiketleme\n",
    "import pandas as pd\n",
    "import numpy as np\n",
    "import matplotlib.pyplot as plt\n",
    "import seaborn as sns\n",
    "\n",
    "# Sahte yorumları yükle ve etiketle\n",
    "fake_df['is_fake'] = 1  # Sahte yorumlar için 1\n",
    "\n",
    "# Gerçek yorumları yükle ve etiketle\n",
    "real_df['is_fake'] = 0  # Gerçek yorumlar için 0\n",
    "\n",
    "# Sahte yorumlar için text sütununu standardize et\n",
    "fake_df['text'] = fake_df['text_']\n",
    "\n",
    "# Gerçek yorumlar için text sütununu standardize et\n",
    "real_df['text'] = real_df['Text']\n",
    "\n",
    "# Sadece ihtiyacımız olan sütunları seç\n",
    "fake_selected = fake_df[['text', 'is_fake']]\n",
    "real_selected = real_df[['text', 'is_fake']]\n",
    "\n",
    "# Veri setlerini birleştir\n",
    "combined_df = pd.concat([fake_selected, real_selected], ignore_index=True)\n",
    "\n",
    "print(f\"Toplam veri sayısı: {len(combined_df)}\")\n",
    "print(f\"Sahte yorum sayısı: {len(fake_df)}\")\n",
    "print(f\"Gerçek yorum sayısı: {len(real_df)}\")"
   ],
   "id": "7b0206830c557d71"
  },
  {
   "metadata": {},
   "cell_type": "code",
   "outputs": [],
   "execution_count": null,
   "source": "",
   "id": "840ea4cd008024ae"
  },
  {
   "metadata": {},
   "cell_type": "code",
   "outputs": [],
   "execution_count": null,
   "source": [
    "import re\n",
    "import string\n",
    "from nltk.corpus import stopwords\n",
    "from nltk.tokenize import word_tokenize\n",
    "from nltk.stem import WordNetLemmatizer\n",
    "import nltk\n",
    "\n",
    "# NLTK veri setlerini indir\n",
    "nltk.download('punkt')\n",
    "nltk.download('stopwords')\n",
    "nltk.download('wordnet')\n",
    "nltk.download('omw-1.4')\n",
    "\n",
    "# Metin temizleme fonksiyonu\n",
    "def clean_text(text):\n",
    "    if pd.isna(text):\n",
    "        return \"\"\n",
    "\n",
    "    # Küçük harfe çevir\n",
    "    text = text.lower()\n",
    "\n",
    "    # HTML etiketlerini temizle\n",
    "    text = re.sub(r'<[^>]+>', '', text)\n",
    "\n",
    "    # URL'leri temizle\n",
    "    text = re.sub(r'http\\S+', '', text)\n",
    "\n",
    "    # Noktalama işaretlerini temizle\n",
    "    text = text.translate(str.maketrans('', '', string.punctuation))\n",
    "\n",
    "    # Sayıları temizle\n",
    "    text = re.sub(r'\\d+', '', text)\n",
    "\n",
    "    # Fazla boşlukları temizle\n",
    "    text = re.sub(r'\\s+', ' ', text).strip()\n",
    "\n",
    "    return text\n",
    "\n",
    "# Metin temizleme\n",
    "combined_df['cleaned_text'] = combined_df['text'].apply(clean_text)\n",
    "\n",
    "# Boş metinleri filtrele\n",
    "combined_df = combined_df[combined_df['cleaned_text'].str.len() > 0]"
   ],
   "id": "c8fde4712ec50239"
  },
  {
   "metadata": {},
   "cell_type": "code",
   "outputs": [],
   "execution_count": null,
   "source": [
    "# Stop words ve lemmatization\n",
    "stop_words = set(stopwords.words('english'))\n",
    "lemmatizer = WordNetLemmatizer()\n",
    "\n",
    "def preprocess_text(text):\n",
    "    # Tokenize\n",
    "    tokens = word_tokenize(text)\n",
    "\n",
    "    # Stop words'leri kaldır ve lemmatize et\n",
    "    tokens = [lemmatizer.lemmatize(token) for token in tokens if token not in stop_words]\n",
    "\n",
    "    return ' '.join(tokens)\n",
    "\n",
    "# Metin ön işleme\n",
    "combined_df['processed_text'] = combined_df['cleaned_text'].apply(preprocess_text)\n",
    "\n",
    "# Metin uzunluğu analizi\n",
    "combined_df['text_length'] = combined_df['processed_text'].str.len()\n",
    "combined_df['word_count'] = combined_df['processed_text'].str.split().str.len()\n",
    "\n",
    "print(\"Metin ön işleme tamamlandı!\")"
   ],
   "id": "704317d6c6118af8"
  },
  {
   "metadata": {},
   "cell_type": "code",
   "outputs": [],
   "execution_count": null,
   "source": "combined_df",
   "id": "e68446fb890a3ce7"
  },
  {
   "metadata": {},
   "cell_type": "code",
   "outputs": [],
   "execution_count": null,
   "source": "",
   "id": "f9c6fe0706b0738c"
  },
  {
   "metadata": {},
   "cell_type": "code",
   "outputs": [],
   "execution_count": null,
   "source": [
    "from sklearn.feature_extraction.text import TfidfVectorizer, CountVectorizer\n",
    "from textstat import flesch_reading_ease, flesch_kincaid_grade\n",
    "\n",
    "# Metin özelliklerini çıkar\n",
    "def extract_text_features(df):\n",
    "    # Temel özellikler\n",
    "    df['avg_word_length'] = df['processed_text'].apply(lambda x: np.mean([len(word) for word in x.split()]) if x else 0)\n",
    "    df['exclamation_count'] = df['text'].str.count('!')\n",
    "    df['question_count'] = df['text'].str.count('\\?')\n",
    "    df['capital_count'] = df['text'].str.count('[A-Z]')\n",
    "\n",
    "    # Okunabilirlik skorları\n",
    "    df['flesch_score'] = df['text'].apply(lambda x: flesch_reading_ease(x) if x else 0)\n",
    "    df['flesch_kincaid'] = df['text'].apply(lambda x: flesch_kincaid_grade(x) if x else 0)\n",
    "\n",
    "    return df\n",
    "\n",
    "# Özellik çıkarımı\n",
    "combined_df = extract_text_features(combined_df)\n",
    "\n",
    "# TF-IDF Vektörleştirme\n",
    "tfidf = TfidfVectorizer(max_features=5000, min_df=2, max_df=0.8, ngram_range=(1, 2))\n",
    "tfidf_matrix = tfidf.fit_transform(combined_df['processed_text'])\n",
    "\n",
    "print(\"Özellik çıkarımı tamamlandı!\")"
   ],
   "id": "b320375d19289717"
  },
  {
   "metadata": {},
   "cell_type": "code",
   "outputs": [],
   "execution_count": null,
   "source": "",
   "id": "c3266ba193488921"
  },
  {
   "metadata": {},
   "cell_type": "code",
   "outputs": [],
   "execution_count": null,
   "source": [
    "# Sahte ve gerçek yorumları karşılaştır\n",
    "fig, axes = plt.subplots(2, 2, figsize=(15, 10))\n",
    "\n",
    "# Metin uzunluğu dağılımı\n",
    "axes[0, 0].hist(combined_df[combined_df['is_fake'] == 1]['text_length'], alpha=0.7, label='Sahte', bins=50)\n",
    "axes[0, 0].hist(combined_df[combined_df['is_fake'] == 0]['text_length'], alpha=0.7, label='Gerçek', bins=50)\n",
    "axes[0, 0].set_title('Metin Uzunluğu Dağılımı')\n",
    "axes[0, 0].legend()\n",
    "\n",
    "# Kelime sayısı dağılımı\n",
    "axes[0, 1].hist(combined_df[combined_df['is_fake'] == 1]['word_count'], alpha=0.7, label='Sahte', bins=50)\n",
    "axes[0, 1].hist(combined_df[combined_df['is_fake'] == 0]['word_count'], alpha=0.7, label='Gerçek', bins=50)\n",
    "axes[0, 1].set_title('Kelime Sayısı Dağılımı')\n",
    "axes[0, 1].legend()\n",
    "\n",
    "# Ünlem işareti sayısı\n",
    "axes[1, 0].hist(combined_df[combined_df['is_fake'] == 1]['exclamation_count'], alpha=0.7, label='Sahte', bins=20)\n",
    "axes[1, 0].hist(combined_df[combined_df['is_fake'] == 0]['exclamation_count'], alpha=0.7, label='Gerçek', bins=20)\n",
    "axes[1, 0].set_title('Ünlem İşareti Sayısı')\n",
    "axes[1, 0].legend()\n",
    "\n",
    "# Flesch okunabilirlik skoru\n",
    "axes[1, 1].hist(combined_df[combined_df['is_fake'] == 1]['flesch_score'], alpha=0.7, label='Sahte', bins=50)\n",
    "axes[1, 1].hist(combined_df[combined_df['is_fake'] == 0]['flesch_score'], alpha=0.7, label='Gerçek', bins=50)\n",
    "axes[1, 1].set_title('Flesch Okunabilirlik Skoru')\n",
    "axes[1, 1].legend()\n",
    "\n",
    "plt.tight_layout()\n",
    "plt.show()"
   ],
   "id": "bffe425cbbd0af2"
  },
  {
   "metadata": {},
   "cell_type": "code",
   "outputs": [],
   "execution_count": null,
   "source": "",
   "id": "58a42387fdd4e4ca"
  },
  {
   "metadata": {
    "ExecuteTime": {
     "end_time": "2025-07-15T14:03:57.247935Z",
     "start_time": "2025-07-15T14:03:36.264258Z"
    }
   },
   "cell_type": "code",
   "source": [
    "from sklearn.model_selection import train_test_split, GridSearchCV, cross_val_score\n",
    "from sklearn.linear_model import LogisticRegression\n",
    "from sklearn.metrics import classification_report, confusion_matrix, roc_auc_score, roc_curve\n",
    "from sklearn.preprocessing import StandardScaler\n",
    "import scipy.sparse as sp\n",
    "import matplotlib.pyplot as plt\n",
    "import seaborn as sns\n",
    "import numpy as np\n",
    "\n",
    "# Özellik matrisini hazırla\n",
    "numerical_features = ['text_length', 'word_count', 'avg_word_length',\n",
    "                     'exclamation_count', 'question_count', 'capital_count',\n",
    "                     'flesch_score', 'flesch_kincaid']\n",
    "\n",
    "# Sayısal özellikleri normalize et\n",
    "scaler = StandardScaler()\n",
    "numerical_data = scaler.fit_transform(combined_df[numerical_features])\n",
    "\n",
    "# TF-IDF ve sayısal özellikleri birleştir\n",
    "X = sp.hstack([tfidf_matrix, numerical_data])\n",
    "y = combined_df['is_fake']\n",
    "\n",
    "# Eğitim ve test setlerini ayır\n",
    "X_train, X_test, y_train, y_test = train_test_split(\n",
    "    X, y, test_size=0.2, random_state=42, stratify=y\n",
    ")\n",
    "\n",
    "# Ridge Logistic Regression için hyperparameter tuning\n",
    "ridge_params = {\n",
    "    'C': [0.01, 0.1, 1, 10, 100],  # Regularization strength\n",
    "    'class_weight': [\n",
    "        'balanced',\n",
    "        {0: 1.0, 1: 0.7},\n",
    "        {0: 1.0, 1: 0.8},\n",
    "        {0: 1.0, 1: 1.0}\n",
    "    ]\n",
    "}\n",
    "\n",
    "# Grid search ile en iyi parametreleri bul\n",
    "ridge_grid = GridSearchCV(\n",
    "    LogisticRegression(\n",
    "        penalty='l2',\n",
    "        solver='lbfgs',\n",
    "        random_state=42,\n",
    "        max_iter=1000\n",
    "    ),\n",
    "    ridge_params,\n",
    "    cv=5,\n",
    "    scoring='f1',\n",
    "    n_jobs=-1,\n",
    "    verbose=1\n",
    ")\n",
    "\n",
    "print(\"Ridge Logistic Regression eğitiliyor...\")\n",
    "ridge_grid.fit(X_train, y_train)\n",
    "\n",
    "# En iyi modeli al\n",
    "model = ridge_grid.best_estimator_\n",
    "print(f\"En iyi parametreler: {ridge_grid.best_params_}\")\n",
    "print(f\"En iyi CV F1 skoru: {ridge_grid.best_score_:.4f}\")\n",
    "\n",
    "# Cross-validation skorları\n",
    "cv_scores = cross_val_score(model, X_train, y_train, cv=5, scoring='f1')\n",
    "print(f\"Cross-validation F1 skorları: {cv_scores}\")\n",
    "print(f\"Ortalama CV F1 skoru: {cv_scores.mean():.4f} (+/- {cv_scores.std() * 2:.4f})\")\n",
    "\n",
    "# Test seti tahminleri\n",
    "y_pred = model.predict(X_test)\n",
    "y_pred_proba = model.predict_proba(X_test)[:, 1]\n",
    "\n",
    "# Model performansı\n",
    "print(\"\\n\" + \"=\"*50)\n",
    "print(\"TEST SETİ PERFORMANSI\")\n",
    "print(\"=\"*50)\n",
    "print(\"Classification Report:\")\n",
    "print(classification_report(y_test, y_pred))\n",
    "\n",
    "# ROC-AUC skoru\n",
    "roc_auc = roc_auc_score(y_test, y_pred_proba)\n",
    "print(f\"\\nROC-AUC Skoru: {roc_auc:.4f}\")\n",
    "\n",
    "# Confusion Matrix\n",
    "plt.figure(figsize=(12, 5))\n",
    "\n",
    "plt.subplot(1, 2, 1)\n",
    "cm = confusion_matrix(y_test, y_pred)\n",
    "sns.heatmap(cm, annot=True, fmt='d', cmap='Blues',\n",
    "            xticklabels=['Gerçek', 'Sahte'],\n",
    "            yticklabels=['Gerçek', 'Sahte'])\n",
    "plt.title('Confusion Matrix')\n",
    "plt.ylabel('Gerçek')\n",
    "plt.xlabel('Tahmin')\n",
    "\n",
    "# ROC Curve\n",
    "plt.subplot(1, 2, 2)\n",
    "fpr, tpr, _ = roc_curve(y_test, y_pred_proba)\n",
    "plt.plot(fpr, tpr, color='darkorange', lw=2, label=f'ROC curve (AUC = {roc_auc:.4f})')\n",
    "plt.plot([0, 1], [0, 1], color='navy', lw=2, linestyle='--')\n",
    "plt.xlim([0.0, 1.0])\n",
    "plt.ylim([0.0, 1.05])\n",
    "plt.xlabel('False Positive Rate')\n",
    "plt.ylabel('True Positive Rate')\n",
    "plt.title('ROC Curve')\n",
    "plt.legend(loc=\"lower right\")\n",
    "\n",
    "plt.tight_layout()\n",
    "plt.show()\n",
    "\n",
    "# Feature importance (coefficient büyüklüğü)\n",
    "feature_names = [f'tfidf_{i}' for i in range(tfidf_matrix.shape[1])] + numerical_features\n",
    "coefficients = model.coef_[0]\n",
    "\n",
    "# En önemli özellikleri göster\n",
    "feature_importance = list(zip(feature_names, coefficients))\n",
    "feature_importance.sort(key=lambda x: abs(x[1]), reverse=True)\n",
    "\n",
    "print(\"\\n\" + \"=\"*50)\n",
    "print(\"EN ÖNEMLİ ÖZELLİKLER (Ridge Coefficients)\")\n",
    "print(\"=\"*50)\n",
    "for i, (feature, coef) in enumerate(feature_importance[:20]):\n",
    "    print(f\"{i+1:2d}. {feature[:30]:<30} : {coef:8.4f}\")\n",
    "\n",
    "# Model kaydetme\n",
    "import joblib\n"
   ],
   "id": "49bcf60e6088d500",
   "outputs": [
    {
     "name": "stdout",
     "output_type": "stream",
     "text": [
      "Ridge Logistic Regression eğitiliyor...\n",
      "Fitting 5 folds for each of 20 candidates, totalling 100 fits\n",
      "En iyi parametreler: {'C': 1, 'class_weight': 'balanced'}\n",
      "En iyi CV F1 skoru: 0.9583\n",
      "Cross-validation F1 skorları: [0.95884901 0.95596998 0.9590354  0.96080247 0.95681115]\n",
      "Ortalama CV F1 skoru: 0.9583 (+/- 0.0034)\n",
      "\n",
      "==================================================\n",
      "TEST SETİ PERFORMANSI\n",
      "==================================================\n",
      "Classification Report:\n",
      "              precision    recall  f1-score   support\n",
      "\n",
      "           0       0.96      0.96      0.96      8084\n",
      "           1       0.96      0.96      0.96      8084\n",
      "\n",
      "    accuracy                           0.96     16168\n",
      "   macro avg       0.96      0.96      0.96     16168\n",
      "weighted avg       0.96      0.96      0.96     16168\n",
      "\n",
      "\n",
      "ROC-AUC Skoru: 0.9917\n"
     ]
    },
    {
     "data": {
      "text/plain": [
       "<Figure size 1200x500 with 3 Axes>"
      ],
      "image/png": "[encoded data removed]"
     },
     "metadata": {},
     "output_type": "display_data"
    },
    {
     "name": "stdout",
     "output_type": "stream",
     "text": [
      "\n",
      "==================================================\n",
      "EN ÖNEMLİ ÖZELLİKLER (Ridge Coefficients)\n",
      "==================================================\n",
      " 1. tfidf_4320                     : -10.3783\n",
      " 2. tfidf_1565                     :  -9.5762\n",
      " 3. tfidf_420                      :   9.1701\n",
      " 4. tfidf_4339                     :  -7.9391\n",
      " 5. tfidf_778                      :  -7.1659\n",
      " 6. tfidf_4171                     :   6.3567\n",
      " 7. tfidf_4002                     :  -6.0410\n",
      " 8. tfidf_719                      :  -5.7065\n",
      " 9. tfidf_2845                     :   5.6547\n",
      "10. tfidf_1042                     :  -5.6138\n",
      "11. tfidf_718                      :  -5.4911\n",
      "12. tfidf_4230                     :  -5.4863\n",
      "13. tfidf_585                      :  -5.4164\n",
      "14. tfidf_4338                     :  -5.4139\n",
      "15. tfidf_4333                     :  -5.4005\n",
      "16. tfidf_3282                     :  -5.3970\n",
      "17. tfidf_4531                     :  -5.3800\n",
      "18. tfidf_3739                     :  -5.2487\n",
      "19. tfidf_1547                     :   5.1870\n",
      "20. tfidf_818                      :   5.1690\n"
     ]
    }
   ],
   "execution_count": 18
  },
  {
   "metadata": {},
   "cell_type": "code",
   "outputs": [],
   "execution_count": null,
   "source": "",
   "id": "77a69a374ff93416"
  },
  {
   "metadata": {},
   "cell_type": "code",
   "outputs": [],
   "execution_count": null,
   "source": [
    "# Yeni yorumları tahmin etmek için fonksiyon\n",
    "def predict_fake_review(text, model, tfidf, scaler):\n",
    "    # Metin temizleme\n",
    "    cleaned = clean_text(text)\n",
    "    processed = preprocess_text(cleaned)\n",
    "\n",
    "    # Özellik çıkarımı\n",
    "    features = {\n",
    "        'text_length': len(processed),\n",
    "        'word_count': len(processed.split()),\n",
    "        'avg_word_length': np.mean([len(word) for word in processed.split()]) if processed else 0,\n",
    "        'exclamation_count': text.count('!'),\n",
    "        'question_count': text.count('?'),\n",
    "        'capital_count': sum(1 for c in text if c.isupper()),\n",
    "        'flesch_score': flesch_reading_ease(text) if text else 0,\n",
    "        'flesch_kincaid': flesch_kincaid_grade(text) if text else 0\n",
    "    }\n",
    "\n",
    "    # TF-IDF vektörü\n",
    "    tfidf_vector = tfidf.transform([processed])\n",
    "\n",
    "    # Sayısal özellikleri normalize et\n",
    "    numerical_vector = scaler.transform([[features[col] for col in numerical_features]])\n",
    "\n",
    "    # Özellikleri birleştir\n",
    "    X_new = sp.hstack([tfidf_vector, numerical_vector])\n",
    "\n",
    "    # Tahmin yap\n",
    "    prediction = model.predict(X_new)[0]\n",
    "    probability = model.predict_proba(X_new)[0]\n",
    "\n",
    "    return {\n",
    "        'prediction': 'Sahte' if prediction == 1 else 'Gerçek',\n",
    "        'fake_probability': probability[1],\n",
    "        'real_probability': probability[0]\n",
    "    }\n",
    "\n",
    "# Örnek tahmin\n",
    "sample_text = \"This product is amazing! Best quality ever! I love it so much!\"\n",
    "result = predict_fake_review(sample_text, model, tfidf, scaler)\n",
    "print(f\"Tahmin: {result['prediction']}\")\n",
    "print(f\"Sahte olma olasılığı: {result['fake_probability']:.2f}\")\n",
    "print(f\"Gerçek olma olasılığı: {result['real_probability']:.2f}\")"
   ],
   "id": "4c7fe41cef5f919b"
  },
  {
   "metadata": {},
   "cell_type": "markdown",
   "source": "# Dışa Aktarma",
   "id": "7dc3711a90375bc6"
  },
  {
   "metadata": {},
   "cell_type": "code",
   "outputs": [],
   "execution_count": null,
   "source": [
    "from joblib import dump, load\n",
    "\n",
    "# Modeli pickle kullanarak kaydetme\n",
    "dump(model, 'model.pkl')\n",
    "\n",
    "dump(tfidf, 'tfidf.pkl')\n",
    "\n",
    "dump(scaler, 'scaler.pkl')"
   ],
   "id": "48d4a4f7ff651353"
  }
 ],
 "metadata": {
  "kernelspec": {
   "display_name": "Python 3",
   "language": "python",
   "name": "python3"
  },
  "language_info": {
   "codemirror_mode": {
    "name": "ipython",
    "version": 2
   },
   "file_extension": ".py",
   "mimetype": "text/x-python",
   "name": "python",
   "nbconvert_exporter": "python",
   "pygments_lexer": "ipython2",
   "version": "2.7.6"
  }
 },
 "nbformat": 4,
 "nbformat_minor": 5
}
