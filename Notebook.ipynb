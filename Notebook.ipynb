{
 "cells": [
  {
   "cell_type": "code",
   "id": "initial_id",
   "metadata": {
    "collapsed": true,
    "ExecuteTime": {
     "end_time": "2025-07-07T12:21:19.882760Z",
     "start_time": "2025-07-07T12:21:19.878761Z"
    }
   },
   "source": [
    "import pandas as pd\n",
    "import numpy as np\n",
    "import matplotlib.pyplot as plt\n",
    "import seaborn as sns"
   ],
   "outputs": [],
   "execution_count": 2
  },
  {
   "metadata": {
    "ExecuteTime": {
     "end_time": "2025-07-06T13:28:58.259896Z",
     "start_time": "2025-07-06T13:28:58.160334Z"
    }
   },
   "cell_type": "code",
   "source": "fake_df = pd.read_csv('data/FakeReviews.csv')",
   "id": "c6cf1b68a7861daa",
   "outputs": [],
   "execution_count": 5
  },
  {
   "metadata": {
    "ExecuteTime": {
     "end_time": "2025-07-06T13:37:05.253264Z",
     "start_time": "2025-07-06T13:37:05.243294Z"
    }
   },
   "cell_type": "code",
   "source": "fake_df",
   "id": "1ac901ae16efb6e7",
   "outputs": [
    {
     "data": {
      "text/plain": [
       "                           category  rating label  \\\n",
       "0                Home_and_Kitchen_5     5.0    CG   \n",
       "1                Home_and_Kitchen_5     5.0    CG   \n",
       "2                Home_and_Kitchen_5     5.0    CG   \n",
       "3                Home_and_Kitchen_5     1.0    CG   \n",
       "4                Home_and_Kitchen_5     5.0    CG   \n",
       "...                             ...     ...   ...   \n",
       "40427  Clothing_Shoes_and_Jewelry_5     4.0    OR   \n",
       "40428  Clothing_Shoes_and_Jewelry_5     5.0    CG   \n",
       "40429  Clothing_Shoes_and_Jewelry_5     2.0    OR   \n",
       "40430  Clothing_Shoes_and_Jewelry_5     1.0    CG   \n",
       "40431  Clothing_Shoes_and_Jewelry_5     5.0    OR   \n",
       "\n",
       "                                                   text_  \n",
       "0      Love this!  Well made, sturdy, and very comfor...  \n",
       "1      love it, a great upgrade from the original.  I...  \n",
       "2      This pillow saved my back. I love the look and...  \n",
       "3      Missing information on how to use it, but it i...  \n",
       "4      Very nice set. Good quality. We have had the s...  \n",
       "...                                                  ...  \n",
       "40427  I had read some reviews saying that this bra r...  \n",
       "40428  I wasn't sure exactly what it would be. It is ...  \n",
       "40429  You can wear the hood by itself, wear it with ...  \n",
       "40430  I liked nothing about this dress. The only rea...  \n",
       "40431  I work in the wedding industry and have to wor...  \n",
       "\n",
       "[40432 rows x 4 columns]"
      ],
      "text/html": [
       "<div>\n",
       "<style scoped>\n",
       "    .dataframe tbody tr th:only-of-type {\n",
       "        vertical-align: middle;\n",
       "    }\n",
       "\n",
       "    .dataframe tbody tr th {\n",
       "        vertical-align: top;\n",
       "    }\n",
       "\n",
       "    .dataframe thead th {\n",
       "        text-align: right;\n",
       "    }\n",
       "</style>\n",
       "<table border=\"1\" class=\"dataframe\">\n",
       "  <thead>\n",
       "    <tr style=\"text-align: right;\">\n",
       "      <th></th>\n",
       "      <th>category</th>\n",
       "      <th>rating</th>\n",
       "      <th>label</th>\n",
       "      <th>text_</th>\n",
       "    </tr>\n",
       "  </thead>\n",
       "  <tbody>\n",
       "    <tr>\n",
       "      <th>0</th>\n",
       "      <td>Home_and_Kitchen_5</td>\n",
       "      <td>5.0</td>\n",
       "      <td>CG</td>\n",
       "      <td>Love this!  Well made, sturdy, and very comfor...</td>\n",
       "    </tr>\n",
       "    <tr>\n",
       "      <th>1</th>\n",
       "      <td>Home_and_Kitchen_5</td>\n",
       "      <td>5.0</td>\n",
       "      <td>CG</td>\n",
       "      <td>love it, a great upgrade from the original.  I...</td>\n",
       "    </tr>\n",
       "    <tr>\n",
       "      <th>2</th>\n",
       "      <td>Home_and_Kitchen_5</td>\n",
       "      <td>5.0</td>\n",
       "      <td>CG</td>\n",
       "      <td>This pillow saved my back. I love the look and...</td>\n",
       "    </tr>\n",
       "    <tr>\n",
       "      <th>3</th>\n",
       "      <td>Home_and_Kitchen_5</td>\n",
       "      <td>1.0</td>\n",
       "      <td>CG</td>\n",
       "      <td>Missing information on how to use it, but it i...</td>\n",
       "    </tr>\n",
       "    <tr>\n",
       "      <th>4</th>\n",
       "      <td>Home_and_Kitchen_5</td>\n",
       "      <td>5.0</td>\n",
       "      <td>CG</td>\n",
       "      <td>Very nice set. Good quality. We have had the s...</td>\n",
       "    </tr>\n",
       "    <tr>\n",
       "      <th>...</th>\n",
       "      <td>...</td>\n",
       "      <td>...</td>\n",
       "      <td>...</td>\n",
       "      <td>...</td>\n",
       "    </tr>\n",
       "    <tr>\n",
       "      <th>40427</th>\n",
       "      <td>Clothing_Shoes_and_Jewelry_5</td>\n",
       "      <td>4.0</td>\n",
       "      <td>OR</td>\n",
       "      <td>I had read some reviews saying that this bra r...</td>\n",
       "    </tr>\n",
       "    <tr>\n",
       "      <th>40428</th>\n",
       "      <td>Clothing_Shoes_and_Jewelry_5</td>\n",
       "      <td>5.0</td>\n",
       "      <td>CG</td>\n",
       "      <td>I wasn't sure exactly what it would be. It is ...</td>\n",
       "    </tr>\n",
       "    <tr>\n",
       "      <th>40429</th>\n",
       "      <td>Clothing_Shoes_and_Jewelry_5</td>\n",
       "      <td>2.0</td>\n",
       "      <td>OR</td>\n",
       "      <td>You can wear the hood by itself, wear it with ...</td>\n",
       "    </tr>\n",
       "    <tr>\n",
       "      <th>40430</th>\n",
       "      <td>Clothing_Shoes_and_Jewelry_5</td>\n",
       "      <td>1.0</td>\n",
       "      <td>CG</td>\n",
       "      <td>I liked nothing about this dress. The only rea...</td>\n",
       "    </tr>\n",
       "    <tr>\n",
       "      <th>40431</th>\n",
       "      <td>Clothing_Shoes_and_Jewelry_5</td>\n",
       "      <td>5.0</td>\n",
       "      <td>OR</td>\n",
       "      <td>I work in the wedding industry and have to wor...</td>\n",
       "    </tr>\n",
       "  </tbody>\n",
       "</table>\n",
       "<p>40432 rows × 4 columns</p>\n",
       "</div>"
      ]
     },
     "execution_count": 14,
     "metadata": {},
     "output_type": "execute_result"
    }
   ],
   "execution_count": 14
  },
  {
   "metadata": {
    "ExecuteTime": {
     "end_time": "2025-07-06T13:29:14.323972Z",
     "start_time": "2025-07-06T13:29:14.300076Z"
    }
   },
   "cell_type": "code",
   "source": "fake_df.head()",
   "id": "7c22304272053f4e",
   "outputs": [
    {
     "data": {
      "text/plain": [
       "             category  rating label  \\\n",
       "0  Home_and_Kitchen_5     5.0    CG   \n",
       "1  Home_and_Kitchen_5     5.0    CG   \n",
       "2  Home_and_Kitchen_5     5.0    CG   \n",
       "3  Home_and_Kitchen_5     1.0    CG   \n",
       "4  Home_and_Kitchen_5     5.0    CG   \n",
       "\n",
       "                                               text_  \n",
       "0  Love this!  Well made, sturdy, and very comfor...  \n",
       "1  love it, a great upgrade from the original.  I...  \n",
       "2  This pillow saved my back. I love the look and...  \n",
       "3  Missing information on how to use it, but it i...  \n",
       "4  Very nice set. Good quality. We have had the s...  "
      ],
      "text/html": [
       "<div>\n",
       "<style scoped>\n",
       "    .dataframe tbody tr th:only-of-type {\n",
       "        vertical-align: middle;\n",
       "    }\n",
       "\n",
       "    .dataframe tbody tr th {\n",
       "        vertical-align: top;\n",
       "    }\n",
       "\n",
       "    .dataframe thead th {\n",
       "        text-align: right;\n",
       "    }\n",
       "</style>\n",
       "<table border=\"1\" class=\"dataframe\">\n",
       "  <thead>\n",
       "    <tr style=\"text-align: right;\">\n",
       "      <th></th>\n",
       "      <th>category</th>\n",
       "      <th>rating</th>\n",
       "      <th>label</th>\n",
       "      <th>text_</th>\n",
       "    </tr>\n",
       "  </thead>\n",
       "  <tbody>\n",
       "    <tr>\n",
       "      <th>0</th>\n",
       "      <td>Home_and_Kitchen_5</td>\n",
       "      <td>5.0</td>\n",
       "      <td>CG</td>\n",
       "      <td>Love this!  Well made, sturdy, and very comfor...</td>\n",
       "    </tr>\n",
       "    <tr>\n",
       "      <th>1</th>\n",
       "      <td>Home_and_Kitchen_5</td>\n",
       "      <td>5.0</td>\n",
       "      <td>CG</td>\n",
       "      <td>love it, a great upgrade from the original.  I...</td>\n",
       "    </tr>\n",
       "    <tr>\n",
       "      <th>2</th>\n",
       "      <td>Home_and_Kitchen_5</td>\n",
       "      <td>5.0</td>\n",
       "      <td>CG</td>\n",
       "      <td>This pillow saved my back. I love the look and...</td>\n",
       "    </tr>\n",
       "    <tr>\n",
       "      <th>3</th>\n",
       "      <td>Home_and_Kitchen_5</td>\n",
       "      <td>1.0</td>\n",
       "      <td>CG</td>\n",
       "      <td>Missing information on how to use it, but it i...</td>\n",
       "    </tr>\n",
       "    <tr>\n",
       "      <th>4</th>\n",
       "      <td>Home_and_Kitchen_5</td>\n",
       "      <td>5.0</td>\n",
       "      <td>CG</td>\n",
       "      <td>Very nice set. Good quality. We have had the s...</td>\n",
       "    </tr>\n",
       "  </tbody>\n",
       "</table>\n",
       "</div>"
      ]
     },
     "execution_count": 6,
     "metadata": {},
     "output_type": "execute_result"
    }
   ],
   "execution_count": 6
  },
  {
   "metadata": {
    "ExecuteTime": {
     "end_time": "2025-07-06T13:29:58.196523Z",
     "start_time": "2025-07-06T13:29:58.182530Z"
    }
   },
   "cell_type": "code",
   "source": "fake_df.describe()",
   "id": "1fe7b9d25625661",
   "outputs": [
    {
     "data": {
      "text/plain": [
       "             rating\n",
       "count  40432.000000\n",
       "mean       4.256579\n",
       "std        1.144354\n",
       "min        1.000000\n",
       "25%        4.000000\n",
       "50%        5.000000\n",
       "75%        5.000000\n",
       "max        5.000000"
      ],
      "text/html": [
       "<div>\n",
       "<style scoped>\n",
       "    .dataframe tbody tr th:only-of-type {\n",
       "        vertical-align: middle;\n",
       "    }\n",
       "\n",
       "    .dataframe tbody tr th {\n",
       "        vertical-align: top;\n",
       "    }\n",
       "\n",
       "    .dataframe thead th {\n",
       "        text-align: right;\n",
       "    }\n",
       "</style>\n",
       "<table border=\"1\" class=\"dataframe\">\n",
       "  <thead>\n",
       "    <tr style=\"text-align: right;\">\n",
       "      <th></th>\n",
       "      <th>rating</th>\n",
       "    </tr>\n",
       "  </thead>\n",
       "  <tbody>\n",
       "    <tr>\n",
       "      <th>count</th>\n",
       "      <td>40432.000000</td>\n",
       "    </tr>\n",
       "    <tr>\n",
       "      <th>mean</th>\n",
       "      <td>4.256579</td>\n",
       "    </tr>\n",
       "    <tr>\n",
       "      <th>std</th>\n",
       "      <td>1.144354</td>\n",
       "    </tr>\n",
       "    <tr>\n",
       "      <th>min</th>\n",
       "      <td>1.000000</td>\n",
       "    </tr>\n",
       "    <tr>\n",
       "      <th>25%</th>\n",
       "      <td>4.000000</td>\n",
       "    </tr>\n",
       "    <tr>\n",
       "      <th>50%</th>\n",
       "      <td>5.000000</td>\n",
       "    </tr>\n",
       "    <tr>\n",
       "      <th>75%</th>\n",
       "      <td>5.000000</td>\n",
       "    </tr>\n",
       "    <tr>\n",
       "      <th>max</th>\n",
       "      <td>5.000000</td>\n",
       "    </tr>\n",
       "  </tbody>\n",
       "</table>\n",
       "</div>"
      ]
     },
     "execution_count": 7,
     "metadata": {},
     "output_type": "execute_result"
    }
   ],
   "execution_count": 7
  },
  {
   "metadata": {
    "ExecuteTime": {
     "end_time": "2025-07-06T13:30:39.698934Z",
     "start_time": "2025-07-06T13:30:39.687925Z"
    }
   },
   "cell_type": "code",
   "source": "fake_df.info()",
   "id": "ebb4294af02912ec",
   "outputs": [
    {
     "name": "stdout",
     "output_type": "stream",
     "text": [
      "<class 'pandas.core.frame.DataFrame'>\n",
      "RangeIndex: 40432 entries, 0 to 40431\n",
      "Data columns (total 4 columns):\n",
      " #   Column    Non-Null Count  Dtype  \n",
      "---  ------    --------------  -----  \n",
      " 0   category  40432 non-null  object \n",
      " 1   rating    40432 non-null  float64\n",
      " 2   label     40432 non-null  object \n",
      " 3   text_     40432 non-null  object \n",
      "dtypes: float64(1), object(3)\n",
      "memory usage: 1.2+ MB\n"
     ]
    }
   ],
   "execution_count": 9
  },
  {
   "metadata": {
    "ExecuteTime": {
     "end_time": "2025-07-06T13:31:00.708481Z",
     "start_time": "2025-07-06T13:31:00.702107Z"
    }
   },
   "cell_type": "code",
   "source": "fake_df.columns",
   "id": "1b4a4702b6953d8b",
   "outputs": [
    {
     "data": {
      "text/plain": [
       "Index(['category', 'rating', 'label', 'text_'], dtype='object')"
      ]
     },
     "execution_count": 10,
     "metadata": {},
     "output_type": "execute_result"
    }
   ],
   "execution_count": 10
  },
  {
   "metadata": {
    "ExecuteTime": {
     "end_time": "2025-07-06T13:32:23.832233Z",
     "start_time": "2025-07-06T13:32:23.823396Z"
    }
   },
   "cell_type": "code",
   "source": "fake_df.isnull().sum()",
   "id": "97cc634a8900bcda",
   "outputs": [
    {
     "data": {
      "text/plain": [
       "category    0\n",
       "rating      0\n",
       "label       0\n",
       "text_       0\n",
       "dtype: int64"
      ]
     },
     "execution_count": 12,
     "metadata": {},
     "output_type": "execute_result"
    }
   ],
   "execution_count": 12
  },
  {
   "metadata": {
    "ExecuteTime": {
     "end_time": "2025-07-06T13:36:24.563314Z",
     "start_time": "2025-07-06T13:36:24.556989Z"
    }
   },
   "cell_type": "code",
   "source": "fake_df.category.value_counts()",
   "id": "59c2ee7dbdb46e6d",
   "outputs": [
    {
     "data": {
      "text/plain": [
       "category\n",
       "Kindle_Store_5                  4730\n",
       "Books_5                         4370\n",
       "Pet_Supplies_5                  4254\n",
       "Home_and_Kitchen_5              4056\n",
       "Electronics_5                   3988\n",
       "Sports_and_Outdoors_5           3946\n",
       "Tools_and_Home_Improvement_5    3858\n",
       "Clothing_Shoes_and_Jewelry_5    3848\n",
       "Toys_and_Games_5                3794\n",
       "Movies_and_TV_5                 3588\n",
       "Name: count, dtype: int64"
      ]
     },
     "execution_count": 13,
     "metadata": {},
     "output_type": "execute_result"
    }
   ],
   "execution_count": 13
  },
  {
   "metadata": {
    "ExecuteTime": {
     "end_time": "2025-07-07T08:08:17.631652Z",
     "start_time": "2025-07-07T08:08:17.582633Z"
    }
   },
   "cell_type": "code",
   "source": "fake_df.drop_duplicates(inplace=True)",
   "id": "cbd223fb12240133",
   "outputs": [],
   "execution_count": 16
  },
  {
   "metadata": {
    "ExecuteTime": {
     "end_time": "2025-07-07T08:32:27.228094Z",
     "start_time": "2025-07-07T08:32:27.031697Z"
    }
   },
   "cell_type": "code",
   "source": "fake_df.to_csv(\"data/FakeReviews.csv\", index=False)",
   "id": "808235fc2a72bd38",
   "outputs": [],
   "execution_count": 17
  },
  {
   "metadata": {
    "ExecuteTime": {
     "end_time": "2025-07-07T12:21:27.406327Z",
     "start_time": "2025-07-07T12:21:25.318744Z"
    }
   },
   "cell_type": "code",
   "source": "real_df = pd.read_csv('data/RealReviews.csv')",
   "id": "fdaac85cadeebf7",
   "outputs": [],
   "execution_count": 3
  },
  {
   "metadata": {
    "jupyter": {
     "is_executing": true
    },
    "ExecuteTime": {
     "start_time": "2025-07-07T12:26:57.743367Z"
    }
   },
   "cell_type": "code",
   "source": "real_df.to_parquet(\"data/RealReviews.parquet\", engine=\"pyarrow\", compression=\"brotli\")  # süper sıkıştırma 🚀",
   "id": "d1bb84476ac090ee",
   "outputs": [],
   "execution_count": null
  },
  {
   "metadata": {
    "ExecuteTime": {
     "end_time": "2025-07-07T08:33:48.128144Z",
     "start_time": "2025-07-07T08:33:48.117730Z"
    }
   },
   "cell_type": "code",
   "source": "real_df",
   "id": "dac9acfd84113ffc",
   "outputs": [
    {
     "data": {
      "text/plain": [
       "            Id   ProductId          UserId                      ProfileName  \\\n",
       "0            1  B001E4KFG0  A3SGXH7AUHU8GW                       delmartian   \n",
       "1            2  B00813GRG4  A1D87F6ZCVE5NK                           dll pa   \n",
       "2            3  B000LQOCH0   ABXLMWJIXXAIN  Natalia Corres \"Natalia Corres\"   \n",
       "3            4  B000UA0QIQ  A395BORC6FGVXV                             Karl   \n",
       "4            5  B006K2ZZ7K  A1UQRSCLF8GW1T    Michael D. Bigham \"M. Wassir\"   \n",
       "...        ...         ...             ...                              ...   \n",
       "568449  568450  B001EO7N10  A28KG5XORO54AY                 Lettie D. Carter   \n",
       "568450  568451  B003S1WTCU  A3I8AFVPEE8KI5                        R. Sawyer   \n",
       "568451  568452  B004I613EE  A121AA1GQV751Z                    pksd \"pk_007\"   \n",
       "568452  568453  B004I613EE   A3IBEVCTXKNOH          Kathy A. Welch \"katwel\"   \n",
       "568453  568454  B001LR2CU2  A3LGQPJCZVL9UC                         srfell17   \n",
       "\n",
       "        HelpfulnessNumerator  HelpfulnessDenominator  Score        Time  \\\n",
       "0                          1                       1      5  1303862400   \n",
       "1                          0                       0      1  1346976000   \n",
       "2                          1                       1      4  1219017600   \n",
       "3                          3                       3      2  1307923200   \n",
       "4                          0                       0      5  1350777600   \n",
       "...                      ...                     ...    ...         ...   \n",
       "568449                     0                       0      5  1299628800   \n",
       "568450                     0                       0      2  1331251200   \n",
       "568451                     2                       2      5  1329782400   \n",
       "568452                     1                       1      5  1331596800   \n",
       "568453                     0                       0      5  1338422400   \n",
       "\n",
       "                                   Summary  \\\n",
       "0                    Good Quality Dog Food   \n",
       "1                        Not as Advertised   \n",
       "2                    \"Delight\" says it all   \n",
       "3                           Cough Medicine   \n",
       "4                              Great taffy   \n",
       "...                                    ...   \n",
       "568449                 Will not do without   \n",
       "568450                        disappointed   \n",
       "568451            Perfect for our maltipoo   \n",
       "568452  Favorite Training and reward treat   \n",
       "568453                         Great Honey   \n",
       "\n",
       "                                                     Text  \n",
       "0       I have bought several of the Vitality canned d...  \n",
       "1       Product arrived labeled as Jumbo Salted Peanut...  \n",
       "2       This is a confection that has been around a fe...  \n",
       "3       If you are looking for the secret ingredient i...  \n",
       "4       Great taffy at a great price.  There was a wid...  \n",
       "...                                                   ...  \n",
       "568449  Great for sesame chicken..this is a good if no...  \n",
       "568450  I'm disappointed with the flavor. The chocolat...  \n",
       "568451  These stars are small, so you can give 10-15 o...  \n",
       "568452  These are the BEST treats for training and rew...  \n",
       "568453  I am very satisfied ,product is as advertised,...  \n",
       "\n",
       "[568454 rows x 10 columns]"
      ],
      "text/html": [
       "<div>\n",
       "<style scoped>\n",
       "    .dataframe tbody tr th:only-of-type {\n",
       "        vertical-align: middle;\n",
       "    }\n",
       "\n",
       "    .dataframe tbody tr th {\n",
       "        vertical-align: top;\n",
       "    }\n",
       "\n",
       "    .dataframe thead th {\n",
       "        text-align: right;\n",
       "    }\n",
       "</style>\n",
       "<table border=\"1\" class=\"dataframe\">\n",
       "  <thead>\n",
       "    <tr style=\"text-align: right;\">\n",
       "      <th></th>\n",
       "      <th>Id</th>\n",
       "      <th>ProductId</th>\n",
       "      <th>UserId</th>\n",
       "      <th>ProfileName</th>\n",
       "      <th>HelpfulnessNumerator</th>\n",
       "      <th>HelpfulnessDenominator</th>\n",
       "      <th>Score</th>\n",
       "      <th>Time</th>\n",
       "      <th>Summary</th>\n",
       "      <th>Text</th>\n",
       "    </tr>\n",
       "  </thead>\n",
       "  <tbody>\n",
       "    <tr>\n",
       "      <th>0</th>\n",
       "      <td>1</td>\n",
       "      <td>B001E4KFG0</td>\n",
       "      <td>A3SGXH7AUHU8GW</td>\n",
       "      <td>delmartian</td>\n",
       "      <td>1</td>\n",
       "      <td>1</td>\n",
       "      <td>5</td>\n",
       "      <td>1303862400</td>\n",
       "      <td>Good Quality Dog Food</td>\n",
       "      <td>I have bought several of the Vitality canned d...</td>\n",
       "    </tr>\n",
       "    <tr>\n",
       "      <th>1</th>\n",
       "      <td>2</td>\n",
       "      <td>B00813GRG4</td>\n",
       "      <td>A1D87F6ZCVE5NK</td>\n",
       "      <td>dll pa</td>\n",
       "      <td>0</td>\n",
       "      <td>0</td>\n",
       "      <td>1</td>\n",
       "      <td>1346976000</td>\n",
       "      <td>Not as Advertised</td>\n",
       "      <td>Product arrived labeled as Jumbo Salted Peanut...</td>\n",
       "    </tr>\n",
       "    <tr>\n",
       "      <th>2</th>\n",
       "      <td>3</td>\n",
       "      <td>B000LQOCH0</td>\n",
       "      <td>ABXLMWJIXXAIN</td>\n",
       "      <td>Natalia Corres \"Natalia Corres\"</td>\n",
       "      <td>1</td>\n",
       "      <td>1</td>\n",
       "      <td>4</td>\n",
       "      <td>1219017600</td>\n",
       "      <td>\"Delight\" says it all</td>\n",
       "      <td>This is a confection that has been around a fe...</td>\n",
       "    </tr>\n",
       "    <tr>\n",
       "      <th>3</th>\n",
       "      <td>4</td>\n",
       "      <td>B000UA0QIQ</td>\n",
       "      <td>A395BORC6FGVXV</td>\n",
       "      <td>Karl</td>\n",
       "      <td>3</td>\n",
       "      <td>3</td>\n",
       "      <td>2</td>\n",
       "      <td>1307923200</td>\n",
       "      <td>Cough Medicine</td>\n",
       "      <td>If you are looking for the secret ingredient i...</td>\n",
       "    </tr>\n",
       "    <tr>\n",
       "      <th>4</th>\n",
       "      <td>5</td>\n",
       "      <td>B006K2ZZ7K</td>\n",
       "      <td>A1UQRSCLF8GW1T</td>\n",
       "      <td>Michael D. Bigham \"M. Wassir\"</td>\n",
       "      <td>0</td>\n",
       "      <td>0</td>\n",
       "      <td>5</td>\n",
       "      <td>1350777600</td>\n",
       "      <td>Great taffy</td>\n",
       "      <td>Great taffy at a great price.  There was a wid...</td>\n",
       "    </tr>\n",
       "    <tr>\n",
       "      <th>...</th>\n",
       "      <td>...</td>\n",
       "      <td>...</td>\n",
       "      <td>...</td>\n",
       "      <td>...</td>\n",
       "      <td>...</td>\n",
       "      <td>...</td>\n",
       "      <td>...</td>\n",
       "      <td>...</td>\n",
       "      <td>...</td>\n",
       "      <td>...</td>\n",
       "    </tr>\n",
       "    <tr>\n",
       "      <th>568449</th>\n",
       "      <td>568450</td>\n",
       "      <td>B001EO7N10</td>\n",
       "      <td>A28KG5XORO54AY</td>\n",
       "      <td>Lettie D. Carter</td>\n",
       "      <td>0</td>\n",
       "      <td>0</td>\n",
       "      <td>5</td>\n",
       "      <td>1299628800</td>\n",
       "      <td>Will not do without</td>\n",
       "      <td>Great for sesame chicken..this is a good if no...</td>\n",
       "    </tr>\n",
       "    <tr>\n",
       "      <th>568450</th>\n",
       "      <td>568451</td>\n",
       "      <td>B003S1WTCU</td>\n",
       "      <td>A3I8AFVPEE8KI5</td>\n",
       "      <td>R. Sawyer</td>\n",
       "      <td>0</td>\n",
       "      <td>0</td>\n",
       "      <td>2</td>\n",
       "      <td>1331251200</td>\n",
       "      <td>disappointed</td>\n",
       "      <td>I'm disappointed with the flavor. The chocolat...</td>\n",
       "    </tr>\n",
       "    <tr>\n",
       "      <th>568451</th>\n",
       "      <td>568452</td>\n",
       "      <td>B004I613EE</td>\n",
       "      <td>A121AA1GQV751Z</td>\n",
       "      <td>pksd \"pk_007\"</td>\n",
       "      <td>2</td>\n",
       "      <td>2</td>\n",
       "      <td>5</td>\n",
       "      <td>1329782400</td>\n",
       "      <td>Perfect for our maltipoo</td>\n",
       "      <td>These stars are small, so you can give 10-15 o...</td>\n",
       "    </tr>\n",
       "    <tr>\n",
       "      <th>568452</th>\n",
       "      <td>568453</td>\n",
       "      <td>B004I613EE</td>\n",
       "      <td>A3IBEVCTXKNOH</td>\n",
       "      <td>Kathy A. Welch \"katwel\"</td>\n",
       "      <td>1</td>\n",
       "      <td>1</td>\n",
       "      <td>5</td>\n",
       "      <td>1331596800</td>\n",
       "      <td>Favorite Training and reward treat</td>\n",
       "      <td>These are the BEST treats for training and rew...</td>\n",
       "    </tr>\n",
       "    <tr>\n",
       "      <th>568453</th>\n",
       "      <td>568454</td>\n",
       "      <td>B001LR2CU2</td>\n",
       "      <td>A3LGQPJCZVL9UC</td>\n",
       "      <td>srfell17</td>\n",
       "      <td>0</td>\n",
       "      <td>0</td>\n",
       "      <td>5</td>\n",
       "      <td>1338422400</td>\n",
       "      <td>Great Honey</td>\n",
       "      <td>I am very satisfied ,product is as advertised,...</td>\n",
       "    </tr>\n",
       "  </tbody>\n",
       "</table>\n",
       "<p>568454 rows × 10 columns</p>\n",
       "</div>"
      ]
     },
     "execution_count": 19,
     "metadata": {},
     "output_type": "execute_result"
    }
   ],
   "execution_count": 19
  },
  {
   "metadata": {
    "ExecuteTime": {
     "end_time": "2025-07-07T08:44:46.450590Z",
     "start_time": "2025-07-07T08:44:45.606017Z"
    }
   },
   "cell_type": "code",
   "source": "real_df.drop_duplicates(inplace=True)",
   "id": "d64356445330462f",
   "outputs": [],
   "execution_count": 20
  },
  {
   "metadata": {
    "ExecuteTime": {
     "end_time": "2025-07-07T08:44:56.632201Z",
     "start_time": "2025-07-07T08:44:56.548660Z"
    }
   },
   "cell_type": "code",
   "source": "real_df.isnull().sum()",
   "id": "bd25cc41a18d679f",
   "outputs": [
    {
     "data": {
      "text/plain": [
       "Id                         0\n",
       "ProductId                  0\n",
       "UserId                     0\n",
       "ProfileName               26\n",
       "HelpfulnessNumerator       0\n",
       "HelpfulnessDenominator     0\n",
       "Score                      0\n",
       "Time                       0\n",
       "Summary                   27\n",
       "Text                       0\n",
       "dtype: int64"
      ]
     },
     "execution_count": 21,
     "metadata": {},
     "output_type": "execute_result"
    }
   ],
   "execution_count": 21
  },
  {
   "metadata": {
    "ExecuteTime": {
     "end_time": "2025-07-07T08:49:38.080047Z",
     "start_time": "2025-07-07T08:49:35.745894Z"
    }
   },
   "cell_type": "code",
   "source": [
    "# Veri setlerini birleştirme ve etiketleme\n",
    "import pandas as pd\n",
    "import numpy as np\n",
    "import matplotlib.pyplot as plt\n",
    "import seaborn as sns\n",
    "\n",
    "# Sahte yorumları yükle ve etiketle\n",
    "fake_df = pd.read_csv('data/FakeReviews.csv')\n",
    "fake_df['is_fake'] = 1  # Sahte yorumlar için 1\n",
    "\n",
    "# Gerçek yorumları yükle ve etiketle\n",
    "real_df = pd.read_csv('data/RealReviews.csv')\n",
    "real_df['is_fake'] = 0  # Gerçek yorumlar için 0\n",
    "\n",
    "# Sahte yorumlar için text sütununu standardize et\n",
    "fake_df['text'] = fake_df['text_']\n",
    "\n",
    "# Gerçek yorumlar için text sütununu standardize et\n",
    "real_df['text'] = real_df['Text']\n",
    "\n",
    "# Sadece ihtiyacımız olan sütunları seç\n",
    "fake_selected = fake_df[['text', 'is_fake']]\n",
    "real_selected = real_df[['text', 'is_fake']]\n",
    "\n",
    "# Veri setlerini birleştir\n",
    "combined_df = pd.concat([fake_selected, real_selected], ignore_index=True)\n",
    "\n",
    "print(f\"Toplam veri sayısı: {len(combined_df)}\")\n",
    "print(f\"Sahte yorum sayısı: {len(fake_df)}\")\n",
    "print(f\"Gerçek yorum sayısı: {len(real_df)}\")"
   ],
   "id": "b2a6bf3abb3bd1de",
   "outputs": [
    {
     "name": "stdout",
     "output_type": "stream",
     "text": [
      "Toplam veri sayısı: 608874\n",
      "Sahte yorum sayısı: 40420\n",
      "Gerçek yorum sayısı: 568454\n"
     ]
    }
   ],
   "execution_count": 22
  },
  {
   "metadata": {
    "ExecuteTime": {
     "end_time": "2025-07-07T08:51:26.592429Z",
     "start_time": "2025-07-07T08:51:04.026994Z"
    }
   },
   "cell_type": "code",
   "source": [
    "import re\n",
    "import string\n",
    "from nltk.corpus import stopwords\n",
    "from nltk.tokenize import word_tokenize\n",
    "from nltk.stem import WordNetLemmatizer\n",
    "import nltk\n",
    "\n",
    "# NLTK veri setlerini indir\n",
    "nltk.download('punkt')\n",
    "nltk.download('stopwords')\n",
    "nltk.download('wordnet')\n",
    "nltk.download('omw-1.4')\n",
    "\n",
    "# Metin temizleme fonksiyonu\n",
    "def clean_text(text):\n",
    "    if pd.isna(text):\n",
    "        return \"\"\n",
    "\n",
    "    # Küçük harfe çevir\n",
    "    text = text.lower()\n",
    "\n",
    "    # HTML etiketlerini temizle\n",
    "    text = re.sub(r'<[^>]+>', '', text)\n",
    "\n",
    "    # URL'leri temizle\n",
    "    text = re.sub(r'http\\S+', '', text)\n",
    "\n",
    "    # Noktalama işaretlerini temizle\n",
    "    text = text.translate(str.maketrans('', '', string.punctuation))\n",
    "\n",
    "    # Sayıları temizle\n",
    "    text = re.sub(r'\\d+', '', text)\n",
    "\n",
    "    # Fazla boşlukları temizle\n",
    "    text = re.sub(r'\\s+', ' ', text).strip()\n",
    "\n",
    "    return text\n",
    "\n",
    "# Metin temizleme\n",
    "combined_df['cleaned_text'] = combined_df['text'].apply(clean_text)\n",
    "\n",
    "# Boş metinleri filtrele\n",
    "combined_df = combined_df[combined_df['cleaned_text'].str.len() > 0]"
   ],
   "id": "f36a7540644f4663",
   "outputs": [
    {
     "name": "stderr",
     "output_type": "stream",
     "text": [
      "[nltk_data] Downloading package punkt to\n",
      "[nltk_data]     C:\\Users\\alpar\\AppData\\Roaming\\nltk_data...\n",
      "[nltk_data]   Package punkt is already up-to-date!\n",
      "[nltk_data] Downloading package stopwords to\n",
      "[nltk_data]     C:\\Users\\alpar\\AppData\\Roaming\\nltk_data...\n",
      "[nltk_data]   Package stopwords is already up-to-date!\n",
      "[nltk_data] Downloading package wordnet to\n",
      "[nltk_data]     C:\\Users\\alpar\\AppData\\Roaming\\nltk_data...\n",
      "[nltk_data]   Package wordnet is already up-to-date!\n",
      "[nltk_data] Downloading package omw-1.4 to\n",
      "[nltk_data]     C:\\Users\\alpar\\AppData\\Roaming\\nltk_data...\n"
     ]
    }
   ],
   "execution_count": 23
  },
  {
   "metadata": {
    "ExecuteTime": {
     "end_time": "2025-07-07T08:58:55.501057Z",
     "start_time": "2025-07-07T08:56:24.729859Z"
    }
   },
   "cell_type": "code",
   "source": [
    "# Stop words ve lemmatization\n",
    "stop_words = set(stopwords.words('english'))\n",
    "lemmatizer = WordNetLemmatizer()\n",
    "\n",
    "def preprocess_text(text):\n",
    "    # Tokenize\n",
    "    tokens = word_tokenize(text)\n",
    "\n",
    "    # Stop words'leri kaldır ve lemmatize et\n",
    "    tokens = [lemmatizer.lemmatize(token) for token in tokens if token not in stop_words]\n",
    "\n",
    "    return ' '.join(tokens)\n",
    "\n",
    "# Metin ön işleme\n",
    "combined_df['processed_text'] = combined_df['cleaned_text'].apply(preprocess_text)\n",
    "\n",
    "# Metin uzunluğu analizi\n",
    "combined_df['text_length'] = combined_df['processed_text'].str.len()\n",
    "combined_df['word_count'] = combined_df['processed_text'].str.split().str.len()\n",
    "\n",
    "print(\"Metin ön işleme tamamlandı!\")"
   ],
   "id": "16e455c4bd4844f1",
   "outputs": [
    {
     "name": "stdout",
     "output_type": "stream",
     "text": [
      "Metin ön işleme tamamlandı!\n"
     ]
    }
   ],
   "execution_count": 24
  },
  {
   "metadata": {
    "ExecuteTime": {
     "end_time": "2025-07-07T09:04:11.527825Z",
     "start_time": "2025-07-07T09:04:11.517743Z"
    }
   },
   "cell_type": "code",
   "source": "combined_df",
   "id": "8c10f3c582fd209a",
   "outputs": [
    {
     "data": {
      "text/plain": [
       "                                                     text  is_fake  \\\n",
       "0       Love this!  Well made, sturdy, and very comfor...        1   \n",
       "1       love it, a great upgrade from the original.  I...        1   \n",
       "2       This pillow saved my back. I love the look and...        1   \n",
       "3       Missing information on how to use it, but it i...        1   \n",
       "4       Very nice set. Good quality. We have had the s...        1   \n",
       "...                                                   ...      ...   \n",
       "608869  Great for sesame chicken..this is a good if no...        0   \n",
       "608870  I'm disappointed with the flavor. The chocolat...        0   \n",
       "608871  These stars are small, so you can give 10-15 o...        0   \n",
       "608872  These are the BEST treats for training and rew...        0   \n",
       "608873  I am very satisfied ,product is as advertised,...        0   \n",
       "\n",
       "                                             cleaned_text  \\\n",
       "0       love this well made sturdy and very comfortabl...   \n",
       "1       love it a great upgrade from the original ive ...   \n",
       "2       this pillow saved my back i love the look and ...   \n",
       "3       missing information on how to use it but it is...   \n",
       "4       very nice set good quality we have had the set...   \n",
       "...                                                   ...   \n",
       "608869  great for sesame chickenthis is a good if not ...   \n",
       "608870  im disappointed with the flavor the chocolate ...   \n",
       "608871  these stars are small so you can give of those...   \n",
       "608872  these are the best treats for training and rew...   \n",
       "608873  i am very satisfied product is as advertised i...   \n",
       "\n",
       "                                           processed_text  text_length  \\\n",
       "0       love well made sturdy comfortable love itvery ...           52   \n",
       "1        love great upgrade original ive mine couple year           48   \n",
       "2                 pillow saved back love look feel pillow           39   \n",
       "3             missing information use great product price           43   \n",
       "4                     nice set good quality set two month           35   \n",
       "...                                                   ...          ...   \n",
       "608869  great sesame chickenthis good better resturant...           95   \n",
       "608870  im disappointed flavor chocolate note especial...          158   \n",
       "608871  star small give one training session tried tra...          234   \n",
       "608872  best treat training rewarding dog good groomin...          115   \n",
       "608873  satisfied product advertised use cereal raw vi...           68   \n",
       "\n",
       "        word_count  \n",
       "0                8  \n",
       "1                8  \n",
       "2                7  \n",
       "3                6  \n",
       "4                7  \n",
       "...            ...  \n",
       "608869          14  \n",
       "608870          25  \n",
       "608871          37  \n",
       "608872          18  \n",
       "608873           9  \n",
       "\n",
       "[608872 rows x 6 columns]"
      ],
      "text/html": [
       "<div>\n",
       "<style scoped>\n",
       "    .dataframe tbody tr th:only-of-type {\n",
       "        vertical-align: middle;\n",
       "    }\n",
       "\n",
       "    .dataframe tbody tr th {\n",
       "        vertical-align: top;\n",
       "    }\n",
       "\n",
       "    .dataframe thead th {\n",
       "        text-align: right;\n",
       "    }\n",
       "</style>\n",
       "<table border=\"1\" class=\"dataframe\">\n",
       "  <thead>\n",
       "    <tr style=\"text-align: right;\">\n",
       "      <th></th>\n",
       "      <th>text</th>\n",
       "      <th>is_fake</th>\n",
       "      <th>cleaned_text</th>\n",
       "      <th>processed_text</th>\n",
       "      <th>text_length</th>\n",
       "      <th>word_count</th>\n",
       "    </tr>\n",
       "  </thead>\n",
       "  <tbody>\n",
       "    <tr>\n",
       "      <th>0</th>\n",
       "      <td>Love this!  Well made, sturdy, and very comfor...</td>\n",
       "      <td>1</td>\n",
       "      <td>love this well made sturdy and very comfortabl...</td>\n",
       "      <td>love well made sturdy comfortable love itvery ...</td>\n",
       "      <td>52</td>\n",
       "      <td>8</td>\n",
       "    </tr>\n",
       "    <tr>\n",
       "      <th>1</th>\n",
       "      <td>love it, a great upgrade from the original.  I...</td>\n",
       "      <td>1</td>\n",
       "      <td>love it a great upgrade from the original ive ...</td>\n",
       "      <td>love great upgrade original ive mine couple year</td>\n",
       "      <td>48</td>\n",
       "      <td>8</td>\n",
       "    </tr>\n",
       "    <tr>\n",
       "      <th>2</th>\n",
       "      <td>This pillow saved my back. I love the look and...</td>\n",
       "      <td>1</td>\n",
       "      <td>this pillow saved my back i love the look and ...</td>\n",
       "      <td>pillow saved back love look feel pillow</td>\n",
       "      <td>39</td>\n",
       "      <td>7</td>\n",
       "    </tr>\n",
       "    <tr>\n",
       "      <th>3</th>\n",
       "      <td>Missing information on how to use it, but it i...</td>\n",
       "      <td>1</td>\n",
       "      <td>missing information on how to use it but it is...</td>\n",
       "      <td>missing information use great product price</td>\n",
       "      <td>43</td>\n",
       "      <td>6</td>\n",
       "    </tr>\n",
       "    <tr>\n",
       "      <th>4</th>\n",
       "      <td>Very nice set. Good quality. We have had the s...</td>\n",
       "      <td>1</td>\n",
       "      <td>very nice set good quality we have had the set...</td>\n",
       "      <td>nice set good quality set two month</td>\n",
       "      <td>35</td>\n",
       "      <td>7</td>\n",
       "    </tr>\n",
       "    <tr>\n",
       "      <th>...</th>\n",
       "      <td>...</td>\n",
       "      <td>...</td>\n",
       "      <td>...</td>\n",
       "      <td>...</td>\n",
       "      <td>...</td>\n",
       "      <td>...</td>\n",
       "    </tr>\n",
       "    <tr>\n",
       "      <th>608869</th>\n",
       "      <td>Great for sesame chicken..this is a good if no...</td>\n",
       "      <td>0</td>\n",
       "      <td>great for sesame chickenthis is a good if not ...</td>\n",
       "      <td>great sesame chickenthis good better resturant...</td>\n",
       "      <td>95</td>\n",
       "      <td>14</td>\n",
       "    </tr>\n",
       "    <tr>\n",
       "      <th>608870</th>\n",
       "      <td>I'm disappointed with the flavor. The chocolat...</td>\n",
       "      <td>0</td>\n",
       "      <td>im disappointed with the flavor the chocolate ...</td>\n",
       "      <td>im disappointed flavor chocolate note especial...</td>\n",
       "      <td>158</td>\n",
       "      <td>25</td>\n",
       "    </tr>\n",
       "    <tr>\n",
       "      <th>608871</th>\n",
       "      <td>These stars are small, so you can give 10-15 o...</td>\n",
       "      <td>0</td>\n",
       "      <td>these stars are small so you can give of those...</td>\n",
       "      <td>star small give one training session tried tra...</td>\n",
       "      <td>234</td>\n",
       "      <td>37</td>\n",
       "    </tr>\n",
       "    <tr>\n",
       "      <th>608872</th>\n",
       "      <td>These are the BEST treats for training and rew...</td>\n",
       "      <td>0</td>\n",
       "      <td>these are the best treats for training and rew...</td>\n",
       "      <td>best treat training rewarding dog good groomin...</td>\n",
       "      <td>115</td>\n",
       "      <td>18</td>\n",
       "    </tr>\n",
       "    <tr>\n",
       "      <th>608873</th>\n",
       "      <td>I am very satisfied ,product is as advertised,...</td>\n",
       "      <td>0</td>\n",
       "      <td>i am very satisfied product is as advertised i...</td>\n",
       "      <td>satisfied product advertised use cereal raw vi...</td>\n",
       "      <td>68</td>\n",
       "      <td>9</td>\n",
       "    </tr>\n",
       "  </tbody>\n",
       "</table>\n",
       "<p>608872 rows × 6 columns</p>\n",
       "</div>"
      ]
     },
     "execution_count": 25,
     "metadata": {},
     "output_type": "execute_result"
    }
   ],
   "execution_count": 25
  },
  {
   "metadata": {},
   "cell_type": "code",
   "outputs": [],
   "execution_count": null,
   "source": "",
   "id": "9ec9960d9a8df487"
  },
  {
   "metadata": {
    "ExecuteTime": {
     "end_time": "2025-07-07T09:09:39.177666Z",
     "start_time": "2025-07-07T09:06:31.534966Z"
    }
   },
   "cell_type": "code",
   "source": [
    "from sklearn.feature_extraction.text import TfidfVectorizer, CountVectorizer\n",
    "from textstat import flesch_reading_ease, flesch_kincaid_grade\n",
    "\n",
    "# Metin özelliklerini çıkar\n",
    "def extract_text_features(df):\n",
    "    # Temel özellikler\n",
    "    df['avg_word_length'] = df['processed_text'].apply(lambda x: np.mean([len(word) for word in x.split()]) if x else 0)\n",
    "    df['exclamation_count'] = df['text'].str.count('!')\n",
    "    df['question_count'] = df['text'].str.count('\\?')\n",
    "    df['capital_count'] = df['text'].str.count('[A-Z]')\n",
    "\n",
    "    # Okunabilirlik skorları\n",
    "    df['flesch_score'] = df['text'].apply(lambda x: flesch_reading_ease(x) if x else 0)\n",
    "    df['flesch_kincaid'] = df['text'].apply(lambda x: flesch_kincaid_grade(x) if x else 0)\n",
    "\n",
    "    return df\n",
    "\n",
    "# Özellik çıkarımı\n",
    "combined_df = extract_text_features(combined_df)\n",
    "\n",
    "# TF-IDF Vektörleştirme\n",
    "tfidf = TfidfVectorizer(max_features=5000, min_df=2, max_df=0.8, ngram_range=(1, 2))\n",
    "tfidf_matrix = tfidf.fit_transform(combined_df['processed_text'])\n",
    "\n",
    "print(\"Özellik çıkarımı tamamlandı!\")"
   ],
   "id": "90fda3df168ff9e0",
   "outputs": [
    {
     "name": "stderr",
     "output_type": "stream",
     "text": [
      "<>:9: SyntaxWarning: invalid escape sequence '\\?'\n",
      "<>:9: SyntaxWarning: invalid escape sequence '\\?'\n",
      "C:\\Users\\alpar\\AppData\\Local\\Temp\\ipykernel_35816\\3639700108.py:9: SyntaxWarning: invalid escape sequence '\\?'\n",
      "  df['question_count'] = df['text'].str.count('\\?')\n"
     ]
    },
    {
     "name": "stdout",
     "output_type": "stream",
     "text": [
      "Özellik çıkarımı tamamlandı!\n"
     ]
    }
   ],
   "execution_count": 27
  },
  {
   "metadata": {},
   "cell_type": "code",
   "outputs": [],
   "execution_count": null,
   "source": "",
   "id": "8f5cffcc32557240"
  },
  {
   "metadata": {
    "ExecuteTime": {
     "end_time": "2025-07-07T09:16:13.441390Z",
     "start_time": "2025-07-07T09:16:12.109987Z"
    }
   },
   "cell_type": "code",
   "source": [
    "# Sahte ve gerçek yorumları karşılaştır\n",
    "fig, axes = plt.subplots(2, 2, figsize=(15, 10))\n",
    "\n",
    "# Metin uzunluğu dağılımı\n",
    "axes[0, 0].hist(combined_df[combined_df['is_fake'] == 1]['text_length'], alpha=0.7, label='Sahte', bins=50)\n",
    "axes[0, 0].hist(combined_df[combined_df['is_fake'] == 0]['text_length'], alpha=0.7, label='Gerçek', bins=50)\n",
    "axes[0, 0].set_title('Metin Uzunluğu Dağılımı')\n",
    "axes[0, 0].legend()\n",
    "\n",
    "# Kelime sayısı dağılımı\n",
    "axes[0, 1].hist(combined_df[combined_df['is_fake'] == 1]['word_count'], alpha=0.7, label='Sahte', bins=50)\n",
    "axes[0, 1].hist(combined_df[combined_df['is_fake'] == 0]['word_count'], alpha=0.7, label='Gerçek', bins=50)\n",
    "axes[0, 1].set_title('Kelime Sayısı Dağılımı')\n",
    "axes[0, 1].legend()\n",
    "\n",
    "# Ünlem işareti sayısı\n",
    "axes[1, 0].hist(combined_df[combined_df['is_fake'] == 1]['exclamation_count'], alpha=0.7, label='Sahte', bins=20)\n",
    "axes[1, 0].hist(combined_df[combined_df['is_fake'] == 0]['exclamation_count'], alpha=0.7, label='Gerçek', bins=20)\n",
    "axes[1, 0].set_title('Ünlem İşareti Sayısı')\n",
    "axes[1, 0].legend()\n",
    "\n",
    "# Flesch okunabilirlik skoru\n",
    "axes[1, 1].hist(combined_df[combined_df['is_fake'] == 1]['flesch_score'], alpha=0.7, label='Sahte', bins=50)\n",
    "axes[1, 1].hist(combined_df[combined_df['is_fake'] == 0]['flesch_score'], alpha=0.7, label='Gerçek', bins=50)\n",
    "axes[1, 1].set_title('Flesch Okunabilirlik Skoru')\n",
    "axes[1, 1].legend()\n",
    "\n",
    "plt.tight_layout()\n",
    "plt.show()"
   ],
   "id": "9170247eddd4bd29",
   "outputs": [
    {
     "data": {
      "text/plain": [
       "<Figure size 1500x1000 with 4 Axes>"
      ],
      "image/png": "[encoded data removed]"
     },
     "metadata": {},
     "output_type": "display_data"
    }
   ],
   "execution_count": 28
  },
  {
   "metadata": {},
   "cell_type": "code",
   "outputs": [],
   "execution_count": null,
   "source": "",
   "id": "bad4af2c4f6da7fc"
  },
  {
   "metadata": {
    "ExecuteTime": {
     "end_time": "2025-07-07T09:16:33.616381Z",
     "start_time": "2025-07-07T09:16:26.869955Z"
    }
   },
   "cell_type": "code",
   "source": [
    "from sklearn.model_selection import train_test_split\n",
    "from sklearn.ensemble import RandomForestClassifier\n",
    "from sklearn.linear_model import LogisticRegression\n",
    "from sklearn.metrics import classification_report, confusion_matrix\n",
    "from sklearn.preprocessing import StandardScaler\n",
    "import scipy.sparse as sp\n",
    "\n",
    "# Özellik matrisini hazırla\n",
    "numerical_features = ['text_length', 'word_count', 'avg_word_length',\n",
    "                     'exclamation_count', 'question_count', 'capital_count',\n",
    "                     'flesch_score', 'flesch_kincaid']\n",
    "\n",
    "# Sayısal özellikleri normalize et\n",
    "scaler = StandardScaler()\n",
    "numerical_data = scaler.fit_transform(combined_df[numerical_features])\n",
    "\n",
    "# TF-IDF ve sayısal özellikleri birleştir\n",
    "X = sp.hstack([tfidf_matrix, numerical_data])\n",
    "y = combined_df['is_fake']\n",
    "\n",
    "# Eğitim ve test setlerini ayır\n",
    "X_train, X_test, y_train, y_test = train_test_split(X, y, test_size=0.2, random_state=42, stratify=y)\n",
    "\n",
    "# Model eğitimi\n",
    "model = LogisticRegression(random_state=42, max_iter=1000)\n",
    "model.fit(X_train, y_train)\n",
    "\n",
    "# Tahmin ve değerlendirme\n",
    "y_pred = model.predict(X_test)\n",
    "print(\"Classification Report:\")\n",
    "print(classification_report(y_test, y_pred))\n",
    "\n",
    "# Confusion Matrix\n",
    "cm = confusion_matrix(y_test, y_pred)\n",
    "plt.figure(figsize=(8, 6))\n",
    "sns.heatmap(cm, annot=True, fmt='d', cmap='Blues',\n",
    "            xticklabels=['Gerçek', 'Sahte'],\n",
    "            yticklabels=['Gerçek', 'Sahte'])\n",
    "plt.title('Confusion Matrix')\n",
    "plt.ylabel('Gerçek')\n",
    "plt.xlabel('Tahmin')\n",
    "plt.show()"
   ],
   "id": "1d80254567b7a833",
   "outputs": [
    {
     "name": "stdout",
     "output_type": "stream",
     "text": [
      "Classification Report:\n",
      "              precision    recall  f1-score   support\n",
      "\n",
      "           0       0.99      1.00      0.99    113691\n",
      "           1       0.93      0.80      0.86      8084\n",
      "\n",
      "    accuracy                           0.98    121775\n",
      "   macro avg       0.96      0.90      0.93    121775\n",
      "weighted avg       0.98      0.98      0.98    121775\n",
      "\n"
     ]
    },
    {
     "data": {
      "text/plain": [
       "<Figure size 800x600 with 2 Axes>"
      ],
      "image/png": "[encoded data removed]"
     },
     "metadata": {},
     "output_type": "display_data"
    }
   ],
   "execution_count": 29
  },
  {
   "metadata": {},
   "cell_type": "code",
   "outputs": [],
   "execution_count": null,
   "source": "",
   "id": "934b8df20d8062bd"
  },
  {
   "metadata": {
    "ExecuteTime": {
     "end_time": "2025-07-07T09:16:44.941188Z",
     "start_time": "2025-07-07T09:16:44.911125Z"
    }
   },
   "cell_type": "code",
   "source": [
    "# Yeni yorumları tahmin etmek için fonksiyon\n",
    "def predict_fake_review(text, model, tfidf, scaler):\n",
    "    # Metin temizleme\n",
    "    cleaned = clean_text(text)\n",
    "    processed = preprocess_text(cleaned)\n",
    "\n",
    "    # Özellik çıkarımı\n",
    "    features = {\n",
    "        'text_length': len(processed),\n",
    "        'word_count': len(processed.split()),\n",
    "        'avg_word_length': np.mean([len(word) for word in processed.split()]) if processed else 0,\n",
    "        'exclamation_count': text.count('!'),\n",
    "        'question_count': text.count('?'),\n",
    "        'capital_count': sum(1 for c in text if c.isupper()),\n",
    "        'flesch_score': flesch_reading_ease(text) if text else 0,\n",
    "        'flesch_kincaid': flesch_kincaid_grade(text) if text else 0\n",
    "    }\n",
    "\n",
    "    # TF-IDF vektörü\n",
    "    tfidf_vector = tfidf.transform([processed])\n",
    "\n",
    "    # Sayısal özellikleri normalize et\n",
    "    numerical_vector = scaler.transform([[features[col] for col in numerical_features]])\n",
    "\n",
    "    # Özellikleri birleştir\n",
    "    X_new = sp.hstack([tfidf_vector, numerical_vector])\n",
    "\n",
    "    # Tahmin yap\n",
    "    prediction = model.predict(X_new)[0]\n",
    "    probability = model.predict_proba(X_new)[0]\n",
    "\n",
    "    return {\n",
    "        'prediction': 'Sahte' if prediction == 1 else 'Gerçek',\n",
    "        'fake_probability': probability[1],\n",
    "        'real_probability': probability[0]\n",
    "    }\n",
    "\n",
    "# Örnek tahmin\n",
    "sample_text = \"This product is amazing! Best quality ever! I love it so much!\"\n",
    "result = predict_fake_review(sample_text, model, tfidf, scaler)\n",
    "print(f\"Tahmin: {result['prediction']}\")\n",
    "print(f\"Sahte olma olasılığı: {result['fake_probability']:.2f}\")\n",
    "print(f\"Gerçek olma olasılığı: {result['real_probability']:.2f}\")"
   ],
   "id": "5a335d84e22a3e25",
   "outputs": [
    {
     "name": "stdout",
     "output_type": "stream",
     "text": [
      "Tahmin: Gerçek\n",
      "Sahte olma olasılığı: 0.22\n",
      "Gerçek olma olasılığı: 0.78\n"
     ]
    },
    {
     "name": "stderr",
     "output_type": "stream",
     "text": [
      "C:\\Users\\alpar\\AppData\\Local\\Packages\\PythonSoftwareFoundation.Python.3.12_qbz5n2kfra8p0\\LocalCache\\local-packages\\Python312\\site-packages\\sklearn\\utils\\validation.py:2739: UserWarning: X does not have valid feature names, but StandardScaler was fitted with feature names\n",
      "  warnings.warn(\n"
     ]
    }
   ],
   "execution_count": 30
  },
  {
   "metadata": {},
   "cell_type": "markdown",
   "source": "# Dışa Aktarma",
   "id": "c29d570dc054071b"
  },
  {
   "metadata": {
    "ExecuteTime": {
     "end_time": "2025-07-07T09:29:05.204149Z",
     "start_time": "2025-07-07T09:29:05.145562Z"
    }
   },
   "cell_type": "code",
   "source": [
    "from joblib import dump, load\n",
    "\n",
    "# Modeli pickle kullanarak kaydetme\n",
    "dump(model, 'model.pkl')\n",
    "\n",
    "dump(tfidf, 'tfidf.pkl')\n",
    "\n",
    "dump(scaler, 'scaler.pkl')"
   ],
   "id": "d9c837f0baea18b7",
   "outputs": [
    {
     "data": {
      "text/plain": [
       "['scaler.pkl']"
      ]
     },
     "execution_count": 32,
     "metadata": {},
     "output_type": "execute_result"
    }
   ],
   "execution_count": 32
  }
 ],
 "metadata": {
  "kernelspec": {
   "display_name": "Python 3",
   "language": "python",
   "name": "python3"
  },
  "language_info": {
   "codemirror_mode": {
    "name": "ipython",
    "version": 2
   },
   "file_extension": ".py",
   "mimetype": "text/x-python",
   "name": "python",
   "nbconvert_exporter": "python",
   "pygments_lexer": "ipython2",
   "version": "2.7.6"
  }
 },
 "nbformat": 4,
 "nbformat_minor": 5
}
