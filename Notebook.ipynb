{
 "cells": [
  {
   "cell_type": "code",
   "id": "initial_id",
   "metadata": {
    "collapsed": true,
    "ExecuteTime": {
     "end_time": "2025-07-08T12:29:30.172031Z",
     "start_time": "2025-07-08T12:29:30.168083Z"
    }
   },
   "source": [
    "import pandas as pd\n",
    "import numpy as np\n",
    "import matplotlib.pyplot as plt\n",
    "import seaborn as sns"
   ],
   "outputs": [],
   "execution_count": 2
  },
  {
   "metadata": {
    "ExecuteTime": {
     "end_time": "2025-07-07T15:12:29.193358Z",
     "start_time": "2025-07-07T15:12:29.093596Z"
    }
   },
   "cell_type": "code",
   "source": "fake_df = pd.read_csv('data/FakeReviews.csv')",
   "id": "c6cf1b68a7861daa",
   "outputs": [],
   "execution_count": 27
  },
  {
   "metadata": {
    "ExecuteTime": {
     "end_time": "2025-07-06T13:37:05.253264Z",
     "start_time": "2025-07-06T13:37:05.243294Z"
    }
   },
   "cell_type": "code",
   "source": "fake_df",
   "id": "1ac901ae16efb6e7",
   "outputs": [
    {
     "data": {
      "text/plain": [
       "                           category  rating label  \\\n",
       "0                Home_and_Kitchen_5     5.0    CG   \n",
       "1                Home_and_Kitchen_5     5.0    CG   \n",
       "2                Home_and_Kitchen_5     5.0    CG   \n",
       "3                Home_and_Kitchen_5     1.0    CG   \n",
       "4                Home_and_Kitchen_5     5.0    CG   \n",
       "...                             ...     ...   ...   \n",
       "40427  Clothing_Shoes_and_Jewelry_5     4.0    OR   \n",
       "40428  Clothing_Shoes_and_Jewelry_5     5.0    CG   \n",
       "40429  Clothing_Shoes_and_Jewelry_5     2.0    OR   \n",
       "40430  Clothing_Shoes_and_Jewelry_5     1.0    CG   \n",
       "40431  Clothing_Shoes_and_Jewelry_5     5.0    OR   \n",
       "\n",
       "                                                   text_  \n",
       "0      Love this!  Well made, sturdy, and very comfor...  \n",
       "1      love it, a great upgrade from the original.  I...  \n",
       "2      This pillow saved my back. I love the look and...  \n",
       "3      Missing information on how to use it, but it i...  \n",
       "4      Very nice set. Good quality. We have had the s...  \n",
       "...                                                  ...  \n",
       "40427  I had read some reviews saying that this bra r...  \n",
       "40428  I wasn't sure exactly what it would be. It is ...  \n",
       "40429  You can wear the hood by itself, wear it with ...  \n",
       "40430  I liked nothing about this dress. The only rea...  \n",
       "40431  I work in the wedding industry and have to wor...  \n",
       "\n",
       "[40432 rows x 4 columns]"
      ],
      "text/html": [
       "<div>\n",
       "<style scoped>\n",
       "    .dataframe tbody tr th:only-of-type {\n",
       "        vertical-align: middle;\n",
       "    }\n",
       "\n",
       "    .dataframe tbody tr th {\n",
       "        vertical-align: top;\n",
       "    }\n",
       "\n",
       "    .dataframe thead th {\n",
       "        text-align: right;\n",
       "    }\n",
       "</style>\n",
       "<table border=\"1\" class=\"dataframe\">\n",
       "  <thead>\n",
       "    <tr style=\"text-align: right;\">\n",
       "      <th></th>\n",
       "      <th>category</th>\n",
       "      <th>rating</th>\n",
       "      <th>label</th>\n",
       "      <th>text_</th>\n",
       "    </tr>\n",
       "  </thead>\n",
       "  <tbody>\n",
       "    <tr>\n",
       "      <th>0</th>\n",
       "      <td>Home_and_Kitchen_5</td>\n",
       "      <td>5.0</td>\n",
       "      <td>CG</td>\n",
       "      <td>Love this!  Well made, sturdy, and very comfor...</td>\n",
       "    </tr>\n",
       "    <tr>\n",
       "      <th>1</th>\n",
       "      <td>Home_and_Kitchen_5</td>\n",
       "      <td>5.0</td>\n",
       "      <td>CG</td>\n",
       "      <td>love it, a great upgrade from the original.  I...</td>\n",
       "    </tr>\n",
       "    <tr>\n",
       "      <th>2</th>\n",
       "      <td>Home_and_Kitchen_5</td>\n",
       "      <td>5.0</td>\n",
       "      <td>CG</td>\n",
       "      <td>This pillow saved my back. I love the look and...</td>\n",
       "    </tr>\n",
       "    <tr>\n",
       "      <th>3</th>\n",
       "      <td>Home_and_Kitchen_5</td>\n",
       "      <td>1.0</td>\n",
       "      <td>CG</td>\n",
       "      <td>Missing information on how to use it, but it i...</td>\n",
       "    </tr>\n",
       "    <tr>\n",
       "      <th>4</th>\n",
       "      <td>Home_and_Kitchen_5</td>\n",
       "      <td>5.0</td>\n",
       "      <td>CG</td>\n",
       "      <td>Very nice set. Good quality. We have had the s...</td>\n",
       "    </tr>\n",
       "    <tr>\n",
       "      <th>...</th>\n",
       "      <td>...</td>\n",
       "      <td>...</td>\n",
       "      <td>...</td>\n",
       "      <td>...</td>\n",
       "    </tr>\n",
       "    <tr>\n",
       "      <th>40427</th>\n",
       "      <td>Clothing_Shoes_and_Jewelry_5</td>\n",
       "      <td>4.0</td>\n",
       "      <td>OR</td>\n",
       "      <td>I had read some reviews saying that this bra r...</td>\n",
       "    </tr>\n",
       "    <tr>\n",
       "      <th>40428</th>\n",
       "      <td>Clothing_Shoes_and_Jewelry_5</td>\n",
       "      <td>5.0</td>\n",
       "      <td>CG</td>\n",
       "      <td>I wasn't sure exactly what it would be. It is ...</td>\n",
       "    </tr>\n",
       "    <tr>\n",
       "      <th>40429</th>\n",
       "      <td>Clothing_Shoes_and_Jewelry_5</td>\n",
       "      <td>2.0</td>\n",
       "      <td>OR</td>\n",
       "      <td>You can wear the hood by itself, wear it with ...</td>\n",
       "    </tr>\n",
       "    <tr>\n",
       "      <th>40430</th>\n",
       "      <td>Clothing_Shoes_and_Jewelry_5</td>\n",
       "      <td>1.0</td>\n",
       "      <td>CG</td>\n",
       "      <td>I liked nothing about this dress. The only rea...</td>\n",
       "    </tr>\n",
       "    <tr>\n",
       "      <th>40431</th>\n",
       "      <td>Clothing_Shoes_and_Jewelry_5</td>\n",
       "      <td>5.0</td>\n",
       "      <td>OR</td>\n",
       "      <td>I work in the wedding industry and have to wor...</td>\n",
       "    </tr>\n",
       "  </tbody>\n",
       "</table>\n",
       "<p>40432 rows × 4 columns</p>\n",
       "</div>"
      ]
     },
     "execution_count": 14,
     "metadata": {},
     "output_type": "execute_result"
    }
   ],
   "execution_count": 14
  },
  {
   "metadata": {
    "ExecuteTime": {
     "end_time": "2025-07-06T13:29:14.323972Z",
     "start_time": "2025-07-06T13:29:14.300076Z"
    }
   },
   "cell_type": "code",
   "source": "fake_df.head()",
   "id": "7c22304272053f4e",
   "outputs": [
    {
     "data": {
      "text/plain": [
       "             category  rating label  \\\n",
       "0  Home_and_Kitchen_5     5.0    CG   \n",
       "1  Home_and_Kitchen_5     5.0    CG   \n",
       "2  Home_and_Kitchen_5     5.0    CG   \n",
       "3  Home_and_Kitchen_5     1.0    CG   \n",
       "4  Home_and_Kitchen_5     5.0    CG   \n",
       "\n",
       "                                               text_  \n",
       "0  Love this!  Well made, sturdy, and very comfor...  \n",
       "1  love it, a great upgrade from the original.  I...  \n",
       "2  This pillow saved my back. I love the look and...  \n",
       "3  Missing information on how to use it, but it i...  \n",
       "4  Very nice set. Good quality. We have had the s...  "
      ],
      "text/html": [
       "<div>\n",
       "<style scoped>\n",
       "    .dataframe tbody tr th:only-of-type {\n",
       "        vertical-align: middle;\n",
       "    }\n",
       "\n",
       "    .dataframe tbody tr th {\n",
       "        vertical-align: top;\n",
       "    }\n",
       "\n",
       "    .dataframe thead th {\n",
       "        text-align: right;\n",
       "    }\n",
       "</style>\n",
       "<table border=\"1\" class=\"dataframe\">\n",
       "  <thead>\n",
       "    <tr style=\"text-align: right;\">\n",
       "      <th></th>\n",
       "      <th>category</th>\n",
       "      <th>rating</th>\n",
       "      <th>label</th>\n",
       "      <th>text_</th>\n",
       "    </tr>\n",
       "  </thead>\n",
       "  <tbody>\n",
       "    <tr>\n",
       "      <th>0</th>\n",
       "      <td>Home_and_Kitchen_5</td>\n",
       "      <td>5.0</td>\n",
       "      <td>CG</td>\n",
       "      <td>Love this!  Well made, sturdy, and very comfor...</td>\n",
       "    </tr>\n",
       "    <tr>\n",
       "      <th>1</th>\n",
       "      <td>Home_and_Kitchen_5</td>\n",
       "      <td>5.0</td>\n",
       "      <td>CG</td>\n",
       "      <td>love it, a great upgrade from the original.  I...</td>\n",
       "    </tr>\n",
       "    <tr>\n",
       "      <th>2</th>\n",
       "      <td>Home_and_Kitchen_5</td>\n",
       "      <td>5.0</td>\n",
       "      <td>CG</td>\n",
       "      <td>This pillow saved my back. I love the look and...</td>\n",
       "    </tr>\n",
       "    <tr>\n",
       "      <th>3</th>\n",
       "      <td>Home_and_Kitchen_5</td>\n",
       "      <td>1.0</td>\n",
       "      <td>CG</td>\n",
       "      <td>Missing information on how to use it, but it i...</td>\n",
       "    </tr>\n",
       "    <tr>\n",
       "      <th>4</th>\n",
       "      <td>Home_and_Kitchen_5</td>\n",
       "      <td>5.0</td>\n",
       "      <td>CG</td>\n",
       "      <td>Very nice set. Good quality. We have had the s...</td>\n",
       "    </tr>\n",
       "  </tbody>\n",
       "</table>\n",
       "</div>"
      ]
     },
     "execution_count": 6,
     "metadata": {},
     "output_type": "execute_result"
    }
   ],
   "execution_count": 6
  },
  {
   "metadata": {
    "ExecuteTime": {
     "end_time": "2025-07-06T13:29:58.196523Z",
     "start_time": "2025-07-06T13:29:58.182530Z"
    }
   },
   "cell_type": "code",
   "source": "fake_df.describe()",
   "id": "1fe7b9d25625661",
   "outputs": [
    {
     "data": {
      "text/plain": [
       "             rating\n",
       "count  40432.000000\n",
       "mean       4.256579\n",
       "std        1.144354\n",
       "min        1.000000\n",
       "25%        4.000000\n",
       "50%        5.000000\n",
       "75%        5.000000\n",
       "max        5.000000"
      ],
      "text/html": [
       "<div>\n",
       "<style scoped>\n",
       "    .dataframe tbody tr th:only-of-type {\n",
       "        vertical-align: middle;\n",
       "    }\n",
       "\n",
       "    .dataframe tbody tr th {\n",
       "        vertical-align: top;\n",
       "    }\n",
       "\n",
       "    .dataframe thead th {\n",
       "        text-align: right;\n",
       "    }\n",
       "</style>\n",
       "<table border=\"1\" class=\"dataframe\">\n",
       "  <thead>\n",
       "    <tr style=\"text-align: right;\">\n",
       "      <th></th>\n",
       "      <th>rating</th>\n",
       "    </tr>\n",
       "  </thead>\n",
       "  <tbody>\n",
       "    <tr>\n",
       "      <th>count</th>\n",
       "      <td>40432.000000</td>\n",
       "    </tr>\n",
       "    <tr>\n",
       "      <th>mean</th>\n",
       "      <td>4.256579</td>\n",
       "    </tr>\n",
       "    <tr>\n",
       "      <th>std</th>\n",
       "      <td>1.144354</td>\n",
       "    </tr>\n",
       "    <tr>\n",
       "      <th>min</th>\n",
       "      <td>1.000000</td>\n",
       "    </tr>\n",
       "    <tr>\n",
       "      <th>25%</th>\n",
       "      <td>4.000000</td>\n",
       "    </tr>\n",
       "    <tr>\n",
       "      <th>50%</th>\n",
       "      <td>5.000000</td>\n",
       "    </tr>\n",
       "    <tr>\n",
       "      <th>75%</th>\n",
       "      <td>5.000000</td>\n",
       "    </tr>\n",
       "    <tr>\n",
       "      <th>max</th>\n",
       "      <td>5.000000</td>\n",
       "    </tr>\n",
       "  </tbody>\n",
       "</table>\n",
       "</div>"
      ]
     },
     "execution_count": 7,
     "metadata": {},
     "output_type": "execute_result"
    }
   ],
   "execution_count": 7
  },
  {
   "metadata": {
    "ExecuteTime": {
     "end_time": "2025-07-06T13:30:39.698934Z",
     "start_time": "2025-07-06T13:30:39.687925Z"
    }
   },
   "cell_type": "code",
   "source": "fake_df.info()",
   "id": "ebb4294af02912ec",
   "outputs": [
    {
     "name": "stdout",
     "output_type": "stream",
     "text": [
      "<class 'pandas.core.frame.DataFrame'>\n",
      "RangeIndex: 40432 entries, 0 to 40431\n",
      "Data columns (total 4 columns):\n",
      " #   Column    Non-Null Count  Dtype  \n",
      "---  ------    --------------  -----  \n",
      " 0   category  40432 non-null  object \n",
      " 1   rating    40432 non-null  float64\n",
      " 2   label     40432 non-null  object \n",
      " 3   text_     40432 non-null  object \n",
      "dtypes: float64(1), object(3)\n",
      "memory usage: 1.2+ MB\n"
     ]
    }
   ],
   "execution_count": 9
  },
  {
   "metadata": {
    "ExecuteTime": {
     "end_time": "2025-07-06T13:31:00.708481Z",
     "start_time": "2025-07-06T13:31:00.702107Z"
    }
   },
   "cell_type": "code",
   "source": "fake_df.columns",
   "id": "1b4a4702b6953d8b",
   "outputs": [
    {
     "data": {
      "text/plain": [
       "Index(['category', 'rating', 'label', 'text_'], dtype='object')"
      ]
     },
     "execution_count": 10,
     "metadata": {},
     "output_type": "execute_result"
    }
   ],
   "execution_count": 10
  },
  {
   "metadata": {
    "ExecuteTime": {
     "end_time": "2025-07-06T13:32:23.832233Z",
     "start_time": "2025-07-06T13:32:23.823396Z"
    }
   },
   "cell_type": "code",
   "source": "fake_df.isnull().sum()",
   "id": "97cc634a8900bcda",
   "outputs": [
    {
     "data": {
      "text/plain": [
       "category    0\n",
       "rating      0\n",
       "label       0\n",
       "text_       0\n",
       "dtype: int64"
      ]
     },
     "execution_count": 12,
     "metadata": {},
     "output_type": "execute_result"
    }
   ],
   "execution_count": 12
  },
  {
   "metadata": {
    "ExecuteTime": {
     "end_time": "2025-07-06T13:36:24.563314Z",
     "start_time": "2025-07-06T13:36:24.556989Z"
    }
   },
   "cell_type": "code",
   "source": "fake_df.category.value_counts()",
   "id": "59c2ee7dbdb46e6d",
   "outputs": [
    {
     "data": {
      "text/plain": [
       "category\n",
       "Kindle_Store_5                  4730\n",
       "Books_5                         4370\n",
       "Pet_Supplies_5                  4254\n",
       "Home_and_Kitchen_5              4056\n",
       "Electronics_5                   3988\n",
       "Sports_and_Outdoors_5           3946\n",
       "Tools_and_Home_Improvement_5    3858\n",
       "Clothing_Shoes_and_Jewelry_5    3848\n",
       "Toys_and_Games_5                3794\n",
       "Movies_and_TV_5                 3588\n",
       "Name: count, dtype: int64"
      ]
     },
     "execution_count": 13,
     "metadata": {},
     "output_type": "execute_result"
    }
   ],
   "execution_count": 13
  },
  {
   "metadata": {
    "ExecuteTime": {
     "end_time": "2025-07-07T08:08:17.631652Z",
     "start_time": "2025-07-07T08:08:17.582633Z"
    }
   },
   "cell_type": "code",
   "source": "fake_df.drop_duplicates(inplace=True)",
   "id": "cbd223fb12240133",
   "outputs": [],
   "execution_count": 16
  },
  {
   "metadata": {
    "ExecuteTime": {
     "end_time": "2025-07-07T08:32:27.228094Z",
     "start_time": "2025-07-07T08:32:27.031697Z"
    }
   },
   "cell_type": "code",
   "source": "fake_df.to_csv(\"data/FakeReviews.csv\", index=False)",
   "id": "808235fc2a72bd38",
   "outputs": [],
   "execution_count": 17
  },
  {
   "metadata": {
    "ExecuteTime": {
     "end_time": "2025-07-07T12:21:27.406327Z",
     "start_time": "2025-07-07T12:21:25.318744Z"
    }
   },
   "cell_type": "code",
   "source": "real_df = pd.read_csv('data/RealReviews.csv')",
   "id": "fdaac85cadeebf7",
   "outputs": [],
   "execution_count": 3
  },
  {
   "metadata": {
    "ExecuteTime": {
     "end_time": "2025-07-07T15:06:20.972110Z",
     "start_time": "2025-07-07T15:06:19.855794Z"
    }
   },
   "cell_type": "code",
   "source": "real_df.to_parquet(\"data/RealReviews.parquet\", engine=\"pyarrow\", compression=\"brotli\")  # süper sıkıştırma 🚀",
   "id": "d1bb84476ac090ee",
   "outputs": [],
   "execution_count": 19
  },
  {
   "metadata": {
    "ExecuteTime": {
     "end_time": "2025-07-08T12:29:38.255499Z",
     "start_time": "2025-07-08T12:29:37.020251Z"
    }
   },
   "cell_type": "code",
   "source": "real_df = pd.read_parquet('data/RealReviews.parquet', engine=\"pyarrow\")",
   "id": "8577f6e4f9f909cf",
   "outputs": [],
   "execution_count": 3
  },
  {
   "metadata": {
    "ExecuteTime": {
     "end_time": "2025-07-07T15:06:05.531430Z",
     "start_time": "2025-07-07T15:06:05.527428Z"
    }
   },
   "cell_type": "code",
   "source": "real_df = real_df.head(40420)",
   "id": "20aeb87a5158d3e4",
   "outputs": [],
   "execution_count": 17
  },
  {
   "metadata": {
    "ExecuteTime": {
     "end_time": "2025-07-08T12:29:43.544465Z",
     "start_time": "2025-07-08T12:29:43.435104Z"
    }
   },
   "cell_type": "code",
   "source": "real_df",
   "id": "dac9acfd84113ffc",
   "outputs": [
    {
     "data": {
      "text/plain": [
       "          Id   ProductId          UserId                      ProfileName  \\\n",
       "0          1  B001E4KFG0  A3SGXH7AUHU8GW                       delmartian   \n",
       "1          2  B00813GRG4  A1D87F6ZCVE5NK                           dll pa   \n",
       "2          3  B000LQOCH0   ABXLMWJIXXAIN  Natalia Corres \"Natalia Corres\"   \n",
       "3          4  B000UA0QIQ  A395BORC6FGVXV                             Karl   \n",
       "4          5  B006K2ZZ7K  A1UQRSCLF8GW1T    Michael D. Bigham \"M. Wassir\"   \n",
       "...      ...         ...             ...                              ...   \n",
       "40415  40416  B001ELL3DM   AMRPS4RP775LF                             KitM   \n",
       "40416  40417  B001ELL3DM  A1X25R6G0BDQ7W                           Nicole   \n",
       "40417  40418  B0045JHM8U   ATVSPV7WR1K77                     Irene Harris   \n",
       "40418  40419  B0044MF2YE  A3TTJ4BLEUPWP8                           fidled   \n",
       "40419  40420  B0032GHM4G  A1LGITTPOBIM94                          K. Urak   \n",
       "\n",
       "       HelpfulnessNumerator  HelpfulnessDenominator  Score        Time  \\\n",
       "0                         1                       1      5  1303862400   \n",
       "1                         0                       0      1  1346976000   \n",
       "2                         1                       1      4  1219017600   \n",
       "3                         3                       3      2  1307923200   \n",
       "4                         0                       0      5  1350777600   \n",
       "...                     ...                     ...    ...         ...   \n",
       "40415                     1                       2      2  1303689600   \n",
       "40416                     1                       3      4  1244332800   \n",
       "40417                     0                       0      5  1206144000   \n",
       "40418                     0                       0      1  1350259200   \n",
       "40419                     5                       5      5  1174608000   \n",
       "\n",
       "                               Summary  \\\n",
       "0                Good Quality Dog Food   \n",
       "1                    Not as Advertised   \n",
       "2                \"Delight\" says it all   \n",
       "3                       Cough Medicine   \n",
       "4                          Great taffy   \n",
       "...                                ...   \n",
       "40415                    soggy in milk   \n",
       "40416                       Yummy Bran   \n",
       "40417  Burgers' Smokehouse Biscuit Ham   \n",
       "40418                            Sorry   \n",
       "40419                           Bugles   \n",
       "\n",
       "                                                    Text  \n",
       "0      I have bought several of the Vitality canned d...  \n",
       "1      Product arrived labeled as Jumbo Salted Peanut...  \n",
       "2      This is a confection that has been around a fe...  \n",
       "3      If you are looking for the secret ingredient i...  \n",
       "4      Great taffy at a great price.  There was a wid...  \n",
       "...                                                  ...  \n",
       "40415  If you like soggy cereal then you'll love this...  \n",
       "40416  Its good for bran, slightly sweet. I usually e...  \n",
       "40417  I received a ham and 4 packages of the biscuit...  \n",
       "40418  I was disappointed that it was not half as goo...  \n",
       "40419  My father-in-law is 89 and has been looking ev...  \n",
       "\n",
       "[40420 rows x 10 columns]"
      ],
      "text/html": [
       "<div>\n",
       "<style scoped>\n",
       "    .dataframe tbody tr th:only-of-type {\n",
       "        vertical-align: middle;\n",
       "    }\n",
       "\n",
       "    .dataframe tbody tr th {\n",
       "        vertical-align: top;\n",
       "    }\n",
       "\n",
       "    .dataframe thead th {\n",
       "        text-align: right;\n",
       "    }\n",
       "</style>\n",
       "<table border=\"1\" class=\"dataframe\">\n",
       "  <thead>\n",
       "    <tr style=\"text-align: right;\">\n",
       "      <th></th>\n",
       "      <th>Id</th>\n",
       "      <th>ProductId</th>\n",
       "      <th>UserId</th>\n",
       "      <th>ProfileName</th>\n",
       "      <th>HelpfulnessNumerator</th>\n",
       "      <th>HelpfulnessDenominator</th>\n",
       "      <th>Score</th>\n",
       "      <th>Time</th>\n",
       "      <th>Summary</th>\n",
       "      <th>Text</th>\n",
       "    </tr>\n",
       "  </thead>\n",
       "  <tbody>\n",
       "    <tr>\n",
       "      <th>0</th>\n",
       "      <td>1</td>\n",
       "      <td>B001E4KFG0</td>\n",
       "      <td>A3SGXH7AUHU8GW</td>\n",
       "      <td>delmartian</td>\n",
       "      <td>1</td>\n",
       "      <td>1</td>\n",
       "      <td>5</td>\n",
       "      <td>1303862400</td>\n",
       "      <td>Good Quality Dog Food</td>\n",
       "      <td>I have bought several of the Vitality canned d...</td>\n",
       "    </tr>\n",
       "    <tr>\n",
       "      <th>1</th>\n",
       "      <td>2</td>\n",
       "      <td>B00813GRG4</td>\n",
       "      <td>A1D87F6ZCVE5NK</td>\n",
       "      <td>dll pa</td>\n",
       "      <td>0</td>\n",
       "      <td>0</td>\n",
       "      <td>1</td>\n",
       "      <td>1346976000</td>\n",
       "      <td>Not as Advertised</td>\n",
       "      <td>Product arrived labeled as Jumbo Salted Peanut...</td>\n",
       "    </tr>\n",
       "    <tr>\n",
       "      <th>2</th>\n",
       "      <td>3</td>\n",
       "      <td>B000LQOCH0</td>\n",
       "      <td>ABXLMWJIXXAIN</td>\n",
       "      <td>Natalia Corres \"Natalia Corres\"</td>\n",
       "      <td>1</td>\n",
       "      <td>1</td>\n",
       "      <td>4</td>\n",
       "      <td>1219017600</td>\n",
       "      <td>\"Delight\" says it all</td>\n",
       "      <td>This is a confection that has been around a fe...</td>\n",
       "    </tr>\n",
       "    <tr>\n",
       "      <th>3</th>\n",
       "      <td>4</td>\n",
       "      <td>B000UA0QIQ</td>\n",
       "      <td>A395BORC6FGVXV</td>\n",
       "      <td>Karl</td>\n",
       "      <td>3</td>\n",
       "      <td>3</td>\n",
       "      <td>2</td>\n",
       "      <td>1307923200</td>\n",
       "      <td>Cough Medicine</td>\n",
       "      <td>If you are looking for the secret ingredient i...</td>\n",
       "    </tr>\n",
       "    <tr>\n",
       "      <th>4</th>\n",
       "      <td>5</td>\n",
       "      <td>B006K2ZZ7K</td>\n",
       "      <td>A1UQRSCLF8GW1T</td>\n",
       "      <td>Michael D. Bigham \"M. Wassir\"</td>\n",
       "      <td>0</td>\n",
       "      <td>0</td>\n",
       "      <td>5</td>\n",
       "      <td>1350777600</td>\n",
       "      <td>Great taffy</td>\n",
       "      <td>Great taffy at a great price.  There was a wid...</td>\n",
       "    </tr>\n",
       "    <tr>\n",
       "      <th>...</th>\n",
       "      <td>...</td>\n",
       "      <td>...</td>\n",
       "      <td>...</td>\n",
       "      <td>...</td>\n",
       "      <td>...</td>\n",
       "      <td>...</td>\n",
       "      <td>...</td>\n",
       "      <td>...</td>\n",
       "      <td>...</td>\n",
       "      <td>...</td>\n",
       "    </tr>\n",
       "    <tr>\n",
       "      <th>40415</th>\n",
       "      <td>40416</td>\n",
       "      <td>B001ELL3DM</td>\n",
       "      <td>AMRPS4RP775LF</td>\n",
       "      <td>KitM</td>\n",
       "      <td>1</td>\n",
       "      <td>2</td>\n",
       "      <td>2</td>\n",
       "      <td>1303689600</td>\n",
       "      <td>soggy in milk</td>\n",
       "      <td>If you like soggy cereal then you'll love this...</td>\n",
       "    </tr>\n",
       "    <tr>\n",
       "      <th>40416</th>\n",
       "      <td>40417</td>\n",
       "      <td>B001ELL3DM</td>\n",
       "      <td>A1X25R6G0BDQ7W</td>\n",
       "      <td>Nicole</td>\n",
       "      <td>1</td>\n",
       "      <td>3</td>\n",
       "      <td>4</td>\n",
       "      <td>1244332800</td>\n",
       "      <td>Yummy Bran</td>\n",
       "      <td>Its good for bran, slightly sweet. I usually e...</td>\n",
       "    </tr>\n",
       "    <tr>\n",
       "      <th>40417</th>\n",
       "      <td>40418</td>\n",
       "      <td>B0045JHM8U</td>\n",
       "      <td>ATVSPV7WR1K77</td>\n",
       "      <td>Irene Harris</td>\n",
       "      <td>0</td>\n",
       "      <td>0</td>\n",
       "      <td>5</td>\n",
       "      <td>1206144000</td>\n",
       "      <td>Burgers' Smokehouse Biscuit Ham</td>\n",
       "      <td>I received a ham and 4 packages of the biscuit...</td>\n",
       "    </tr>\n",
       "    <tr>\n",
       "      <th>40418</th>\n",
       "      <td>40419</td>\n",
       "      <td>B0044MF2YE</td>\n",
       "      <td>A3TTJ4BLEUPWP8</td>\n",
       "      <td>fidled</td>\n",
       "      <td>0</td>\n",
       "      <td>0</td>\n",
       "      <td>1</td>\n",
       "      <td>1350259200</td>\n",
       "      <td>Sorry</td>\n",
       "      <td>I was disappointed that it was not half as goo...</td>\n",
       "    </tr>\n",
       "    <tr>\n",
       "      <th>40419</th>\n",
       "      <td>40420</td>\n",
       "      <td>B0032GHM4G</td>\n",
       "      <td>A1LGITTPOBIM94</td>\n",
       "      <td>K. Urak</td>\n",
       "      <td>5</td>\n",
       "      <td>5</td>\n",
       "      <td>5</td>\n",
       "      <td>1174608000</td>\n",
       "      <td>Bugles</td>\n",
       "      <td>My father-in-law is 89 and has been looking ev...</td>\n",
       "    </tr>\n",
       "  </tbody>\n",
       "</table>\n",
       "<p>40420 rows × 10 columns</p>\n",
       "</div>"
      ]
     },
     "execution_count": 4,
     "metadata": {},
     "output_type": "execute_result"
    }
   ],
   "execution_count": 4
  },
  {
   "metadata": {
    "ExecuteTime": {
     "end_time": "2025-07-07T08:44:46.450590Z",
     "start_time": "2025-07-07T08:44:45.606017Z"
    }
   },
   "cell_type": "code",
   "source": "real_df.drop_duplicates(inplace=True)",
   "id": "d64356445330462f",
   "outputs": [],
   "execution_count": 20
  },
  {
   "metadata": {
    "ExecuteTime": {
     "end_time": "2025-07-07T08:44:56.632201Z",
     "start_time": "2025-07-07T08:44:56.548660Z"
    }
   },
   "cell_type": "code",
   "source": "real_df.isnull().sum()",
   "id": "bd25cc41a18d679f",
   "outputs": [
    {
     "data": {
      "text/plain": [
       "Id                         0\n",
       "ProductId                  0\n",
       "UserId                     0\n",
       "ProfileName               26\n",
       "HelpfulnessNumerator       0\n",
       "HelpfulnessDenominator     0\n",
       "Score                      0\n",
       "Time                       0\n",
       "Summary                   27\n",
       "Text                       0\n",
       "dtype: int64"
      ]
     },
     "execution_count": 21,
     "metadata": {},
     "output_type": "execute_result"
    }
   ],
   "execution_count": 21
  },
  {
   "metadata": {
    "ExecuteTime": {
     "end_time": "2025-07-07T14:45:45.123633Z",
     "start_time": "2025-07-07T14:45:45.110649Z"
    }
   },
   "cell_type": "code",
   "source": "real_df.shape",
   "id": "4eee2305a19c11a3",
   "outputs": [
    {
     "data": {
      "text/plain": [
       "(568454, 10)"
      ]
     },
     "execution_count": 7,
     "metadata": {},
     "output_type": "execute_result"
    }
   ],
   "execution_count": 7
  },
  {
   "metadata": {
    "ExecuteTime": {
     "end_time": "2025-07-07T14:46:06.097507Z",
     "start_time": "2025-07-07T14:46:06.093123Z"
    }
   },
   "cell_type": "code",
   "source": "fake_df.shape\n",
   "id": "98bb1df5a8324b68",
   "outputs": [
    {
     "data": {
      "text/plain": [
       "(40420, 4)"
      ]
     },
     "execution_count": 11,
     "metadata": {},
     "output_type": "execute_result"
    }
   ],
   "execution_count": 11
  },
  {
   "metadata": {},
   "cell_type": "code",
   "outputs": [],
   "execution_count": null,
   "source": "",
   "id": "1a353a90391df5c3"
  },
  {
   "metadata": {
    "ExecuteTime": {
     "end_time": "2025-07-07T15:13:25.222224Z",
     "start_time": "2025-07-07T15:13:25.199221Z"
    }
   },
   "cell_type": "code",
   "source": [
    "# Veri setlerini birleştirme ve etiketleme\n",
    "import pandas as pd\n",
    "import numpy as np\n",
    "import matplotlib.pyplot as plt\n",
    "import seaborn as sns\n",
    "\n",
    "# Sahte yorumları yükle ve etiketle\n",
    "fake_df['is_fake'] = 1  # Sahte yorumlar için 1\n",
    "\n",
    "# Gerçek yorumları yükle ve etiketle\n",
    "real_df['is_fake'] = 0  # Gerçek yorumlar için 0\n",
    "\n",
    "# Sahte yorumlar için text sütununu standardize et\n",
    "fake_df['text'] = fake_df['text_']\n",
    "\n",
    "# Gerçek yorumlar için text sütununu standardize et\n",
    "real_df['text'] = real_df['Text']\n",
    "\n",
    "# Sadece ihtiyacımız olan sütunları seç\n",
    "fake_selected = fake_df[['text', 'is_fake']]\n",
    "real_selected = real_df[['text', 'is_fake']]\n",
    "\n",
    "# Veri setlerini birleştir\n",
    "combined_df = pd.concat([fake_selected, real_selected], ignore_index=True)\n",
    "\n",
    "print(f\"Toplam veri sayısı: {len(combined_df)}\")\n",
    "print(f\"Sahte yorum sayısı: {len(fake_df)}\")\n",
    "print(f\"Gerçek yorum sayısı: {len(real_df)}\")"
   ],
   "id": "b2a6bf3abb3bd1de",
   "outputs": [
    {
     "name": "stdout",
     "output_type": "stream",
     "text": [
      "Toplam veri sayısı: 80840\n",
      "Sahte yorum sayısı: 40420\n",
      "Gerçek yorum sayısı: 40420\n"
     ]
    }
   ],
   "execution_count": 30
  },
  {
   "metadata": {},
   "cell_type": "code",
   "outputs": [],
   "execution_count": null,
   "source": "",
   "id": "ef5724ac81074b9f"
  },
  {
   "metadata": {
    "ExecuteTime": {
     "end_time": "2025-07-07T15:13:52.397604Z",
     "start_time": "2025-07-07T15:13:50.759499Z"
    }
   },
   "cell_type": "code",
   "source": [
    "import re\n",
    "import string\n",
    "from nltk.corpus import stopwords\n",
    "from nltk.tokenize import word_tokenize\n",
    "from nltk.stem import WordNetLemmatizer\n",
    "import nltk\n",
    "\n",
    "# NLTK veri setlerini indir\n",
    "nltk.download('punkt')\n",
    "nltk.download('stopwords')\n",
    "nltk.download('wordnet')\n",
    "nltk.download('omw-1.4')\n",
    "\n",
    "# Metin temizleme fonksiyonu\n",
    "def clean_text(text):\n",
    "    if pd.isna(text):\n",
    "        return \"\"\n",
    "\n",
    "    # Küçük harfe çevir\n",
    "    text = text.lower()\n",
    "\n",
    "    # HTML etiketlerini temizle\n",
    "    text = re.sub(r'<[^>]+>', '', text)\n",
    "\n",
    "    # URL'leri temizle\n",
    "    text = re.sub(r'http\\S+', '', text)\n",
    "\n",
    "    # Noktalama işaretlerini temizle\n",
    "    text = text.translate(str.maketrans('', '', string.punctuation))\n",
    "\n",
    "    # Sayıları temizle\n",
    "    text = re.sub(r'\\d+', '', text)\n",
    "\n",
    "    # Fazla boşlukları temizle\n",
    "    text = re.sub(r'\\s+', ' ', text).strip()\n",
    "\n",
    "    return text\n",
    "\n",
    "# Metin temizleme\n",
    "combined_df['cleaned_text'] = combined_df['text'].apply(clean_text)\n",
    "\n",
    "# Boş metinleri filtrele\n",
    "combined_df = combined_df[combined_df['cleaned_text'].str.len() > 0]"
   ],
   "id": "f36a7540644f4663",
   "outputs": [
    {
     "name": "stderr",
     "output_type": "stream",
     "text": [
      "[nltk_data] Downloading package punkt to\n",
      "[nltk_data]     C:\\Users\\alpar\\AppData\\Roaming\\nltk_data...\n",
      "[nltk_data]   Package punkt is already up-to-date!\n",
      "[nltk_data] Downloading package stopwords to\n",
      "[nltk_data]     C:\\Users\\alpar\\AppData\\Roaming\\nltk_data...\n",
      "[nltk_data]   Package stopwords is already up-to-date!\n",
      "[nltk_data] Downloading package wordnet to\n",
      "[nltk_data]     C:\\Users\\alpar\\AppData\\Roaming\\nltk_data...\n",
      "[nltk_data]   Package wordnet is already up-to-date!\n",
      "[nltk_data] Downloading package omw-1.4 to\n",
      "[nltk_data]     C:\\Users\\alpar\\AppData\\Roaming\\nltk_data...\n",
      "[nltk_data]   Package omw-1.4 is already up-to-date!\n"
     ]
    }
   ],
   "execution_count": 32
  },
  {
   "metadata": {
    "ExecuteTime": {
     "end_time": "2025-07-07T15:14:08.938034Z",
     "start_time": "2025-07-07T15:13:53.961484Z"
    }
   },
   "cell_type": "code",
   "source": [
    "# Stop words ve lemmatization\n",
    "stop_words = set(stopwords.words('english'))\n",
    "lemmatizer = WordNetLemmatizer()\n",
    "\n",
    "def preprocess_text(text):\n",
    "    # Tokenize\n",
    "    tokens = word_tokenize(text)\n",
    "\n",
    "    # Stop words'leri kaldır ve lemmatize et\n",
    "    tokens = [lemmatizer.lemmatize(token) for token in tokens if token not in stop_words]\n",
    "\n",
    "    return ' '.join(tokens)\n",
    "\n",
    "# Metin ön işleme\n",
    "combined_df['processed_text'] = combined_df['cleaned_text'].apply(preprocess_text)\n",
    "\n",
    "# Metin uzunluğu analizi\n",
    "combined_df['text_length'] = combined_df['processed_text'].str.len()\n",
    "combined_df['word_count'] = combined_df['processed_text'].str.split().str.len()\n",
    "\n",
    "print(\"Metin ön işleme tamamlandı!\")"
   ],
   "id": "16e455c4bd4844f1",
   "outputs": [
    {
     "name": "stdout",
     "output_type": "stream",
     "text": [
      "Metin ön işleme tamamlandı!\n"
     ]
    }
   ],
   "execution_count": 33
  },
  {
   "metadata": {
    "ExecuteTime": {
     "end_time": "2025-07-07T15:14:14.229382Z",
     "start_time": "2025-07-07T15:14:14.222287Z"
    }
   },
   "cell_type": "code",
   "source": "combined_df",
   "id": "8c10f3c582fd209a",
   "outputs": [
    {
     "data": {
      "text/plain": [
       "                                                    text  is_fake  \\\n",
       "0      Love this!  Well made, sturdy, and very comfor...        1   \n",
       "1      love it, a great upgrade from the original.  I...        1   \n",
       "2      This pillow saved my back. I love the look and...        1   \n",
       "3      Missing information on how to use it, but it i...        1   \n",
       "4      Very nice set. Good quality. We have had the s...        1   \n",
       "...                                                  ...      ...   \n",
       "80835  If you like soggy cereal then you'll love this...        0   \n",
       "80836  Its good for bran, slightly sweet. I usually e...        0   \n",
       "80837  I received a ham and 4 packages of the biscuit...        0   \n",
       "80838  I was disappointed that it was not half as goo...        0   \n",
       "80839  My father-in-law is 89 and has been looking ev...        0   \n",
       "\n",
       "                                            cleaned_text  \\\n",
       "0      love this well made sturdy and very comfortabl...   \n",
       "1      love it a great upgrade from the original ive ...   \n",
       "2      this pillow saved my back i love the look and ...   \n",
       "3      missing information on how to use it but it is...   \n",
       "4      very nice set good quality we have had the set...   \n",
       "...                                                  ...   \n",
       "80835  if you like soggy cereal then youll love this ...   \n",
       "80836  its good for bran slightly sweet i usually eat...   \n",
       "80837  i received a ham and packages of the biscuit s...   \n",
       "80838  i was disappointed that it was not half as goo...   \n",
       "80839  my fatherinlaw is and has been looking everywh...   \n",
       "\n",
       "                                          processed_text  text_length  \\\n",
       "0      love well made sturdy comfortable love itvery ...           52   \n",
       "1       love great upgrade original ive mine couple year           48   \n",
       "2                pillow saved back love look feel pillow           39   \n",
       "3            missing information use great product price           43   \n",
       "4                    nice set good quality set two month           35   \n",
       "...                                                  ...          ...   \n",
       "80835  like soggy cereal youll love wanted like high ...          136   \n",
       "80836  good bran slightly sweet usually eat half serv...          129   \n",
       "80837  received ham package biscuit sized ham slice c...          245   \n",
       "80838  disappointed half good lawrys meatloaf mix too...           75   \n",
       "80839  fatherinlaw looking everywhere bugle great lit...          133   \n",
       "\n",
       "       word_count  \n",
       "0               8  \n",
       "1               8  \n",
       "2               7  \n",
       "3               6  \n",
       "4               7  \n",
       "...           ...  \n",
       "80835          23  \n",
       "80836          20  \n",
       "80837          39  \n",
       "80838          10  \n",
       "80839          20  \n",
       "\n",
       "[80839 rows x 6 columns]"
      ],
      "text/html": [
       "<div>\n",
       "<style scoped>\n",
       "    .dataframe tbody tr th:only-of-type {\n",
       "        vertical-align: middle;\n",
       "    }\n",
       "\n",
       "    .dataframe tbody tr th {\n",
       "        vertical-align: top;\n",
       "    }\n",
       "\n",
       "    .dataframe thead th {\n",
       "        text-align: right;\n",
       "    }\n",
       "</style>\n",
       "<table border=\"1\" class=\"dataframe\">\n",
       "  <thead>\n",
       "    <tr style=\"text-align: right;\">\n",
       "      <th></th>\n",
       "      <th>text</th>\n",
       "      <th>is_fake</th>\n",
       "      <th>cleaned_text</th>\n",
       "      <th>processed_text</th>\n",
       "      <th>text_length</th>\n",
       "      <th>word_count</th>\n",
       "    </tr>\n",
       "  </thead>\n",
       "  <tbody>\n",
       "    <tr>\n",
       "      <th>0</th>\n",
       "      <td>Love this!  Well made, sturdy, and very comfor...</td>\n",
       "      <td>1</td>\n",
       "      <td>love this well made sturdy and very comfortabl...</td>\n",
       "      <td>love well made sturdy comfortable love itvery ...</td>\n",
       "      <td>52</td>\n",
       "      <td>8</td>\n",
       "    </tr>\n",
       "    <tr>\n",
       "      <th>1</th>\n",
       "      <td>love it, a great upgrade from the original.  I...</td>\n",
       "      <td>1</td>\n",
       "      <td>love it a great upgrade from the original ive ...</td>\n",
       "      <td>love great upgrade original ive mine couple year</td>\n",
       "      <td>48</td>\n",
       "      <td>8</td>\n",
       "    </tr>\n",
       "    <tr>\n",
       "      <th>2</th>\n",
       "      <td>This pillow saved my back. I love the look and...</td>\n",
       "      <td>1</td>\n",
       "      <td>this pillow saved my back i love the look and ...</td>\n",
       "      <td>pillow saved back love look feel pillow</td>\n",
       "      <td>39</td>\n",
       "      <td>7</td>\n",
       "    </tr>\n",
       "    <tr>\n",
       "      <th>3</th>\n",
       "      <td>Missing information on how to use it, but it i...</td>\n",
       "      <td>1</td>\n",
       "      <td>missing information on how to use it but it is...</td>\n",
       "      <td>missing information use great product price</td>\n",
       "      <td>43</td>\n",
       "      <td>6</td>\n",
       "    </tr>\n",
       "    <tr>\n",
       "      <th>4</th>\n",
       "      <td>Very nice set. Good quality. We have had the s...</td>\n",
       "      <td>1</td>\n",
       "      <td>very nice set good quality we have had the set...</td>\n",
       "      <td>nice set good quality set two month</td>\n",
       "      <td>35</td>\n",
       "      <td>7</td>\n",
       "    </tr>\n",
       "    <tr>\n",
       "      <th>...</th>\n",
       "      <td>...</td>\n",
       "      <td>...</td>\n",
       "      <td>...</td>\n",
       "      <td>...</td>\n",
       "      <td>...</td>\n",
       "      <td>...</td>\n",
       "    </tr>\n",
       "    <tr>\n",
       "      <th>80835</th>\n",
       "      <td>If you like soggy cereal then you'll love this...</td>\n",
       "      <td>0</td>\n",
       "      <td>if you like soggy cereal then youll love this ...</td>\n",
       "      <td>like soggy cereal youll love wanted like high ...</td>\n",
       "      <td>136</td>\n",
       "      <td>23</td>\n",
       "    </tr>\n",
       "    <tr>\n",
       "      <th>80836</th>\n",
       "      <td>Its good for bran, slightly sweet. I usually e...</td>\n",
       "      <td>0</td>\n",
       "      <td>its good for bran slightly sweet i usually eat...</td>\n",
       "      <td>good bran slightly sweet usually eat half serv...</td>\n",
       "      <td>129</td>\n",
       "      <td>20</td>\n",
       "    </tr>\n",
       "    <tr>\n",
       "      <th>80837</th>\n",
       "      <td>I received a ham and 4 packages of the biscuit...</td>\n",
       "      <td>0</td>\n",
       "      <td>i received a ham and packages of the biscuit s...</td>\n",
       "      <td>received ham package biscuit sized ham slice c...</td>\n",
       "      <td>245</td>\n",
       "      <td>39</td>\n",
       "    </tr>\n",
       "    <tr>\n",
       "      <th>80838</th>\n",
       "      <td>I was disappointed that it was not half as goo...</td>\n",
       "      <td>0</td>\n",
       "      <td>i was disappointed that it was not half as goo...</td>\n",
       "      <td>disappointed half good lawrys meatloaf mix too...</td>\n",
       "      <td>75</td>\n",
       "      <td>10</td>\n",
       "    </tr>\n",
       "    <tr>\n",
       "      <th>80839</th>\n",
       "      <td>My father-in-law is 89 and has been looking ev...</td>\n",
       "      <td>0</td>\n",
       "      <td>my fatherinlaw is and has been looking everywh...</td>\n",
       "      <td>fatherinlaw looking everywhere bugle great lit...</td>\n",
       "      <td>133</td>\n",
       "      <td>20</td>\n",
       "    </tr>\n",
       "  </tbody>\n",
       "</table>\n",
       "<p>80839 rows × 6 columns</p>\n",
       "</div>"
      ]
     },
     "execution_count": 34,
     "metadata": {},
     "output_type": "execute_result"
    }
   ],
   "execution_count": 34
  },
  {
   "metadata": {},
   "cell_type": "code",
   "outputs": [],
   "execution_count": null,
   "source": "",
   "id": "9ec9960d9a8df487"
  },
  {
   "metadata": {
    "ExecuteTime": {
     "end_time": "2025-07-07T15:21:33.255134Z",
     "start_time": "2025-07-07T15:21:14.232445Z"
    }
   },
   "cell_type": "code",
   "source": [
    "from sklearn.feature_extraction.text import TfidfVectorizer, CountVectorizer\n",
    "from textstat import flesch_reading_ease, flesch_kincaid_grade\n",
    "\n",
    "# Metin özelliklerini çıkar\n",
    "def extract_text_features(df):\n",
    "    # Temel özellikler\n",
    "    df['avg_word_length'] = df['processed_text'].apply(lambda x: np.mean([len(word) for word in x.split()]) if x else 0)\n",
    "    df['exclamation_count'] = df['text'].str.count('!')\n",
    "    df['question_count'] = df['text'].str.count('\\?')\n",
    "    df['capital_count'] = df['text'].str.count('[A-Z]')\n",
    "\n",
    "    # Okunabilirlik skorları\n",
    "    df['flesch_score'] = df['text'].apply(lambda x: flesch_reading_ease(x) if x else 0)\n",
    "    df['flesch_kincaid'] = df['text'].apply(lambda x: flesch_kincaid_grade(x) if x else 0)\n",
    "\n",
    "    return df\n",
    "\n",
    "# Özellik çıkarımı\n",
    "combined_df = extract_text_features(combined_df)\n",
    "\n",
    "# TF-IDF Vektörleştirme\n",
    "tfidf = TfidfVectorizer(max_features=5000, min_df=2, max_df=0.8, ngram_range=(1, 2))\n",
    "tfidf_matrix = tfidf.fit_transform(combined_df['processed_text'])\n",
    "\n",
    "print(\"Özellik çıkarımı tamamlandı!\")"
   ],
   "id": "90fda3df168ff9e0",
   "outputs": [
    {
     "name": "stderr",
     "output_type": "stream",
     "text": [
      "<>:9: SyntaxWarning: invalid escape sequence '\\?'\n",
      "<>:9: SyntaxWarning: invalid escape sequence '\\?'\n",
      "C:\\Users\\alpar\\AppData\\Local\\Temp\\ipykernel_33812\\431186191.py:9: SyntaxWarning: invalid escape sequence '\\?'\n",
      "  df['question_count'] = df['text'].str.count('\\?')\n"
     ]
    },
    {
     "name": "stdout",
     "output_type": "stream",
     "text": [
      "Özellik çıkarımı tamamlandı!\n"
     ]
    }
   ],
   "execution_count": 36
  },
  {
   "metadata": {},
   "cell_type": "code",
   "outputs": [],
   "execution_count": null,
   "source": "",
   "id": "8f5cffcc32557240"
  },
  {
   "metadata": {
    "ExecuteTime": {
     "end_time": "2025-07-07T15:21:37.650889Z",
     "start_time": "2025-07-07T15:21:37.116871Z"
    }
   },
   "cell_type": "code",
   "source": [
    "# Sahte ve gerçek yorumları karşılaştır\n",
    "fig, axes = plt.subplots(2, 2, figsize=(15, 10))\n",
    "\n",
    "# Metin uzunluğu dağılımı\n",
    "axes[0, 0].hist(combined_df[combined_df['is_fake'] == 1]['text_length'], alpha=0.7, label='Sahte', bins=50)\n",
    "axes[0, 0].hist(combined_df[combined_df['is_fake'] == 0]['text_length'], alpha=0.7, label='Gerçek', bins=50)\n",
    "axes[0, 0].set_title('Metin Uzunluğu Dağılımı')\n",
    "axes[0, 0].legend()\n",
    "\n",
    "# Kelime sayısı dağılımı\n",
    "axes[0, 1].hist(combined_df[combined_df['is_fake'] == 1]['word_count'], alpha=0.7, label='Sahte', bins=50)\n",
    "axes[0, 1].hist(combined_df[combined_df['is_fake'] == 0]['word_count'], alpha=0.7, label='Gerçek', bins=50)\n",
    "axes[0, 1].set_title('Kelime Sayısı Dağılımı')\n",
    "axes[0, 1].legend()\n",
    "\n",
    "# Ünlem işareti sayısı\n",
    "axes[1, 0].hist(combined_df[combined_df['is_fake'] == 1]['exclamation_count'], alpha=0.7, label='Sahte', bins=20)\n",
    "axes[1, 0].hist(combined_df[combined_df['is_fake'] == 0]['exclamation_count'], alpha=0.7, label='Gerçek', bins=20)\n",
    "axes[1, 0].set_title('Ünlem İşareti Sayısı')\n",
    "axes[1, 0].legend()\n",
    "\n",
    "# Flesch okunabilirlik skoru\n",
    "axes[1, 1].hist(combined_df[combined_df['is_fake'] == 1]['flesch_score'], alpha=0.7, label='Sahte', bins=50)\n",
    "axes[1, 1].hist(combined_df[combined_df['is_fake'] == 0]['flesch_score'], alpha=0.7, label='Gerçek', bins=50)\n",
    "axes[1, 1].set_title('Flesch Okunabilirlik Skoru')\n",
    "axes[1, 1].legend()\n",
    "\n",
    "plt.tight_layout()\n",
    "plt.show()"
   ],
   "id": "9170247eddd4bd29",
   "outputs": [
    {
     "data": {
      "text/plain": [
       "<Figure size 1500x1000 with 4 Axes>"
      ],
      "image/png": "[encoded data removed]"
     },
     "metadata": {},
     "output_type": "display_data"
    }
   ],
   "execution_count": 37
  },
  {
   "metadata": {},
   "cell_type": "code",
   "outputs": [],
   "execution_count": null,
   "source": "",
   "id": "bad4af2c4f6da7fc"
  },
  {
   "metadata": {
    "ExecuteTime": {
     "end_time": "2025-07-07T15:21:42.827049Z",
     "start_time": "2025-07-07T15:21:41.070991Z"
    }
   },
   "cell_type": "code",
   "source": [
    "from sklearn.model_selection import train_test_split\n",
    "from sklearn.ensemble import RandomForestClassifier\n",
    "from sklearn.linear_model import LogisticRegression\n",
    "from sklearn.metrics import classification_report, confusion_matrix\n",
    "from sklearn.preprocessing import StandardScaler\n",
    "import scipy.sparse as sp\n",
    "\n",
    "# Özellik matrisini hazırla\n",
    "numerical_features = ['text_length', 'word_count', 'avg_word_length',\n",
    "                     'exclamation_count', 'question_count', 'capital_count',\n",
    "                     'flesch_score', 'flesch_kincaid']\n",
    "\n",
    "# Sayısal özellikleri normalize et\n",
    "scaler = StandardScaler()\n",
    "numerical_data = scaler.fit_transform(combined_df[numerical_features])\n",
    "\n",
    "# TF-IDF ve sayısal özellikleri birleştir\n",
    "X = sp.hstack([tfidf_matrix, numerical_data])\n",
    "y = combined_df['is_fake']\n",
    "\n",
    "# Eğitim ve test setlerini ayır\n",
    "X_train, X_test, y_train, y_test = train_test_split(X, y, test_size=0.2, random_state=42, stratify=y)\n",
    "\n",
    "# Model eğitimi\n",
    "model = LogisticRegression(random_state=42, max_iter=1000)\n",
    "model.fit(X_train, y_train)\n",
    "\n",
    "# Tahmin ve değerlendirme\n",
    "y_pred = model.predict(X_test)\n",
    "print(\"Classification Report:\")\n",
    "print(classification_report(y_test, y_pred))\n",
    "\n",
    "# Confusion Matrix\n",
    "cm = confusion_matrix(y_test, y_pred)\n",
    "plt.figure(figsize=(8, 6))\n",
    "sns.heatmap(cm, annot=True, fmt='d', cmap='Blues',\n",
    "            xticklabels=['Gerçek', 'Sahte'],\n",
    "            yticklabels=['Gerçek', 'Sahte'])\n",
    "plt.title('Confusion Matrix')\n",
    "plt.ylabel('Gerçek')\n",
    "plt.xlabel('Tahmin')\n",
    "plt.show()"
   ],
   "id": "1d80254567b7a833",
   "outputs": [
    {
     "name": "stdout",
     "output_type": "stream",
     "text": [
      "Classification Report:\n",
      "              precision    recall  f1-score   support\n",
      "\n",
      "           0       0.96      0.96      0.96      8084\n",
      "           1       0.96      0.96      0.96      8084\n",
      "\n",
      "    accuracy                           0.96     16168\n",
      "   macro avg       0.96      0.96      0.96     16168\n",
      "weighted avg       0.96      0.96      0.96     16168\n",
      "\n"
     ]
    },
    {
     "data": {
      "text/plain": [
       "<Figure size 800x600 with 2 Axes>"
      ],
      "image/png": "[encoded data removed]"
     },
     "metadata": {},
     "output_type": "display_data"
    }
   ],
   "execution_count": 38
  },
  {
   "metadata": {},
   "cell_type": "code",
   "outputs": [],
   "execution_count": null,
   "source": "",
   "id": "934b8df20d8062bd"
  },
  {
   "metadata": {
    "ExecuteTime": {
     "end_time": "2025-07-07T15:21:57.727677Z",
     "start_time": "2025-07-07T15:21:57.719771Z"
    }
   },
   "cell_type": "code",
   "source": [
    "# Yeni yorumları tahmin etmek için fonksiyon\n",
    "def predict_fake_review(text, model, tfidf, scaler):\n",
    "    # Metin temizleme\n",
    "    cleaned = clean_text(text)\n",
    "    processed = preprocess_text(cleaned)\n",
    "\n",
    "    # Özellik çıkarımı\n",
    "    features = {\n",
    "        'text_length': len(processed),\n",
    "        'word_count': len(processed.split()),\n",
    "        'avg_word_length': np.mean([len(word) for word in processed.split()]) if processed else 0,\n",
    "        'exclamation_count': text.count('!'),\n",
    "        'question_count': text.count('?'),\n",
    "        'capital_count': sum(1 for c in text if c.isupper()),\n",
    "        'flesch_score': flesch_reading_ease(text) if text else 0,\n",
    "        'flesch_kincaid': flesch_kincaid_grade(text) if text else 0\n",
    "    }\n",
    "\n",
    "    # TF-IDF vektörü\n",
    "    tfidf_vector = tfidf.transform([processed])\n",
    "\n",
    "    # Sayısal özellikleri normalize et\n",
    "    numerical_vector = scaler.transform([[features[col] for col in numerical_features]])\n",
    "\n",
    "    # Özellikleri birleştir\n",
    "    X_new = sp.hstack([tfidf_vector, numerical_vector])\n",
    "\n",
    "    # Tahmin yap\n",
    "    prediction = model.predict(X_new)[0]\n",
    "    probability = model.predict_proba(X_new)[0]\n",
    "\n",
    "    return {\n",
    "        'prediction': 'Sahte' if prediction == 1 else 'Gerçek',\n",
    "        'fake_probability': probability[1],\n",
    "        'real_probability': probability[0]\n",
    "    }\n",
    "\n",
    "# Örnek tahmin\n",
    "sample_text = \"This product is amazing! Best quality ever! I love it so much!\"\n",
    "result = predict_fake_review(sample_text, model, tfidf, scaler)\n",
    "print(f\"Tahmin: {result['prediction']}\")\n",
    "print(f\"Sahte olma olasılığı: {result['fake_probability']:.2f}\")\n",
    "print(f\"Gerçek olma olasılığı: {result['real_probability']:.2f}\")"
   ],
   "id": "5a335d84e22a3e25",
   "outputs": [
    {
     "name": "stdout",
     "output_type": "stream",
     "text": [
      "Tahmin: Sahte\n",
      "Sahte olma olasılığı: 0.72\n",
      "Gerçek olma olasılığı: 0.28\n"
     ]
    },
    {
     "name": "stderr",
     "output_type": "stream",
     "text": [
      "C:\\Users\\alpar\\AppData\\Local\\Packages\\PythonSoftwareFoundation.Python.3.12_qbz5n2kfra8p0\\LocalCache\\local-packages\\Python312\\site-packages\\sklearn\\utils\\validation.py:2739: UserWarning: X does not have valid feature names, but StandardScaler was fitted with feature names\n",
      "  warnings.warn(\n"
     ]
    }
   ],
   "execution_count": 40
  },
  {
   "metadata": {},
   "cell_type": "markdown",
   "source": "# Dışa Aktarma",
   "id": "c29d570dc054071b"
  },
  {
   "metadata": {
    "ExecuteTime": {
     "end_time": "2025-07-07T15:22:10.699727Z",
     "start_time": "2025-07-07T15:22:10.656840Z"
    }
   },
   "cell_type": "code",
   "source": [
    "from joblib import dump, load\n",
    "\n",
    "# Modeli pickle kullanarak kaydetme\n",
    "dump(model, 'model.pkl')\n",
    "\n",
    "dump(tfidf, 'tfidf.pkl')\n",
    "\n",
    "dump(scaler, 'scaler.pkl')"
   ],
   "id": "d9c837f0baea18b7",
   "outputs": [
    {
     "data": {
      "text/plain": [
       "['scaler.pkl']"
      ]
     },
     "execution_count": 41,
     "metadata": {},
     "output_type": "execute_result"
    }
   ],
   "execution_count": 41
  }
 ],
 "metadata": {
  "kernelspec": {
   "display_name": "Python 3",
   "language": "python",
   "name": "python3"
  },
  "language_info": {
   "codemirror_mode": {
    "name": "ipython",
    "version": 2
   },
   "file_extension": ".py",
   "mimetype": "text/x-python",
   "name": "python",
   "nbconvert_exporter": "python",
   "pygments_lexer": "ipython2",
   "version": "2.7.6"
  }
 },
 "nbformat": 4,
 "nbformat_minor": 5
}
